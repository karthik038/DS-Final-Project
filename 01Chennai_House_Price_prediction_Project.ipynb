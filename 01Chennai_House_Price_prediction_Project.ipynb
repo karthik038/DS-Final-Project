{
  "nbformat": 4,
  "nbformat_minor": 0,
  "metadata": {
    "colab": {
      "name": "01Chennai House Price prediction Project.ipynb",
      "provenance": [],
      "collapsed_sections": [],
      "authorship_tag": "ABX9TyNaArQNrvZmaTF2KTF6nVJO",
      "include_colab_link": true
    },
    "kernelspec": {
      "name": "python3",
      "display_name": "Python 3"
    },
    "language_info": {
      "name": "python"
    },
    "widgets": {
      "application/vnd.jupyter.widget-state+json": {
        "2ecf10ef4c314fd2bfd5dcc8b8848c7b": {
          "model_module": "@jupyter-widgets/controls",
          "model_name": "HBoxModel",
          "model_module_version": "1.5.0",
          "state": {
            "_dom_classes": [],
            "_model_module": "@jupyter-widgets/controls",
            "_model_module_version": "1.5.0",
            "_model_name": "HBoxModel",
            "_view_count": null,
            "_view_module": "@jupyter-widgets/controls",
            "_view_module_version": "1.5.0",
            "_view_name": "HBoxView",
            "box_style": "",
            "children": [
              "IPY_MODEL_22057f98b2314392b4cda5c1ad056059",
              "IPY_MODEL_0809c113974047e7aea958da75c4ecdb",
              "IPY_MODEL_3fd6a5a779844283a85ac11c566f82ca"
            ],
            "layout": "IPY_MODEL_da31b5089b574aff975bdfa9fe315ffa"
          }
        },
        "22057f98b2314392b4cda5c1ad056059": {
          "model_module": "@jupyter-widgets/controls",
          "model_name": "HTMLModel",
          "model_module_version": "1.5.0",
          "state": {
            "_dom_classes": [],
            "_model_module": "@jupyter-widgets/controls",
            "_model_module_version": "1.5.0",
            "_model_name": "HTMLModel",
            "_view_count": null,
            "_view_module": "@jupyter-widgets/controls",
            "_view_module_version": "1.5.0",
            "_view_name": "HTMLView",
            "description": "",
            "description_tooltip": null,
            "layout": "IPY_MODEL_3da7244d672146738c20b0ca86b11b55",
            "placeholder": "​",
            "style": "IPY_MODEL_6976ae2858dc4374a97f8d0ece78366c",
            "value": "Done! Use &#x27;show&#x27; commands to display/save.   "
          }
        },
        "0809c113974047e7aea958da75c4ecdb": {
          "model_module": "@jupyter-widgets/controls",
          "model_name": "FloatProgressModel",
          "model_module_version": "1.5.0",
          "state": {
            "_dom_classes": [],
            "_model_module": "@jupyter-widgets/controls",
            "_model_module_version": "1.5.0",
            "_model_name": "FloatProgressModel",
            "_view_count": null,
            "_view_module": "@jupyter-widgets/controls",
            "_view_module_version": "1.5.0",
            "_view_name": "ProgressView",
            "bar_style": "success",
            "description": "",
            "description_tooltip": null,
            "layout": "IPY_MODEL_412a3d0b5a444193b59a2366bc5a25ff",
            "max": 1,
            "min": 0,
            "orientation": "horizontal",
            "style": "IPY_MODEL_35ebab786b994fcbb85334f3eaba2cc4",
            "value": 1
          }
        },
        "3fd6a5a779844283a85ac11c566f82ca": {
          "model_module": "@jupyter-widgets/controls",
          "model_name": "HTMLModel",
          "model_module_version": "1.5.0",
          "state": {
            "_dom_classes": [],
            "_model_module": "@jupyter-widgets/controls",
            "_model_module_version": "1.5.0",
            "_model_name": "HTMLModel",
            "_view_count": null,
            "_view_module": "@jupyter-widgets/controls",
            "_view_module_version": "1.5.0",
            "_view_name": "HTMLView",
            "description": "",
            "description_tooltip": null,
            "layout": "IPY_MODEL_b2c3fefe03ba4cb2b5129b46d3a4489f",
            "placeholder": "​",
            "style": "IPY_MODEL_ae7e4f33568e4592ac7c5247cbed29ac",
            "value": " [100%]   00:03 -&gt; (00:00 left)"
          }
        },
        "da31b5089b574aff975bdfa9fe315ffa": {
          "model_module": "@jupyter-widgets/base",
          "model_name": "LayoutModel",
          "model_module_version": "1.2.0",
          "state": {
            "_model_module": "@jupyter-widgets/base",
            "_model_module_version": "1.2.0",
            "_model_name": "LayoutModel",
            "_view_count": null,
            "_view_module": "@jupyter-widgets/base",
            "_view_module_version": "1.2.0",
            "_view_name": "LayoutView",
            "align_content": null,
            "align_items": null,
            "align_self": null,
            "border": null,
            "bottom": null,
            "display": "inline-flex",
            "flex": null,
            "flex_flow": "row wrap",
            "grid_area": null,
            "grid_auto_columns": null,
            "grid_auto_flow": null,
            "grid_auto_rows": null,
            "grid_column": null,
            "grid_gap": null,
            "grid_row": null,
            "grid_template_areas": null,
            "grid_template_columns": null,
            "grid_template_rows": null,
            "height": null,
            "justify_content": null,
            "justify_items": null,
            "left": null,
            "margin": null,
            "max_height": null,
            "max_width": null,
            "min_height": null,
            "min_width": null,
            "object_fit": null,
            "object_position": null,
            "order": null,
            "overflow": null,
            "overflow_x": null,
            "overflow_y": null,
            "padding": null,
            "right": null,
            "top": null,
            "visibility": null,
            "width": "100%"
          }
        },
        "3da7244d672146738c20b0ca86b11b55": {
          "model_module": "@jupyter-widgets/base",
          "model_name": "LayoutModel",
          "model_module_version": "1.2.0",
          "state": {
            "_model_module": "@jupyter-widgets/base",
            "_model_module_version": "1.2.0",
            "_model_name": "LayoutModel",
            "_view_count": null,
            "_view_module": "@jupyter-widgets/base",
            "_view_module_version": "1.2.0",
            "_view_name": "LayoutView",
            "align_content": null,
            "align_items": null,
            "align_self": null,
            "border": null,
            "bottom": null,
            "display": null,
            "flex": null,
            "flex_flow": null,
            "grid_area": null,
            "grid_auto_columns": null,
            "grid_auto_flow": null,
            "grid_auto_rows": null,
            "grid_column": null,
            "grid_gap": null,
            "grid_row": null,
            "grid_template_areas": null,
            "grid_template_columns": null,
            "grid_template_rows": null,
            "height": null,
            "justify_content": null,
            "justify_items": null,
            "left": null,
            "margin": null,
            "max_height": null,
            "max_width": null,
            "min_height": null,
            "min_width": null,
            "object_fit": null,
            "object_position": null,
            "order": null,
            "overflow": null,
            "overflow_x": null,
            "overflow_y": null,
            "padding": null,
            "right": null,
            "top": null,
            "visibility": null,
            "width": null
          }
        },
        "6976ae2858dc4374a97f8d0ece78366c": {
          "model_module": "@jupyter-widgets/controls",
          "model_name": "DescriptionStyleModel",
          "model_module_version": "1.5.0",
          "state": {
            "_model_module": "@jupyter-widgets/controls",
            "_model_module_version": "1.5.0",
            "_model_name": "DescriptionStyleModel",
            "_view_count": null,
            "_view_module": "@jupyter-widgets/base",
            "_view_module_version": "1.2.0",
            "_view_name": "StyleView",
            "description_width": ""
          }
        },
        "412a3d0b5a444193b59a2366bc5a25ff": {
          "model_module": "@jupyter-widgets/base",
          "model_name": "LayoutModel",
          "model_module_version": "1.2.0",
          "state": {
            "_model_module": "@jupyter-widgets/base",
            "_model_module_version": "1.2.0",
            "_model_name": "LayoutModel",
            "_view_count": null,
            "_view_module": "@jupyter-widgets/base",
            "_view_module_version": "1.2.0",
            "_view_name": "LayoutView",
            "align_content": null,
            "align_items": null,
            "align_self": null,
            "border": null,
            "bottom": null,
            "display": null,
            "flex": "2",
            "flex_flow": null,
            "grid_area": null,
            "grid_auto_columns": null,
            "grid_auto_flow": null,
            "grid_auto_rows": null,
            "grid_column": null,
            "grid_gap": null,
            "grid_row": null,
            "grid_template_areas": null,
            "grid_template_columns": null,
            "grid_template_rows": null,
            "height": null,
            "justify_content": null,
            "justify_items": null,
            "left": null,
            "margin": null,
            "max_height": null,
            "max_width": null,
            "min_height": null,
            "min_width": null,
            "object_fit": null,
            "object_position": null,
            "order": null,
            "overflow": null,
            "overflow_x": null,
            "overflow_y": null,
            "padding": null,
            "right": null,
            "top": null,
            "visibility": null,
            "width": null
          }
        },
        "35ebab786b994fcbb85334f3eaba2cc4": {
          "model_module": "@jupyter-widgets/controls",
          "model_name": "ProgressStyleModel",
          "model_module_version": "1.5.0",
          "state": {
            "_model_module": "@jupyter-widgets/controls",
            "_model_module_version": "1.5.0",
            "_model_name": "ProgressStyleModel",
            "_view_count": null,
            "_view_module": "@jupyter-widgets/base",
            "_view_module_version": "1.2.0",
            "_view_name": "StyleView",
            "bar_color": null,
            "description_width": ""
          }
        },
        "b2c3fefe03ba4cb2b5129b46d3a4489f": {
          "model_module": "@jupyter-widgets/base",
          "model_name": "LayoutModel",
          "model_module_version": "1.2.0",
          "state": {
            "_model_module": "@jupyter-widgets/base",
            "_model_module_version": "1.2.0",
            "_model_name": "LayoutModel",
            "_view_count": null,
            "_view_module": "@jupyter-widgets/base",
            "_view_module_version": "1.2.0",
            "_view_name": "LayoutView",
            "align_content": null,
            "align_items": null,
            "align_self": null,
            "border": null,
            "bottom": null,
            "display": null,
            "flex": null,
            "flex_flow": null,
            "grid_area": null,
            "grid_auto_columns": null,
            "grid_auto_flow": null,
            "grid_auto_rows": null,
            "grid_column": null,
            "grid_gap": null,
            "grid_row": null,
            "grid_template_areas": null,
            "grid_template_columns": null,
            "grid_template_rows": null,
            "height": null,
            "justify_content": null,
            "justify_items": null,
            "left": null,
            "margin": null,
            "max_height": null,
            "max_width": null,
            "min_height": null,
            "min_width": null,
            "object_fit": null,
            "object_position": null,
            "order": null,
            "overflow": null,
            "overflow_x": null,
            "overflow_y": null,
            "padding": null,
            "right": null,
            "top": null,
            "visibility": null,
            "width": null
          }
        },
        "ae7e4f33568e4592ac7c5247cbed29ac": {
          "model_module": "@jupyter-widgets/controls",
          "model_name": "DescriptionStyleModel",
          "model_module_version": "1.5.0",
          "state": {
            "_model_module": "@jupyter-widgets/controls",
            "_model_module_version": "1.5.0",
            "_model_name": "DescriptionStyleModel",
            "_view_count": null,
            "_view_module": "@jupyter-widgets/base",
            "_view_module_version": "1.2.0",
            "_view_name": "StyleView",
            "description_width": ""
          }
        }
      }
    }
  },
  "cells": [
    {
      "cell_type": "markdown",
      "metadata": {
        "id": "view-in-github",
        "colab_type": "text"
      },
      "source": [
        "<a href=\"https://colab.research.google.com/github/karthik038/DS-Final-Project/blob/main/01Chennai_House_Price_prediction_Project.ipynb\" target=\"_parent\"><img src=\"https://colab.research.google.com/assets/colab-badge.svg\" alt=\"Open In Colab\"/></a>"
      ]
    },
    {
      "cell_type": "markdown",
      "source": [
        "# **Data Science Project: Chennai House Price Prediction**"
      ],
      "metadata": {
        "id": "9lG-mr0gpfxd"
      }
    },
    {
      "cell_type": "code",
      "execution_count": 1,
      "metadata": {
        "id": "o_oZIsrnryQ0"
      },
      "outputs": [],
      "source": [
        "#Generic Libraries\n",
        "import pandas as pd\n",
        "import numpy as np\n",
        "import seaborn as sns\n",
        "import matplotlib.pyplot as plt"
      ]
    },
    {
      "cell_type": "code",
      "source": [
        "#Collection of the dataset\n",
        "#Independant data/Indepandent variable\n",
        "df = pd.read_csv(\"train-chennai-sale.csv\")\n",
        "df.head()"
      ],
      "metadata": {
        "colab": {
          "base_uri": "https://localhost:8080/",
          "height": 297
        },
        "id": "17TSth-Ks74y",
        "outputId": "33c7b0fe-0876-440b-c5dc-1b65cd7c93c9"
      },
      "execution_count": 2,
      "outputs": [
        {
          "output_type": "execute_result",
          "data": {
            "text/plain": [
              "   PRT_ID        AREA  INT_SQFT   DATE_SALE  DIST_MAINROAD  N_BEDROOM  \\\n",
              "0  P03210  Karapakkam      1004  04-05-2011            131        1.0   \n",
              "1  P09411  Anna Nagar      1986  19-12-2006             26        2.0   \n",
              "2  P01812       Adyar       909  04-02-2012             70        1.0   \n",
              "3  P05346   Velachery      1855  13-03-2010             14        3.0   \n",
              "4  P06210  Karapakkam      1226  05-10-2009             84        1.0   \n",
              "\n",
              "   N_BATHROOM  N_ROOM SALE_COND PARK_FACIL  ... UTILITY_AVAIL  STREET MZZONE  \\\n",
              "0         1.0       3  AbNormal        Yes  ...        AllPub   Paved      A   \n",
              "1         1.0       5  AbNormal         No  ...        AllPub  Gravel     RH   \n",
              "2         1.0       3  AbNormal        Yes  ...           ELO  Gravel     RL   \n",
              "3         2.0       5    Family         No  ...       NoSewr    Paved      I   \n",
              "4         1.0       3  AbNormal        Yes  ...        AllPub  Gravel      C   \n",
              "\n",
              "  QS_ROOMS QS_BATHROOM  QS_BEDROOM  QS_OVERALL  REG_FEE  COMMIS  SALES_PRICE  \n",
              "0      4.0         3.9         4.9       4.330   380000  144400      7600000  \n",
              "1      4.9         4.2         2.5       3.765   760122  304049     21717770  \n",
              "2      4.1         3.8         2.2       3.090   421094   92114     13159200  \n",
              "3      4.7         3.9         3.6       4.010   356321   77042      9630290  \n",
              "4      3.0         2.5         4.1       3.290   237000   74063      7406250  \n",
              "\n",
              "[5 rows x 22 columns]"
            ],
            "text/html": [
              "\n",
              "  <div id=\"df-b40f9510-bbc9-4352-a79c-9a815b616ac9\">\n",
              "    <div class=\"colab-df-container\">\n",
              "      <div>\n",
              "<style scoped>\n",
              "    .dataframe tbody tr th:only-of-type {\n",
              "        vertical-align: middle;\n",
              "    }\n",
              "\n",
              "    .dataframe tbody tr th {\n",
              "        vertical-align: top;\n",
              "    }\n",
              "\n",
              "    .dataframe thead th {\n",
              "        text-align: right;\n",
              "    }\n",
              "</style>\n",
              "<table border=\"1\" class=\"dataframe\">\n",
              "  <thead>\n",
              "    <tr style=\"text-align: right;\">\n",
              "      <th></th>\n",
              "      <th>PRT_ID</th>\n",
              "      <th>AREA</th>\n",
              "      <th>INT_SQFT</th>\n",
              "      <th>DATE_SALE</th>\n",
              "      <th>DIST_MAINROAD</th>\n",
              "      <th>N_BEDROOM</th>\n",
              "      <th>N_BATHROOM</th>\n",
              "      <th>N_ROOM</th>\n",
              "      <th>SALE_COND</th>\n",
              "      <th>PARK_FACIL</th>\n",
              "      <th>...</th>\n",
              "      <th>UTILITY_AVAIL</th>\n",
              "      <th>STREET</th>\n",
              "      <th>MZZONE</th>\n",
              "      <th>QS_ROOMS</th>\n",
              "      <th>QS_BATHROOM</th>\n",
              "      <th>QS_BEDROOM</th>\n",
              "      <th>QS_OVERALL</th>\n",
              "      <th>REG_FEE</th>\n",
              "      <th>COMMIS</th>\n",
              "      <th>SALES_PRICE</th>\n",
              "    </tr>\n",
              "  </thead>\n",
              "  <tbody>\n",
              "    <tr>\n",
              "      <th>0</th>\n",
              "      <td>P03210</td>\n",
              "      <td>Karapakkam</td>\n",
              "      <td>1004</td>\n",
              "      <td>04-05-2011</td>\n",
              "      <td>131</td>\n",
              "      <td>1.0</td>\n",
              "      <td>1.0</td>\n",
              "      <td>3</td>\n",
              "      <td>AbNormal</td>\n",
              "      <td>Yes</td>\n",
              "      <td>...</td>\n",
              "      <td>AllPub</td>\n",
              "      <td>Paved</td>\n",
              "      <td>A</td>\n",
              "      <td>4.0</td>\n",
              "      <td>3.9</td>\n",
              "      <td>4.9</td>\n",
              "      <td>4.330</td>\n",
              "      <td>380000</td>\n",
              "      <td>144400</td>\n",
              "      <td>7600000</td>\n",
              "    </tr>\n",
              "    <tr>\n",
              "      <th>1</th>\n",
              "      <td>P09411</td>\n",
              "      <td>Anna Nagar</td>\n",
              "      <td>1986</td>\n",
              "      <td>19-12-2006</td>\n",
              "      <td>26</td>\n",
              "      <td>2.0</td>\n",
              "      <td>1.0</td>\n",
              "      <td>5</td>\n",
              "      <td>AbNormal</td>\n",
              "      <td>No</td>\n",
              "      <td>...</td>\n",
              "      <td>AllPub</td>\n",
              "      <td>Gravel</td>\n",
              "      <td>RH</td>\n",
              "      <td>4.9</td>\n",
              "      <td>4.2</td>\n",
              "      <td>2.5</td>\n",
              "      <td>3.765</td>\n",
              "      <td>760122</td>\n",
              "      <td>304049</td>\n",
              "      <td>21717770</td>\n",
              "    </tr>\n",
              "    <tr>\n",
              "      <th>2</th>\n",
              "      <td>P01812</td>\n",
              "      <td>Adyar</td>\n",
              "      <td>909</td>\n",
              "      <td>04-02-2012</td>\n",
              "      <td>70</td>\n",
              "      <td>1.0</td>\n",
              "      <td>1.0</td>\n",
              "      <td>3</td>\n",
              "      <td>AbNormal</td>\n",
              "      <td>Yes</td>\n",
              "      <td>...</td>\n",
              "      <td>ELO</td>\n",
              "      <td>Gravel</td>\n",
              "      <td>RL</td>\n",
              "      <td>4.1</td>\n",
              "      <td>3.8</td>\n",
              "      <td>2.2</td>\n",
              "      <td>3.090</td>\n",
              "      <td>421094</td>\n",
              "      <td>92114</td>\n",
              "      <td>13159200</td>\n",
              "    </tr>\n",
              "    <tr>\n",
              "      <th>3</th>\n",
              "      <td>P05346</td>\n",
              "      <td>Velachery</td>\n",
              "      <td>1855</td>\n",
              "      <td>13-03-2010</td>\n",
              "      <td>14</td>\n",
              "      <td>3.0</td>\n",
              "      <td>2.0</td>\n",
              "      <td>5</td>\n",
              "      <td>Family</td>\n",
              "      <td>No</td>\n",
              "      <td>...</td>\n",
              "      <td>NoSewr</td>\n",
              "      <td>Paved</td>\n",
              "      <td>I</td>\n",
              "      <td>4.7</td>\n",
              "      <td>3.9</td>\n",
              "      <td>3.6</td>\n",
              "      <td>4.010</td>\n",
              "      <td>356321</td>\n",
              "      <td>77042</td>\n",
              "      <td>9630290</td>\n",
              "    </tr>\n",
              "    <tr>\n",
              "      <th>4</th>\n",
              "      <td>P06210</td>\n",
              "      <td>Karapakkam</td>\n",
              "      <td>1226</td>\n",
              "      <td>05-10-2009</td>\n",
              "      <td>84</td>\n",
              "      <td>1.0</td>\n",
              "      <td>1.0</td>\n",
              "      <td>3</td>\n",
              "      <td>AbNormal</td>\n",
              "      <td>Yes</td>\n",
              "      <td>...</td>\n",
              "      <td>AllPub</td>\n",
              "      <td>Gravel</td>\n",
              "      <td>C</td>\n",
              "      <td>3.0</td>\n",
              "      <td>2.5</td>\n",
              "      <td>4.1</td>\n",
              "      <td>3.290</td>\n",
              "      <td>237000</td>\n",
              "      <td>74063</td>\n",
              "      <td>7406250</td>\n",
              "    </tr>\n",
              "  </tbody>\n",
              "</table>\n",
              "<p>5 rows × 22 columns</p>\n",
              "</div>\n",
              "      <button class=\"colab-df-convert\" onclick=\"convertToInteractive('df-b40f9510-bbc9-4352-a79c-9a815b616ac9')\"\n",
              "              title=\"Convert this dataframe to an interactive table.\"\n",
              "              style=\"display:none;\">\n",
              "        \n",
              "  <svg xmlns=\"http://www.w3.org/2000/svg\" height=\"24px\"viewBox=\"0 0 24 24\"\n",
              "       width=\"24px\">\n",
              "    <path d=\"M0 0h24v24H0V0z\" fill=\"none\"/>\n",
              "    <path d=\"M18.56 5.44l.94 2.06.94-2.06 2.06-.94-2.06-.94-.94-2.06-.94 2.06-2.06.94zm-11 1L8.5 8.5l.94-2.06 2.06-.94-2.06-.94L8.5 2.5l-.94 2.06-2.06.94zm10 10l.94 2.06.94-2.06 2.06-.94-2.06-.94-.94-2.06-.94 2.06-2.06.94z\"/><path d=\"M17.41 7.96l-1.37-1.37c-.4-.4-.92-.59-1.43-.59-.52 0-1.04.2-1.43.59L10.3 9.45l-7.72 7.72c-.78.78-.78 2.05 0 2.83L4 21.41c.39.39.9.59 1.41.59.51 0 1.02-.2 1.41-.59l7.78-7.78 2.81-2.81c.8-.78.8-2.07 0-2.86zM5.41 20L4 18.59l7.72-7.72 1.47 1.35L5.41 20z\"/>\n",
              "  </svg>\n",
              "      </button>\n",
              "      \n",
              "  <style>\n",
              "    .colab-df-container {\n",
              "      display:flex;\n",
              "      flex-wrap:wrap;\n",
              "      gap: 12px;\n",
              "    }\n",
              "\n",
              "    .colab-df-convert {\n",
              "      background-color: #E8F0FE;\n",
              "      border: none;\n",
              "      border-radius: 50%;\n",
              "      cursor: pointer;\n",
              "      display: none;\n",
              "      fill: #1967D2;\n",
              "      height: 32px;\n",
              "      padding: 0 0 0 0;\n",
              "      width: 32px;\n",
              "    }\n",
              "\n",
              "    .colab-df-convert:hover {\n",
              "      background-color: #E2EBFA;\n",
              "      box-shadow: 0px 1px 2px rgba(60, 64, 67, 0.3), 0px 1px 3px 1px rgba(60, 64, 67, 0.15);\n",
              "      fill: #174EA6;\n",
              "    }\n",
              "\n",
              "    [theme=dark] .colab-df-convert {\n",
              "      background-color: #3B4455;\n",
              "      fill: #D2E3FC;\n",
              "    }\n",
              "\n",
              "    [theme=dark] .colab-df-convert:hover {\n",
              "      background-color: #434B5C;\n",
              "      box-shadow: 0px 1px 3px 1px rgba(0, 0, 0, 0.15);\n",
              "      filter: drop-shadow(0px 1px 2px rgba(0, 0, 0, 0.3));\n",
              "      fill: #FFFFFF;\n",
              "    }\n",
              "  </style>\n",
              "\n",
              "      <script>\n",
              "        const buttonEl =\n",
              "          document.querySelector('#df-b40f9510-bbc9-4352-a79c-9a815b616ac9 button.colab-df-convert');\n",
              "        buttonEl.style.display =\n",
              "          google.colab.kernel.accessAllowed ? 'block' : 'none';\n",
              "\n",
              "        async function convertToInteractive(key) {\n",
              "          const element = document.querySelector('#df-b40f9510-bbc9-4352-a79c-9a815b616ac9');\n",
              "          const dataTable =\n",
              "            await google.colab.kernel.invokeFunction('convertToInteractive',\n",
              "                                                     [key], {});\n",
              "          if (!dataTable) return;\n",
              "\n",
              "          const docLinkHtml = 'Like what you see? Visit the ' +\n",
              "            '<a target=\"_blank\" href=https://colab.research.google.com/notebooks/data_table.ipynb>data table notebook</a>'\n",
              "            + ' to learn more about interactive tables.';\n",
              "          element.innerHTML = '';\n",
              "          dataTable['output_type'] = 'display_data';\n",
              "          await google.colab.output.renderOutput(dataTable, element);\n",
              "          const docLink = document.createElement('div');\n",
              "          docLink.innerHTML = docLinkHtml;\n",
              "          element.appendChild(docLink);\n",
              "        }\n",
              "      </script>\n",
              "    </div>\n",
              "  </div>\n",
              "  "
            ]
          },
          "metadata": {},
          "execution_count": 2
        }
      ]
    },
    {
      "cell_type": "code",
      "source": [
        "#dependent data/Target Variable\n",
        "df.SALES_PRICE"
      ],
      "metadata": {
        "id": "pxjwBX2utHg2",
        "colab": {
          "base_uri": "https://localhost:8080/"
        },
        "outputId": "45aafe70-7926-4968-dca0-149ed459905a"
      },
      "execution_count": 3,
      "outputs": [
        {
          "output_type": "execute_result",
          "data": {
            "text/plain": [
              "0        7600000\n",
              "1       21717770\n",
              "2       13159200\n",
              "3        9630290\n",
              "4        7406250\n",
              "          ...   \n",
              "7104     5353000\n",
              "7105    10818480\n",
              "7106     8351410\n",
              "7107     8507000\n",
              "7108     9976480\n",
              "Name: SALES_PRICE, Length: 7109, dtype: int64"
            ]
          },
          "metadata": {},
          "execution_count": 3
        }
      ]
    },
    {
      "cell_type": "code",
      "source": [
        "df.shape"
      ],
      "metadata": {
        "id": "uEKOEEPNtmtO",
        "colab": {
          "base_uri": "https://localhost:8080/"
        },
        "outputId": "0a50fe5b-e6c8-45e5-9f1e-af5986ef4c56"
      },
      "execution_count": 4,
      "outputs": [
        {
          "output_type": "execute_result",
          "data": {
            "text/plain": [
              "(7109, 22)"
            ]
          },
          "metadata": {},
          "execution_count": 4
        }
      ]
    },
    {
      "cell_type": "code",
      "source": [
        "df.columns"
      ],
      "metadata": {
        "colab": {
          "base_uri": "https://localhost:8080/"
        },
        "id": "4cvu0SVsvchS",
        "outputId": "fc07dad4-e312-4f24-eced-d52c93fb8f0c"
      },
      "execution_count": 5,
      "outputs": [
        {
          "output_type": "execute_result",
          "data": {
            "text/plain": [
              "Index(['PRT_ID', 'AREA', 'INT_SQFT', 'DATE_SALE', 'DIST_MAINROAD', 'N_BEDROOM',\n",
              "       'N_BATHROOM', 'N_ROOM', 'SALE_COND', 'PARK_FACIL', 'DATE_BUILD',\n",
              "       'BUILDTYPE', 'UTILITY_AVAIL', 'STREET', 'MZZONE', 'QS_ROOMS',\n",
              "       'QS_BATHROOM', 'QS_BEDROOM', 'QS_OVERALL', 'REG_FEE', 'COMMIS',\n",
              "       'SALES_PRICE'],\n",
              "      dtype='object')"
            ]
          },
          "metadata": {},
          "execution_count": 5
        }
      ]
    },
    {
      "cell_type": "markdown",
      "source": [
        "* Knowing the columns of the dataset"
      ],
      "metadata": {
        "id": "oJgF1g0H5VX6"
      }
    },
    {
      "cell_type": "markdown",
      "source": [
        "## EDA"
      ],
      "metadata": {
        "id": "rbAZDjdTxIiD"
      }
    },
    {
      "cell_type": "code",
      "source": [
        "!pip install sweetviz"
      ],
      "metadata": {
        "id": "6bS7ZwSGvjJr"
      },
      "execution_count": null,
      "outputs": []
    },
    {
      "cell_type": "code",
      "source": [
        "import sweetviz as sv"
      ],
      "metadata": {
        "id": "2YYdyNJvvqid"
      },
      "execution_count": 7,
      "outputs": []
    },
    {
      "cell_type": "code",
      "source": [
        "report = sv.analyze(df)\n",
        "\n",
        "report.show_html(\"./report.html\")"
      ],
      "metadata": {
        "id": "qwdU8aTDxOcu",
        "colab": {
          "base_uri": "https://localhost:8080/",
          "height": 86,
          "referenced_widgets": [
            "2ecf10ef4c314fd2bfd5dcc8b8848c7b",
            "22057f98b2314392b4cda5c1ad056059",
            "0809c113974047e7aea958da75c4ecdb",
            "3fd6a5a779844283a85ac11c566f82ca",
            "da31b5089b574aff975bdfa9fe315ffa",
            "3da7244d672146738c20b0ca86b11b55",
            "6976ae2858dc4374a97f8d0ece78366c",
            "412a3d0b5a444193b59a2366bc5a25ff",
            "35ebab786b994fcbb85334f3eaba2cc4",
            "b2c3fefe03ba4cb2b5129b46d3a4489f",
            "ae7e4f33568e4592ac7c5247cbed29ac"
          ]
        },
        "outputId": "57cdd213-e34a-44cd-92c7-4531d98b19a8"
      },
      "execution_count": 8,
      "outputs": [
        {
          "output_type": "display_data",
          "data": {
            "text/plain": [
              "                                             |          | [  0%]   00:00 -> (? left)"
            ],
            "application/vnd.jupyter.widget-view+json": {
              "version_major": 2,
              "version_minor": 0,
              "model_id": "2ecf10ef4c314fd2bfd5dcc8b8848c7b"
            }
          },
          "metadata": {}
        },
        {
          "output_type": "stream",
          "name": "stdout",
          "text": [
            "Report ./report.html was generated! NOTEBOOK/COLAB USERS: the web browser MAY not pop up, regardless, the report IS saved in your notebook/colab files.\n"
          ]
        }
      ]
    },
    {
      "cell_type": "markdown",
      "source": [
        "* we are getting a better visualization about the datasets using Exploratory\n",
        "Data Analysis(EDA)"
      ],
      "metadata": {
        "id": "-2jQVJed4XdD"
      }
    },
    {
      "cell_type": "markdown",
      "source": [
        "## Data Pre-processing"
      ],
      "metadata": {
        "id": "KjETXA3p3iew"
      }
    },
    {
      "cell_type": "code",
      "source": [
        "df.info()"
      ],
      "metadata": {
        "colab": {
          "base_uri": "https://localhost:8080/"
        },
        "id": "vpMX8EALxRuO",
        "outputId": "ce69be32-5b55-4610-8665-22dfafc28844"
      },
      "execution_count": 9,
      "outputs": [
        {
          "output_type": "stream",
          "name": "stdout",
          "text": [
            "<class 'pandas.core.frame.DataFrame'>\n",
            "RangeIndex: 7109 entries, 0 to 7108\n",
            "Data columns (total 22 columns):\n",
            " #   Column         Non-Null Count  Dtype  \n",
            "---  ------         --------------  -----  \n",
            " 0   PRT_ID         7109 non-null   object \n",
            " 1   AREA           7109 non-null   object \n",
            " 2   INT_SQFT       7109 non-null   int64  \n",
            " 3   DATE_SALE      7109 non-null   object \n",
            " 4   DIST_MAINROAD  7109 non-null   int64  \n",
            " 5   N_BEDROOM      7108 non-null   float64\n",
            " 6   N_BATHROOM     7104 non-null   float64\n",
            " 7   N_ROOM         7109 non-null   int64  \n",
            " 8   SALE_COND      7109 non-null   object \n",
            " 9   PARK_FACIL     7109 non-null   object \n",
            " 10  DATE_BUILD     7109 non-null   object \n",
            " 11  BUILDTYPE      7109 non-null   object \n",
            " 12  UTILITY_AVAIL  7109 non-null   object \n",
            " 13  STREET         7109 non-null   object \n",
            " 14  MZZONE         7109 non-null   object \n",
            " 15  QS_ROOMS       7109 non-null   float64\n",
            " 16  QS_BATHROOM    7109 non-null   float64\n",
            " 17  QS_BEDROOM     7109 non-null   float64\n",
            " 18  QS_OVERALL     7061 non-null   float64\n",
            " 19  REG_FEE        7109 non-null   int64  \n",
            " 20  COMMIS         7109 non-null   int64  \n",
            " 21  SALES_PRICE    7109 non-null   int64  \n",
            "dtypes: float64(6), int64(6), object(10)\n",
            "memory usage: 1.2+ MB\n"
          ]
        }
      ]
    },
    {
      "cell_type": "markdown",
      "source": [
        "\n",
        "\n",
        "*   infomation about the dataset\n",
        "\n"
      ],
      "metadata": {
        "id": "zSkpDvXf5E96"
      }
    },
    {
      "cell_type": "code",
      "source": [
        "#Converting the datatypes from float64 to Int64\n",
        "df['QS_ROOMS'] = np.floor(pd.to_numeric(df['QS_ROOMS'], errors='coerce')).astype('Int64')\n",
        "df['QS_BATHROOM'] = np.floor(pd.to_numeric(df['QS_BATHROOM'], errors='coerce')).astype('Int64')\n",
        "df['QS_BEDROOM'] = np.floor(pd.to_numeric(df['QS_BEDROOM'], errors='coerce')).astype('Int64')\n",
        "df['QS_OVERALL'] = np.floor(pd.to_numeric(df['QS_OVERALL'], errors='coerce')).astype('Int64')"
      ],
      "metadata": {
        "id": "9qZMg_eg3xkD"
      },
      "execution_count": 10,
      "outputs": []
    },
    {
      "cell_type": "code",
      "source": [
        "#Converting the DATE_SALE and DATE_BUILD datatypes from object to Datetime \n",
        "df[\"DATE_SALE\"]=pd.to_datetime(df[\"DATE_SALE\"],infer_datetime_format =True)\n",
        "df[\"DATE_BUILD\"]=pd.to_datetime(df[\"DATE_BUILD\"],infer_datetime_format =True)"
      ],
      "metadata": {
        "id": "qZpJEMe038iV"
      },
      "execution_count": 11,
      "outputs": []
    },
    {
      "cell_type": "code",
      "source": [
        "df.info()"
      ],
      "metadata": {
        "colab": {
          "base_uri": "https://localhost:8080/"
        },
        "id": "gpof4X6V4FuM",
        "outputId": "6ae3df9b-ac81-4fb1-f47a-c59e23c78a08"
      },
      "execution_count": 12,
      "outputs": [
        {
          "output_type": "stream",
          "name": "stdout",
          "text": [
            "<class 'pandas.core.frame.DataFrame'>\n",
            "RangeIndex: 7109 entries, 0 to 7108\n",
            "Data columns (total 22 columns):\n",
            " #   Column         Non-Null Count  Dtype         \n",
            "---  ------         --------------  -----         \n",
            " 0   PRT_ID         7109 non-null   object        \n",
            " 1   AREA           7109 non-null   object        \n",
            " 2   INT_SQFT       7109 non-null   int64         \n",
            " 3   DATE_SALE      7109 non-null   datetime64[ns]\n",
            " 4   DIST_MAINROAD  7109 non-null   int64         \n",
            " 5   N_BEDROOM      7108 non-null   float64       \n",
            " 6   N_BATHROOM     7104 non-null   float64       \n",
            " 7   N_ROOM         7109 non-null   int64         \n",
            " 8   SALE_COND      7109 non-null   object        \n",
            " 9   PARK_FACIL     7109 non-null   object        \n",
            " 10  DATE_BUILD     7109 non-null   datetime64[ns]\n",
            " 11  BUILDTYPE      7109 non-null   object        \n",
            " 12  UTILITY_AVAIL  7109 non-null   object        \n",
            " 13  STREET         7109 non-null   object        \n",
            " 14  MZZONE         7109 non-null   object        \n",
            " 15  QS_ROOMS       7109 non-null   Int64         \n",
            " 16  QS_BATHROOM    7109 non-null   Int64         \n",
            " 17  QS_BEDROOM     7109 non-null   Int64         \n",
            " 18  QS_OVERALL     7061 non-null   Int64         \n",
            " 19  REG_FEE        7109 non-null   int64         \n",
            " 20  COMMIS         7109 non-null   int64         \n",
            " 21  SALES_PRICE    7109 non-null   int64         \n",
            "dtypes: Int64(4), datetime64[ns](2), float64(2), int64(6), object(8)\n",
            "memory usage: 1.2+ MB\n"
          ]
        }
      ]
    },
    {
      "cell_type": "code",
      "source": [
        "#Dropping PRT_ID,REG_FEE,COMMIS,N_ROOM,N_BATHROOM AND N_BEDROOM  columns\n",
        "df1 = df.drop(['PRT_ID','REG_FEE','COMMIS','N_BEDROOM','N_BATHROOM','N_ROOM'], axis='columns')\n",
        "df1.head()"
      ],
      "metadata": {
        "colab": {
          "base_uri": "https://localhost:8080/",
          "height": 268
        },
        "id": "L8soR8t94KVR",
        "outputId": "30d1880e-fd5f-4f96-c4ab-05075d371cbe"
      },
      "execution_count": 13,
      "outputs": [
        {
          "output_type": "execute_result",
          "data": {
            "text/plain": [
              "         AREA  INT_SQFT  DATE_SALE  DIST_MAINROAD SALE_COND PARK_FACIL  \\\n",
              "0  Karapakkam      1004 2011-04-05            131  AbNormal        Yes   \n",
              "1  Anna Nagar      1986 2006-12-19             26  AbNormal         No   \n",
              "2       Adyar       909 2012-04-02             70  AbNormal        Yes   \n",
              "3   Velachery      1855 2010-03-13             14    Family         No   \n",
              "4  Karapakkam      1226 2009-05-10             84  AbNormal        Yes   \n",
              "\n",
              "  DATE_BUILD   BUILDTYPE UTILITY_AVAIL  STREET MZZONE  QS_ROOMS  QS_BATHROOM  \\\n",
              "0 1967-05-15  Commercial        AllPub   Paved      A         4            3   \n",
              "1 1995-12-22  Commercial        AllPub  Gravel     RH         4            4   \n",
              "2 1992-02-09  Commercial           ELO  Gravel     RL         4            3   \n",
              "3 1988-03-18      Others       NoSewr    Paved      I         4            3   \n",
              "4 1979-10-13      Others        AllPub  Gravel      C         3            2   \n",
              "\n",
              "   QS_BEDROOM  QS_OVERALL  SALES_PRICE  \n",
              "0           4           4      7600000  \n",
              "1           2           3     21717770  \n",
              "2           2           3     13159200  \n",
              "3           3           4      9630290  \n",
              "4           4           3      7406250  "
            ],
            "text/html": [
              "\n",
              "  <div id=\"df-3fe34d1b-edaf-4703-bd02-898a98fb1ffc\">\n",
              "    <div class=\"colab-df-container\">\n",
              "      <div>\n",
              "<style scoped>\n",
              "    .dataframe tbody tr th:only-of-type {\n",
              "        vertical-align: middle;\n",
              "    }\n",
              "\n",
              "    .dataframe tbody tr th {\n",
              "        vertical-align: top;\n",
              "    }\n",
              "\n",
              "    .dataframe thead th {\n",
              "        text-align: right;\n",
              "    }\n",
              "</style>\n",
              "<table border=\"1\" class=\"dataframe\">\n",
              "  <thead>\n",
              "    <tr style=\"text-align: right;\">\n",
              "      <th></th>\n",
              "      <th>AREA</th>\n",
              "      <th>INT_SQFT</th>\n",
              "      <th>DATE_SALE</th>\n",
              "      <th>DIST_MAINROAD</th>\n",
              "      <th>SALE_COND</th>\n",
              "      <th>PARK_FACIL</th>\n",
              "      <th>DATE_BUILD</th>\n",
              "      <th>BUILDTYPE</th>\n",
              "      <th>UTILITY_AVAIL</th>\n",
              "      <th>STREET</th>\n",
              "      <th>MZZONE</th>\n",
              "      <th>QS_ROOMS</th>\n",
              "      <th>QS_BATHROOM</th>\n",
              "      <th>QS_BEDROOM</th>\n",
              "      <th>QS_OVERALL</th>\n",
              "      <th>SALES_PRICE</th>\n",
              "    </tr>\n",
              "  </thead>\n",
              "  <tbody>\n",
              "    <tr>\n",
              "      <th>0</th>\n",
              "      <td>Karapakkam</td>\n",
              "      <td>1004</td>\n",
              "      <td>2011-04-05</td>\n",
              "      <td>131</td>\n",
              "      <td>AbNormal</td>\n",
              "      <td>Yes</td>\n",
              "      <td>1967-05-15</td>\n",
              "      <td>Commercial</td>\n",
              "      <td>AllPub</td>\n",
              "      <td>Paved</td>\n",
              "      <td>A</td>\n",
              "      <td>4</td>\n",
              "      <td>3</td>\n",
              "      <td>4</td>\n",
              "      <td>4</td>\n",
              "      <td>7600000</td>\n",
              "    </tr>\n",
              "    <tr>\n",
              "      <th>1</th>\n",
              "      <td>Anna Nagar</td>\n",
              "      <td>1986</td>\n",
              "      <td>2006-12-19</td>\n",
              "      <td>26</td>\n",
              "      <td>AbNormal</td>\n",
              "      <td>No</td>\n",
              "      <td>1995-12-22</td>\n",
              "      <td>Commercial</td>\n",
              "      <td>AllPub</td>\n",
              "      <td>Gravel</td>\n",
              "      <td>RH</td>\n",
              "      <td>4</td>\n",
              "      <td>4</td>\n",
              "      <td>2</td>\n",
              "      <td>3</td>\n",
              "      <td>21717770</td>\n",
              "    </tr>\n",
              "    <tr>\n",
              "      <th>2</th>\n",
              "      <td>Adyar</td>\n",
              "      <td>909</td>\n",
              "      <td>2012-04-02</td>\n",
              "      <td>70</td>\n",
              "      <td>AbNormal</td>\n",
              "      <td>Yes</td>\n",
              "      <td>1992-02-09</td>\n",
              "      <td>Commercial</td>\n",
              "      <td>ELO</td>\n",
              "      <td>Gravel</td>\n",
              "      <td>RL</td>\n",
              "      <td>4</td>\n",
              "      <td>3</td>\n",
              "      <td>2</td>\n",
              "      <td>3</td>\n",
              "      <td>13159200</td>\n",
              "    </tr>\n",
              "    <tr>\n",
              "      <th>3</th>\n",
              "      <td>Velachery</td>\n",
              "      <td>1855</td>\n",
              "      <td>2010-03-13</td>\n",
              "      <td>14</td>\n",
              "      <td>Family</td>\n",
              "      <td>No</td>\n",
              "      <td>1988-03-18</td>\n",
              "      <td>Others</td>\n",
              "      <td>NoSewr</td>\n",
              "      <td>Paved</td>\n",
              "      <td>I</td>\n",
              "      <td>4</td>\n",
              "      <td>3</td>\n",
              "      <td>3</td>\n",
              "      <td>4</td>\n",
              "      <td>9630290</td>\n",
              "    </tr>\n",
              "    <tr>\n",
              "      <th>4</th>\n",
              "      <td>Karapakkam</td>\n",
              "      <td>1226</td>\n",
              "      <td>2009-05-10</td>\n",
              "      <td>84</td>\n",
              "      <td>AbNormal</td>\n",
              "      <td>Yes</td>\n",
              "      <td>1979-10-13</td>\n",
              "      <td>Others</td>\n",
              "      <td>AllPub</td>\n",
              "      <td>Gravel</td>\n",
              "      <td>C</td>\n",
              "      <td>3</td>\n",
              "      <td>2</td>\n",
              "      <td>4</td>\n",
              "      <td>3</td>\n",
              "      <td>7406250</td>\n",
              "    </tr>\n",
              "  </tbody>\n",
              "</table>\n",
              "</div>\n",
              "      <button class=\"colab-df-convert\" onclick=\"convertToInteractive('df-3fe34d1b-edaf-4703-bd02-898a98fb1ffc')\"\n",
              "              title=\"Convert this dataframe to an interactive table.\"\n",
              "              style=\"display:none;\">\n",
              "        \n",
              "  <svg xmlns=\"http://www.w3.org/2000/svg\" height=\"24px\"viewBox=\"0 0 24 24\"\n",
              "       width=\"24px\">\n",
              "    <path d=\"M0 0h24v24H0V0z\" fill=\"none\"/>\n",
              "    <path d=\"M18.56 5.44l.94 2.06.94-2.06 2.06-.94-2.06-.94-.94-2.06-.94 2.06-2.06.94zm-11 1L8.5 8.5l.94-2.06 2.06-.94-2.06-.94L8.5 2.5l-.94 2.06-2.06.94zm10 10l.94 2.06.94-2.06 2.06-.94-2.06-.94-.94-2.06-.94 2.06-2.06.94z\"/><path d=\"M17.41 7.96l-1.37-1.37c-.4-.4-.92-.59-1.43-.59-.52 0-1.04.2-1.43.59L10.3 9.45l-7.72 7.72c-.78.78-.78 2.05 0 2.83L4 21.41c.39.39.9.59 1.41.59.51 0 1.02-.2 1.41-.59l7.78-7.78 2.81-2.81c.8-.78.8-2.07 0-2.86zM5.41 20L4 18.59l7.72-7.72 1.47 1.35L5.41 20z\"/>\n",
              "  </svg>\n",
              "      </button>\n",
              "      \n",
              "  <style>\n",
              "    .colab-df-container {\n",
              "      display:flex;\n",
              "      flex-wrap:wrap;\n",
              "      gap: 12px;\n",
              "    }\n",
              "\n",
              "    .colab-df-convert {\n",
              "      background-color: #E8F0FE;\n",
              "      border: none;\n",
              "      border-radius: 50%;\n",
              "      cursor: pointer;\n",
              "      display: none;\n",
              "      fill: #1967D2;\n",
              "      height: 32px;\n",
              "      padding: 0 0 0 0;\n",
              "      width: 32px;\n",
              "    }\n",
              "\n",
              "    .colab-df-convert:hover {\n",
              "      background-color: #E2EBFA;\n",
              "      box-shadow: 0px 1px 2px rgba(60, 64, 67, 0.3), 0px 1px 3px 1px rgba(60, 64, 67, 0.15);\n",
              "      fill: #174EA6;\n",
              "    }\n",
              "\n",
              "    [theme=dark] .colab-df-convert {\n",
              "      background-color: #3B4455;\n",
              "      fill: #D2E3FC;\n",
              "    }\n",
              "\n",
              "    [theme=dark] .colab-df-convert:hover {\n",
              "      background-color: #434B5C;\n",
              "      box-shadow: 0px 1px 3px 1px rgba(0, 0, 0, 0.15);\n",
              "      filter: drop-shadow(0px 1px 2px rgba(0, 0, 0, 0.3));\n",
              "      fill: #FFFFFF;\n",
              "    }\n",
              "  </style>\n",
              "\n",
              "      <script>\n",
              "        const buttonEl =\n",
              "          document.querySelector('#df-3fe34d1b-edaf-4703-bd02-898a98fb1ffc button.colab-df-convert');\n",
              "        buttonEl.style.display =\n",
              "          google.colab.kernel.accessAllowed ? 'block' : 'none';\n",
              "\n",
              "        async function convertToInteractive(key) {\n",
              "          const element = document.querySelector('#df-3fe34d1b-edaf-4703-bd02-898a98fb1ffc');\n",
              "          const dataTable =\n",
              "            await google.colab.kernel.invokeFunction('convertToInteractive',\n",
              "                                                     [key], {});\n",
              "          if (!dataTable) return;\n",
              "\n",
              "          const docLinkHtml = 'Like what you see? Visit the ' +\n",
              "            '<a target=\"_blank\" href=https://colab.research.google.com/notebooks/data_table.ipynb>data table notebook</a>'\n",
              "            + ' to learn more about interactive tables.';\n",
              "          element.innerHTML = '';\n",
              "          dataTable['output_type'] = 'display_data';\n",
              "          await google.colab.output.renderOutput(dataTable, element);\n",
              "          const docLink = document.createElement('div');\n",
              "          docLink.innerHTML = docLinkHtml;\n",
              "          element.appendChild(docLink);\n",
              "        }\n",
              "      </script>\n",
              "    </div>\n",
              "  </div>\n",
              "  "
            ]
          },
          "metadata": {},
          "execution_count": 13
        }
      ]
    },
    {
      "cell_type": "markdown",
      "source": [
        "* we dropped the cloumns because it seems it will be not useful for validation"
      ],
      "metadata": {
        "id": "-p1tu2756pOg"
      }
    },
    {
      "cell_type": "code",
      "source": [
        "#Updating new features to the dataframe\n",
        "df1['HOUSE_AGE'] = df['DATE_SALE']-df['DATE_BUILD']\n",
        "df1['HOUSE_AGE'].head()"
      ],
      "metadata": {
        "colab": {
          "base_uri": "https://localhost:8080/"
        },
        "id": "tIGLnXiR5Cs3",
        "outputId": "1ca0985f-9d02-4983-cf7e-b6766640be6e"
      },
      "execution_count": 14,
      "outputs": [
        {
          "output_type": "execute_result",
          "data": {
            "text/plain": [
              "0   16031 days\n",
              "1    4015 days\n",
              "2    7358 days\n",
              "3    8030 days\n",
              "4   10802 days\n",
              "Name: HOUSE_AGE, dtype: timedelta64[ns]"
            ]
          },
          "metadata": {},
          "execution_count": 14
        }
      ]
    },
    {
      "cell_type": "code",
      "source": [
        "#Converting HOUSE_AGE datatype from timedelta64 to float64\n",
        "df1['HOUSE_AGE'] = df1['HOUSE_AGE']/np.timedelta64(1,'Y')\n",
        "df1['HOUSE_AGE'] = np.round(df1['HOUSE_AGE'])\n",
        "df1['HOUSE_AGE'].head()"
      ],
      "metadata": {
        "id": "AW4AvuOH5zn5",
        "colab": {
          "base_uri": "https://localhost:8080/"
        },
        "outputId": "b52dd670-bc65-42cf-95c9-f13f5014f026"
      },
      "execution_count": 15,
      "outputs": [
        {
          "output_type": "execute_result",
          "data": {
            "text/plain": [
              "0    44.0\n",
              "1    11.0\n",
              "2    20.0\n",
              "3    22.0\n",
              "4    30.0\n",
              "Name: HOUSE_AGE, dtype: float64"
            ]
          },
          "metadata": {},
          "execution_count": 15
        }
      ]
    },
    {
      "cell_type": "code",
      "source": [
        "#Dropping the DATE_BUILD and DATE_SALE columns from the dataset\n",
        "df2 = df1.copy()\n",
        "df2 = df1.drop(['DATE_BUILD','DATE_SALE'], axis=1)"
      ],
      "metadata": {
        "id": "Vk8ohZPB6FgU"
      },
      "execution_count": 16,
      "outputs": []
    },
    {
      "cell_type": "markdown",
      "source": [
        "* we dropped the DATE_BUILD and DATE_SALE columns because we created the House_age column by validating these columns now these columns are not useful for model validation"
      ],
      "metadata": {
        "id": "qQ93mSi58RTd"
      }
    },
    {
      "cell_type": "code",
      "source": [
        "df2.head()"
      ],
      "metadata": {
        "colab": {
          "base_uri": "https://localhost:8080/",
          "height": 268
        },
        "id": "xdFrazil6ahk",
        "outputId": "8ab4f18d-be28-4b5e-9416-dd2c61db256c"
      },
      "execution_count": 17,
      "outputs": [
        {
          "output_type": "execute_result",
          "data": {
            "text/plain": [
              "         AREA  INT_SQFT  DIST_MAINROAD SALE_COND PARK_FACIL   BUILDTYPE  \\\n",
              "0  Karapakkam      1004            131  AbNormal        Yes  Commercial   \n",
              "1  Anna Nagar      1986             26  AbNormal         No  Commercial   \n",
              "2       Adyar       909             70  AbNormal        Yes  Commercial   \n",
              "3   Velachery      1855             14    Family         No      Others   \n",
              "4  Karapakkam      1226             84  AbNormal        Yes      Others   \n",
              "\n",
              "  UTILITY_AVAIL  STREET MZZONE  QS_ROOMS  QS_BATHROOM  QS_BEDROOM  QS_OVERALL  \\\n",
              "0        AllPub   Paved      A         4            3           4           4   \n",
              "1        AllPub  Gravel     RH         4            4           2           3   \n",
              "2           ELO  Gravel     RL         4            3           2           3   \n",
              "3       NoSewr    Paved      I         4            3           3           4   \n",
              "4        AllPub  Gravel      C         3            2           4           3   \n",
              "\n",
              "   SALES_PRICE  HOUSE_AGE  \n",
              "0      7600000       44.0  \n",
              "1     21717770       11.0  \n",
              "2     13159200       20.0  \n",
              "3      9630290       22.0  \n",
              "4      7406250       30.0  "
            ],
            "text/html": [
              "\n",
              "  <div id=\"df-a0ff880a-4d73-4262-9da2-878da238749e\">\n",
              "    <div class=\"colab-df-container\">\n",
              "      <div>\n",
              "<style scoped>\n",
              "    .dataframe tbody tr th:only-of-type {\n",
              "        vertical-align: middle;\n",
              "    }\n",
              "\n",
              "    .dataframe tbody tr th {\n",
              "        vertical-align: top;\n",
              "    }\n",
              "\n",
              "    .dataframe thead th {\n",
              "        text-align: right;\n",
              "    }\n",
              "</style>\n",
              "<table border=\"1\" class=\"dataframe\">\n",
              "  <thead>\n",
              "    <tr style=\"text-align: right;\">\n",
              "      <th></th>\n",
              "      <th>AREA</th>\n",
              "      <th>INT_SQFT</th>\n",
              "      <th>DIST_MAINROAD</th>\n",
              "      <th>SALE_COND</th>\n",
              "      <th>PARK_FACIL</th>\n",
              "      <th>BUILDTYPE</th>\n",
              "      <th>UTILITY_AVAIL</th>\n",
              "      <th>STREET</th>\n",
              "      <th>MZZONE</th>\n",
              "      <th>QS_ROOMS</th>\n",
              "      <th>QS_BATHROOM</th>\n",
              "      <th>QS_BEDROOM</th>\n",
              "      <th>QS_OVERALL</th>\n",
              "      <th>SALES_PRICE</th>\n",
              "      <th>HOUSE_AGE</th>\n",
              "    </tr>\n",
              "  </thead>\n",
              "  <tbody>\n",
              "    <tr>\n",
              "      <th>0</th>\n",
              "      <td>Karapakkam</td>\n",
              "      <td>1004</td>\n",
              "      <td>131</td>\n",
              "      <td>AbNormal</td>\n",
              "      <td>Yes</td>\n",
              "      <td>Commercial</td>\n",
              "      <td>AllPub</td>\n",
              "      <td>Paved</td>\n",
              "      <td>A</td>\n",
              "      <td>4</td>\n",
              "      <td>3</td>\n",
              "      <td>4</td>\n",
              "      <td>4</td>\n",
              "      <td>7600000</td>\n",
              "      <td>44.0</td>\n",
              "    </tr>\n",
              "    <tr>\n",
              "      <th>1</th>\n",
              "      <td>Anna Nagar</td>\n",
              "      <td>1986</td>\n",
              "      <td>26</td>\n",
              "      <td>AbNormal</td>\n",
              "      <td>No</td>\n",
              "      <td>Commercial</td>\n",
              "      <td>AllPub</td>\n",
              "      <td>Gravel</td>\n",
              "      <td>RH</td>\n",
              "      <td>4</td>\n",
              "      <td>4</td>\n",
              "      <td>2</td>\n",
              "      <td>3</td>\n",
              "      <td>21717770</td>\n",
              "      <td>11.0</td>\n",
              "    </tr>\n",
              "    <tr>\n",
              "      <th>2</th>\n",
              "      <td>Adyar</td>\n",
              "      <td>909</td>\n",
              "      <td>70</td>\n",
              "      <td>AbNormal</td>\n",
              "      <td>Yes</td>\n",
              "      <td>Commercial</td>\n",
              "      <td>ELO</td>\n",
              "      <td>Gravel</td>\n",
              "      <td>RL</td>\n",
              "      <td>4</td>\n",
              "      <td>3</td>\n",
              "      <td>2</td>\n",
              "      <td>3</td>\n",
              "      <td>13159200</td>\n",
              "      <td>20.0</td>\n",
              "    </tr>\n",
              "    <tr>\n",
              "      <th>3</th>\n",
              "      <td>Velachery</td>\n",
              "      <td>1855</td>\n",
              "      <td>14</td>\n",
              "      <td>Family</td>\n",
              "      <td>No</td>\n",
              "      <td>Others</td>\n",
              "      <td>NoSewr</td>\n",
              "      <td>Paved</td>\n",
              "      <td>I</td>\n",
              "      <td>4</td>\n",
              "      <td>3</td>\n",
              "      <td>3</td>\n",
              "      <td>4</td>\n",
              "      <td>9630290</td>\n",
              "      <td>22.0</td>\n",
              "    </tr>\n",
              "    <tr>\n",
              "      <th>4</th>\n",
              "      <td>Karapakkam</td>\n",
              "      <td>1226</td>\n",
              "      <td>84</td>\n",
              "      <td>AbNormal</td>\n",
              "      <td>Yes</td>\n",
              "      <td>Others</td>\n",
              "      <td>AllPub</td>\n",
              "      <td>Gravel</td>\n",
              "      <td>C</td>\n",
              "      <td>3</td>\n",
              "      <td>2</td>\n",
              "      <td>4</td>\n",
              "      <td>3</td>\n",
              "      <td>7406250</td>\n",
              "      <td>30.0</td>\n",
              "    </tr>\n",
              "  </tbody>\n",
              "</table>\n",
              "</div>\n",
              "      <button class=\"colab-df-convert\" onclick=\"convertToInteractive('df-a0ff880a-4d73-4262-9da2-878da238749e')\"\n",
              "              title=\"Convert this dataframe to an interactive table.\"\n",
              "              style=\"display:none;\">\n",
              "        \n",
              "  <svg xmlns=\"http://www.w3.org/2000/svg\" height=\"24px\"viewBox=\"0 0 24 24\"\n",
              "       width=\"24px\">\n",
              "    <path d=\"M0 0h24v24H0V0z\" fill=\"none\"/>\n",
              "    <path d=\"M18.56 5.44l.94 2.06.94-2.06 2.06-.94-2.06-.94-.94-2.06-.94 2.06-2.06.94zm-11 1L8.5 8.5l.94-2.06 2.06-.94-2.06-.94L8.5 2.5l-.94 2.06-2.06.94zm10 10l.94 2.06.94-2.06 2.06-.94-2.06-.94-.94-2.06-.94 2.06-2.06.94z\"/><path d=\"M17.41 7.96l-1.37-1.37c-.4-.4-.92-.59-1.43-.59-.52 0-1.04.2-1.43.59L10.3 9.45l-7.72 7.72c-.78.78-.78 2.05 0 2.83L4 21.41c.39.39.9.59 1.41.59.51 0 1.02-.2 1.41-.59l7.78-7.78 2.81-2.81c.8-.78.8-2.07 0-2.86zM5.41 20L4 18.59l7.72-7.72 1.47 1.35L5.41 20z\"/>\n",
              "  </svg>\n",
              "      </button>\n",
              "      \n",
              "  <style>\n",
              "    .colab-df-container {\n",
              "      display:flex;\n",
              "      flex-wrap:wrap;\n",
              "      gap: 12px;\n",
              "    }\n",
              "\n",
              "    .colab-df-convert {\n",
              "      background-color: #E8F0FE;\n",
              "      border: none;\n",
              "      border-radius: 50%;\n",
              "      cursor: pointer;\n",
              "      display: none;\n",
              "      fill: #1967D2;\n",
              "      height: 32px;\n",
              "      padding: 0 0 0 0;\n",
              "      width: 32px;\n",
              "    }\n",
              "\n",
              "    .colab-df-convert:hover {\n",
              "      background-color: #E2EBFA;\n",
              "      box-shadow: 0px 1px 2px rgba(60, 64, 67, 0.3), 0px 1px 3px 1px rgba(60, 64, 67, 0.15);\n",
              "      fill: #174EA6;\n",
              "    }\n",
              "\n",
              "    [theme=dark] .colab-df-convert {\n",
              "      background-color: #3B4455;\n",
              "      fill: #D2E3FC;\n",
              "    }\n",
              "\n",
              "    [theme=dark] .colab-df-convert:hover {\n",
              "      background-color: #434B5C;\n",
              "      box-shadow: 0px 1px 3px 1px rgba(0, 0, 0, 0.15);\n",
              "      filter: drop-shadow(0px 1px 2px rgba(0, 0, 0, 0.3));\n",
              "      fill: #FFFFFF;\n",
              "    }\n",
              "  </style>\n",
              "\n",
              "      <script>\n",
              "        const buttonEl =\n",
              "          document.querySelector('#df-a0ff880a-4d73-4262-9da2-878da238749e button.colab-df-convert');\n",
              "        buttonEl.style.display =\n",
              "          google.colab.kernel.accessAllowed ? 'block' : 'none';\n",
              "\n",
              "        async function convertToInteractive(key) {\n",
              "          const element = document.querySelector('#df-a0ff880a-4d73-4262-9da2-878da238749e');\n",
              "          const dataTable =\n",
              "            await google.colab.kernel.invokeFunction('convertToInteractive',\n",
              "                                                     [key], {});\n",
              "          if (!dataTable) return;\n",
              "\n",
              "          const docLinkHtml = 'Like what you see? Visit the ' +\n",
              "            '<a target=\"_blank\" href=https://colab.research.google.com/notebooks/data_table.ipynb>data table notebook</a>'\n",
              "            + ' to learn more about interactive tables.';\n",
              "          element.innerHTML = '';\n",
              "          dataTable['output_type'] = 'display_data';\n",
              "          await google.colab.output.renderOutput(dataTable, element);\n",
              "          const docLink = document.createElement('div');\n",
              "          docLink.innerHTML = docLinkHtml;\n",
              "          element.appendChild(docLink);\n",
              "        }\n",
              "      </script>\n",
              "    </div>\n",
              "  </div>\n",
              "  "
            ]
          },
          "metadata": {},
          "execution_count": 17
        }
      ]
    },
    {
      "cell_type": "markdown",
      "source": [
        "* Now we added the House_Age column to the dataset on behalf of DATE_SALE and DATE_BUILD columns"
      ],
      "metadata": {
        "id": "6MwNt8Mq9AHt"
      }
    },
    {
      "cell_type": "code",
      "source": [
        "#Converting the name of QS_OVERALL column to BHK column\n",
        "df2['BHK'] = df2['QS_OVERALL']\n",
        "df2.info()"
      ],
      "metadata": {
        "colab": {
          "base_uri": "https://localhost:8080/"
        },
        "id": "xyfIZRJs6vng",
        "outputId": "eac75f1b-7335-4056-9812-60427c36eac6"
      },
      "execution_count": 18,
      "outputs": [
        {
          "output_type": "stream",
          "name": "stdout",
          "text": [
            "<class 'pandas.core.frame.DataFrame'>\n",
            "RangeIndex: 7109 entries, 0 to 7108\n",
            "Data columns (total 16 columns):\n",
            " #   Column         Non-Null Count  Dtype  \n",
            "---  ------         --------------  -----  \n",
            " 0   AREA           7109 non-null   object \n",
            " 1   INT_SQFT       7109 non-null   int64  \n",
            " 2   DIST_MAINROAD  7109 non-null   int64  \n",
            " 3   SALE_COND      7109 non-null   object \n",
            " 4   PARK_FACIL     7109 non-null   object \n",
            " 5   BUILDTYPE      7109 non-null   object \n",
            " 6   UTILITY_AVAIL  7109 non-null   object \n",
            " 7   STREET         7109 non-null   object \n",
            " 8   MZZONE         7109 non-null   object \n",
            " 9   QS_ROOMS       7109 non-null   Int64  \n",
            " 10  QS_BATHROOM    7109 non-null   Int64  \n",
            " 11  QS_BEDROOM     7109 non-null   Int64  \n",
            " 12  QS_OVERALL     7061 non-null   Int64  \n",
            " 13  SALES_PRICE    7109 non-null   int64  \n",
            " 14  HOUSE_AGE      7109 non-null   float64\n",
            " 15  BHK            7061 non-null   Int64  \n",
            "dtypes: Int64(5), float64(1), int64(3), object(7)\n",
            "memory usage: 923.5+ KB\n"
          ]
        }
      ]
    },
    {
      "cell_type": "markdown",
      "source": [
        "* we converted the QS_OVERALL column name to BHK for better understanding"
      ],
      "metadata": {
        "id": "Qn4dcNpT9qHR"
      }
    },
    {
      "cell_type": "code",
      "source": [
        "#Dropping the QS_OVERALL column from the dataset\n",
        "df2 = df2.drop(['QS_OVERALL'], axis='columns')\n",
        "df2.info()"
      ],
      "metadata": {
        "colab": {
          "base_uri": "https://localhost:8080/"
        },
        "id": "xSma9GE47Fas",
        "outputId": "084445a6-e502-4358-88ab-94de4c007515"
      },
      "execution_count": 19,
      "outputs": [
        {
          "output_type": "stream",
          "name": "stdout",
          "text": [
            "<class 'pandas.core.frame.DataFrame'>\n",
            "RangeIndex: 7109 entries, 0 to 7108\n",
            "Data columns (total 15 columns):\n",
            " #   Column         Non-Null Count  Dtype  \n",
            "---  ------         --------------  -----  \n",
            " 0   AREA           7109 non-null   object \n",
            " 1   INT_SQFT       7109 non-null   int64  \n",
            " 2   DIST_MAINROAD  7109 non-null   int64  \n",
            " 3   SALE_COND      7109 non-null   object \n",
            " 4   PARK_FACIL     7109 non-null   object \n",
            " 5   BUILDTYPE      7109 non-null   object \n",
            " 6   UTILITY_AVAIL  7109 non-null   object \n",
            " 7   STREET         7109 non-null   object \n",
            " 8   MZZONE         7109 non-null   object \n",
            " 9   QS_ROOMS       7109 non-null   Int64  \n",
            " 10  QS_BATHROOM    7109 non-null   Int64  \n",
            " 11  QS_BEDROOM     7109 non-null   Int64  \n",
            " 12  SALES_PRICE    7109 non-null   int64  \n",
            " 13  HOUSE_AGE      7109 non-null   float64\n",
            " 14  BHK            7061 non-null   Int64  \n",
            "dtypes: Int64(4), float64(1), int64(3), object(7)\n",
            "memory usage: 861.0+ KB\n"
          ]
        }
      ]
    },
    {
      "cell_type": "markdown",
      "source": [
        "* we dropped the QS_OVERALL column because we created the BHK column behalf the QS_OVERALL column so there is no use of QS_OVERALL column in the dataset"
      ],
      "metadata": {
        "id": "rNHc9H9S-AJR"
      }
    },
    {
      "cell_type": "code",
      "source": [
        "df2.head()"
      ],
      "metadata": {
        "colab": {
          "base_uri": "https://localhost:8080/",
          "height": 268
        },
        "id": "y_BV42QA7OfS",
        "outputId": "9cded33e-fc85-44f1-d39d-01a175eccead"
      },
      "execution_count": 20,
      "outputs": [
        {
          "output_type": "execute_result",
          "data": {
            "text/plain": [
              "         AREA  INT_SQFT  DIST_MAINROAD SALE_COND PARK_FACIL   BUILDTYPE  \\\n",
              "0  Karapakkam      1004            131  AbNormal        Yes  Commercial   \n",
              "1  Anna Nagar      1986             26  AbNormal         No  Commercial   \n",
              "2       Adyar       909             70  AbNormal        Yes  Commercial   \n",
              "3   Velachery      1855             14    Family         No      Others   \n",
              "4  Karapakkam      1226             84  AbNormal        Yes      Others   \n",
              "\n",
              "  UTILITY_AVAIL  STREET MZZONE  QS_ROOMS  QS_BATHROOM  QS_BEDROOM  \\\n",
              "0        AllPub   Paved      A         4            3           4   \n",
              "1        AllPub  Gravel     RH         4            4           2   \n",
              "2           ELO  Gravel     RL         4            3           2   \n",
              "3       NoSewr    Paved      I         4            3           3   \n",
              "4        AllPub  Gravel      C         3            2           4   \n",
              "\n",
              "   SALES_PRICE  HOUSE_AGE  BHK  \n",
              "0      7600000       44.0    4  \n",
              "1     21717770       11.0    3  \n",
              "2     13159200       20.0    3  \n",
              "3      9630290       22.0    4  \n",
              "4      7406250       30.0    3  "
            ],
            "text/html": [
              "\n",
              "  <div id=\"df-add4e62e-38ba-4054-a319-d012ebf7da15\">\n",
              "    <div class=\"colab-df-container\">\n",
              "      <div>\n",
              "<style scoped>\n",
              "    .dataframe tbody tr th:only-of-type {\n",
              "        vertical-align: middle;\n",
              "    }\n",
              "\n",
              "    .dataframe tbody tr th {\n",
              "        vertical-align: top;\n",
              "    }\n",
              "\n",
              "    .dataframe thead th {\n",
              "        text-align: right;\n",
              "    }\n",
              "</style>\n",
              "<table border=\"1\" class=\"dataframe\">\n",
              "  <thead>\n",
              "    <tr style=\"text-align: right;\">\n",
              "      <th></th>\n",
              "      <th>AREA</th>\n",
              "      <th>INT_SQFT</th>\n",
              "      <th>DIST_MAINROAD</th>\n",
              "      <th>SALE_COND</th>\n",
              "      <th>PARK_FACIL</th>\n",
              "      <th>BUILDTYPE</th>\n",
              "      <th>UTILITY_AVAIL</th>\n",
              "      <th>STREET</th>\n",
              "      <th>MZZONE</th>\n",
              "      <th>QS_ROOMS</th>\n",
              "      <th>QS_BATHROOM</th>\n",
              "      <th>QS_BEDROOM</th>\n",
              "      <th>SALES_PRICE</th>\n",
              "      <th>HOUSE_AGE</th>\n",
              "      <th>BHK</th>\n",
              "    </tr>\n",
              "  </thead>\n",
              "  <tbody>\n",
              "    <tr>\n",
              "      <th>0</th>\n",
              "      <td>Karapakkam</td>\n",
              "      <td>1004</td>\n",
              "      <td>131</td>\n",
              "      <td>AbNormal</td>\n",
              "      <td>Yes</td>\n",
              "      <td>Commercial</td>\n",
              "      <td>AllPub</td>\n",
              "      <td>Paved</td>\n",
              "      <td>A</td>\n",
              "      <td>4</td>\n",
              "      <td>3</td>\n",
              "      <td>4</td>\n",
              "      <td>7600000</td>\n",
              "      <td>44.0</td>\n",
              "      <td>4</td>\n",
              "    </tr>\n",
              "    <tr>\n",
              "      <th>1</th>\n",
              "      <td>Anna Nagar</td>\n",
              "      <td>1986</td>\n",
              "      <td>26</td>\n",
              "      <td>AbNormal</td>\n",
              "      <td>No</td>\n",
              "      <td>Commercial</td>\n",
              "      <td>AllPub</td>\n",
              "      <td>Gravel</td>\n",
              "      <td>RH</td>\n",
              "      <td>4</td>\n",
              "      <td>4</td>\n",
              "      <td>2</td>\n",
              "      <td>21717770</td>\n",
              "      <td>11.0</td>\n",
              "      <td>3</td>\n",
              "    </tr>\n",
              "    <tr>\n",
              "      <th>2</th>\n",
              "      <td>Adyar</td>\n",
              "      <td>909</td>\n",
              "      <td>70</td>\n",
              "      <td>AbNormal</td>\n",
              "      <td>Yes</td>\n",
              "      <td>Commercial</td>\n",
              "      <td>ELO</td>\n",
              "      <td>Gravel</td>\n",
              "      <td>RL</td>\n",
              "      <td>4</td>\n",
              "      <td>3</td>\n",
              "      <td>2</td>\n",
              "      <td>13159200</td>\n",
              "      <td>20.0</td>\n",
              "      <td>3</td>\n",
              "    </tr>\n",
              "    <tr>\n",
              "      <th>3</th>\n",
              "      <td>Velachery</td>\n",
              "      <td>1855</td>\n",
              "      <td>14</td>\n",
              "      <td>Family</td>\n",
              "      <td>No</td>\n",
              "      <td>Others</td>\n",
              "      <td>NoSewr</td>\n",
              "      <td>Paved</td>\n",
              "      <td>I</td>\n",
              "      <td>4</td>\n",
              "      <td>3</td>\n",
              "      <td>3</td>\n",
              "      <td>9630290</td>\n",
              "      <td>22.0</td>\n",
              "      <td>4</td>\n",
              "    </tr>\n",
              "    <tr>\n",
              "      <th>4</th>\n",
              "      <td>Karapakkam</td>\n",
              "      <td>1226</td>\n",
              "      <td>84</td>\n",
              "      <td>AbNormal</td>\n",
              "      <td>Yes</td>\n",
              "      <td>Others</td>\n",
              "      <td>AllPub</td>\n",
              "      <td>Gravel</td>\n",
              "      <td>C</td>\n",
              "      <td>3</td>\n",
              "      <td>2</td>\n",
              "      <td>4</td>\n",
              "      <td>7406250</td>\n",
              "      <td>30.0</td>\n",
              "      <td>3</td>\n",
              "    </tr>\n",
              "  </tbody>\n",
              "</table>\n",
              "</div>\n",
              "      <button class=\"colab-df-convert\" onclick=\"convertToInteractive('df-add4e62e-38ba-4054-a319-d012ebf7da15')\"\n",
              "              title=\"Convert this dataframe to an interactive table.\"\n",
              "              style=\"display:none;\">\n",
              "        \n",
              "  <svg xmlns=\"http://www.w3.org/2000/svg\" height=\"24px\"viewBox=\"0 0 24 24\"\n",
              "       width=\"24px\">\n",
              "    <path d=\"M0 0h24v24H0V0z\" fill=\"none\"/>\n",
              "    <path d=\"M18.56 5.44l.94 2.06.94-2.06 2.06-.94-2.06-.94-.94-2.06-.94 2.06-2.06.94zm-11 1L8.5 8.5l.94-2.06 2.06-.94-2.06-.94L8.5 2.5l-.94 2.06-2.06.94zm10 10l.94 2.06.94-2.06 2.06-.94-2.06-.94-.94-2.06-.94 2.06-2.06.94z\"/><path d=\"M17.41 7.96l-1.37-1.37c-.4-.4-.92-.59-1.43-.59-.52 0-1.04.2-1.43.59L10.3 9.45l-7.72 7.72c-.78.78-.78 2.05 0 2.83L4 21.41c.39.39.9.59 1.41.59.51 0 1.02-.2 1.41-.59l7.78-7.78 2.81-2.81c.8-.78.8-2.07 0-2.86zM5.41 20L4 18.59l7.72-7.72 1.47 1.35L5.41 20z\"/>\n",
              "  </svg>\n",
              "      </button>\n",
              "      \n",
              "  <style>\n",
              "    .colab-df-container {\n",
              "      display:flex;\n",
              "      flex-wrap:wrap;\n",
              "      gap: 12px;\n",
              "    }\n",
              "\n",
              "    .colab-df-convert {\n",
              "      background-color: #E8F0FE;\n",
              "      border: none;\n",
              "      border-radius: 50%;\n",
              "      cursor: pointer;\n",
              "      display: none;\n",
              "      fill: #1967D2;\n",
              "      height: 32px;\n",
              "      padding: 0 0 0 0;\n",
              "      width: 32px;\n",
              "    }\n",
              "\n",
              "    .colab-df-convert:hover {\n",
              "      background-color: #E2EBFA;\n",
              "      box-shadow: 0px 1px 2px rgba(60, 64, 67, 0.3), 0px 1px 3px 1px rgba(60, 64, 67, 0.15);\n",
              "      fill: #174EA6;\n",
              "    }\n",
              "\n",
              "    [theme=dark] .colab-df-convert {\n",
              "      background-color: #3B4455;\n",
              "      fill: #D2E3FC;\n",
              "    }\n",
              "\n",
              "    [theme=dark] .colab-df-convert:hover {\n",
              "      background-color: #434B5C;\n",
              "      box-shadow: 0px 1px 3px 1px rgba(0, 0, 0, 0.15);\n",
              "      filter: drop-shadow(0px 1px 2px rgba(0, 0, 0, 0.3));\n",
              "      fill: #FFFFFF;\n",
              "    }\n",
              "  </style>\n",
              "\n",
              "      <script>\n",
              "        const buttonEl =\n",
              "          document.querySelector('#df-add4e62e-38ba-4054-a319-d012ebf7da15 button.colab-df-convert');\n",
              "        buttonEl.style.display =\n",
              "          google.colab.kernel.accessAllowed ? 'block' : 'none';\n",
              "\n",
              "        async function convertToInteractive(key) {\n",
              "          const element = document.querySelector('#df-add4e62e-38ba-4054-a319-d012ebf7da15');\n",
              "          const dataTable =\n",
              "            await google.colab.kernel.invokeFunction('convertToInteractive',\n",
              "                                                     [key], {});\n",
              "          if (!dataTable) return;\n",
              "\n",
              "          const docLinkHtml = 'Like what you see? Visit the ' +\n",
              "            '<a target=\"_blank\" href=https://colab.research.google.com/notebooks/data_table.ipynb>data table notebook</a>'\n",
              "            + ' to learn more about interactive tables.';\n",
              "          element.innerHTML = '';\n",
              "          dataTable['output_type'] = 'display_data';\n",
              "          await google.colab.output.renderOutput(dataTable, element);\n",
              "          const docLink = document.createElement('div');\n",
              "          docLink.innerHTML = docLinkHtml;\n",
              "          element.appendChild(docLink);\n",
              "        }\n",
              "      </script>\n",
              "    </div>\n",
              "  </div>\n",
              "  "
            ]
          },
          "metadata": {},
          "execution_count": 20
        }
      ]
    },
    {
      "cell_type": "markdown",
      "source": [
        "* BHK cloumn is added to the dataset"
      ],
      "metadata": {
        "id": "ttbGjGxX-cQ0"
      }
    },
    {
      "cell_type": "code",
      "source": [
        "df2['AREA'].unique()"
      ],
      "metadata": {
        "colab": {
          "base_uri": "https://localhost:8080/"
        },
        "id": "6Y5J-4R_7R7T",
        "outputId": "5ce5a156-6705-4388-a950-a5909f1fbfb7"
      },
      "execution_count": 21,
      "outputs": [
        {
          "output_type": "execute_result",
          "data": {
            "text/plain": [
              "array(['Karapakkam', 'Anna Nagar', 'Adyar', 'Velachery', 'Chrompet',\n",
              "       'KK Nagar', 'TNagar', 'T Nagar', 'Chrompt', 'Chrmpet', 'Karapakam',\n",
              "       'Ana Nagar', 'Chormpet', 'Adyr', 'Velchery', 'Ann Nagar',\n",
              "       'KKNagar'], dtype=object)"
            ]
          },
          "metadata": {},
          "execution_count": 21
        }
      ]
    },
    {
      "cell_type": "code",
      "source": [
        "df2['STREET'].unique()"
      ],
      "metadata": {
        "colab": {
          "base_uri": "https://localhost:8080/"
        },
        "id": "GyieNrwr7h4y",
        "outputId": "afb7773e-38a8-4801-eb63-fb11299b88be"
      },
      "execution_count": 22,
      "outputs": [
        {
          "output_type": "execute_result",
          "data": {
            "text/plain": [
              "array(['Paved', 'Gravel', 'No Access', 'Pavd', 'NoAccess'], dtype=object)"
            ]
          },
          "metadata": {},
          "execution_count": 22
        }
      ]
    },
    {
      "cell_type": "code",
      "source": [
        "df2['PARK_FACIL'].unique()"
      ],
      "metadata": {
        "colab": {
          "base_uri": "https://localhost:8080/"
        },
        "id": "kAvyWGyg7pyS",
        "outputId": "914d2e5d-9c59-4623-c43b-5db3fecb92ea"
      },
      "execution_count": 23,
      "outputs": [
        {
          "output_type": "execute_result",
          "data": {
            "text/plain": [
              "array(['Yes', 'No', 'Noo'], dtype=object)"
            ]
          },
          "metadata": {},
          "execution_count": 23
        }
      ]
    },
    {
      "cell_type": "code",
      "source": [
        "df2['BUILDTYPE'].unique()"
      ],
      "metadata": {
        "colab": {
          "base_uri": "https://localhost:8080/"
        },
        "id": "ju6R8elI7wwl",
        "outputId": "31811e5c-8890-489c-cf61-3ad1dbcab88f"
      },
      "execution_count": 24,
      "outputs": [
        {
          "output_type": "execute_result",
          "data": {
            "text/plain": [
              "array(['Commercial', 'Others', 'Other', 'House', 'Comercial'],\n",
              "      dtype=object)"
            ]
          },
          "metadata": {},
          "execution_count": 24
        }
      ]
    },
    {
      "cell_type": "code",
      "source": [
        "df2['SALE_COND'].unique()"
      ],
      "metadata": {
        "colab": {
          "base_uri": "https://localhost:8080/"
        },
        "id": "XYRHWiV_8pdA",
        "outputId": "6aeb2e0c-59df-469f-8e14-7eb34a088e40"
      },
      "execution_count": 25,
      "outputs": [
        {
          "output_type": "execute_result",
          "data": {
            "text/plain": [
              "array(['AbNormal', 'Family', 'Partial', 'AdjLand', 'Normal Sale',\n",
              "       'Ab Normal', 'Partiall', 'Adj Land', 'PartiaLl'], dtype=object)"
            ]
          },
          "metadata": {},
          "execution_count": 25
        }
      ]
    },
    {
      "cell_type": "code",
      "source": [
        "df2['UTILITY_AVAIL'].unique()"
      ],
      "metadata": {
        "colab": {
          "base_uri": "https://localhost:8080/"
        },
        "id": "ggyLx3nn7581",
        "outputId": "373e0da3-6c64-4bda-e3d7-31329aee9167"
      },
      "execution_count": 26,
      "outputs": [
        {
          "output_type": "execute_result",
          "data": {
            "text/plain": [
              "array(['AllPub', 'ELO', 'NoSewr ', 'NoSeWa', 'All Pub'], dtype=object)"
            ]
          },
          "metadata": {},
          "execution_count": 26
        }
      ]
    },
    {
      "cell_type": "markdown",
      "source": [
        "* unique() function helps to know the data inside the columns "
      ],
      "metadata": {
        "id": "wt3_Ap_j-ndi"
      }
    },
    {
      "cell_type": "code",
      "source": [
        "df2['AREA'].replace(['Ann Nagar','Ana Nagar','Adyr','Chormpet','Chrompt','Chrmpet','TNagar','Velchery','KKNagar','Karapakam'],\n",
        "                    ['Anna Nagar','Anna Nagar','Adyar','Chrompet','Chrompet','Chrompet','T Nagar','Velachery','KK Nagar','Karapakkam'], inplace=True)\n",
        "df2['STREET'].replace(['Pavd','NoAccess'],['Paved','No Access'], inplace=True)\n",
        "df2['PARK_FACIL'].replace(['Noo'],['No'], inplace=True)\n",
        "df2['BUILDTYPE'].replace(['Comercial','Other'],['Commercial','Others'], inplace=True)"
      ],
      "metadata": {
        "id": "xyhT8Yr88Ls0"
      },
      "execution_count": 27,
      "outputs": []
    },
    {
      "cell_type": "code",
      "source": [
        "df2['SALE_COND'].replace(['Ab Normal'],['AbNormal'], inplace=True)\n",
        "df2['SALE_COND'].replace(['Partiall'],['Partial'], inplace=True)\n",
        "df2['SALE_COND'].replace(['PartiaLl'],['Partial'], inplace=True)\n",
        "df2['SALE_COND'].replace(['Adj Land'],['AdjLand'], inplace=True)"
      ],
      "metadata": {
        "id": "2sT79ZbV8ZiQ"
      },
      "execution_count": 28,
      "outputs": []
    },
    {
      "cell_type": "code",
      "source": [
        "df2['UTILITY_AVAIL'].replace(['All Pub'],['AllPub'], inplace=True)\n",
        "df2['UTILITY_AVAIL'].replace(['NoSeWr'],['NoSewa'], inplace=True)\n",
        "df2['UTILITY_AVAIL'].replace(['NoSewr'],['NoSeWa'], inplace=True)"
      ],
      "metadata": {
        "id": "mmhEMEJL9Hns"
      },
      "execution_count": 29,
      "outputs": []
    },
    {
      "cell_type": "markdown",
      "source": [
        "* using replace functions we corrected the spelling errors inside the dataset for better visualization"
      ],
      "metadata": {
        "id": "ymJbPzUI_MSv"
      }
    },
    {
      "cell_type": "code",
      "source": [
        "df2.info()"
      ],
      "metadata": {
        "colab": {
          "base_uri": "https://localhost:8080/"
        },
        "id": "pvAHK5gt932J",
        "outputId": "aaca0929-de67-4785-f254-10096e09a9d2"
      },
      "execution_count": 30,
      "outputs": [
        {
          "output_type": "stream",
          "name": "stdout",
          "text": [
            "<class 'pandas.core.frame.DataFrame'>\n",
            "RangeIndex: 7109 entries, 0 to 7108\n",
            "Data columns (total 15 columns):\n",
            " #   Column         Non-Null Count  Dtype  \n",
            "---  ------         --------------  -----  \n",
            " 0   AREA           7109 non-null   object \n",
            " 1   INT_SQFT       7109 non-null   int64  \n",
            " 2   DIST_MAINROAD  7109 non-null   int64  \n",
            " 3   SALE_COND      7109 non-null   object \n",
            " 4   PARK_FACIL     7109 non-null   object \n",
            " 5   BUILDTYPE      7109 non-null   object \n",
            " 6   UTILITY_AVAIL  7109 non-null   object \n",
            " 7   STREET         7109 non-null   object \n",
            " 8   MZZONE         7109 non-null   object \n",
            " 9   QS_ROOMS       7109 non-null   Int64  \n",
            " 10  QS_BATHROOM    7109 non-null   Int64  \n",
            " 11  QS_BEDROOM     7109 non-null   Int64  \n",
            " 12  SALES_PRICE    7109 non-null   int64  \n",
            " 13  HOUSE_AGE      7109 non-null   float64\n",
            " 14  BHK            7061 non-null   Int64  \n",
            "dtypes: Int64(4), float64(1), int64(3), object(7)\n",
            "memory usage: 861.0+ KB\n"
          ]
        }
      ]
    },
    {
      "cell_type": "code",
      "source": [
        "df2.isnull().sum()"
      ],
      "metadata": {
        "colab": {
          "base_uri": "https://localhost:8080/"
        },
        "id": "BpyoEV459YAw",
        "outputId": "9616cdd0-51f4-49ad-8edf-89123e7476ef"
      },
      "execution_count": 31,
      "outputs": [
        {
          "output_type": "execute_result",
          "data": {
            "text/plain": [
              "AREA              0\n",
              "INT_SQFT          0\n",
              "DIST_MAINROAD     0\n",
              "SALE_COND         0\n",
              "PARK_FACIL        0\n",
              "BUILDTYPE         0\n",
              "UTILITY_AVAIL     0\n",
              "STREET            0\n",
              "MZZONE            0\n",
              "QS_ROOMS          0\n",
              "QS_BATHROOM       0\n",
              "QS_BEDROOM        0\n",
              "SALES_PRICE       0\n",
              "HOUSE_AGE         0\n",
              "BHK              48\n",
              "dtype: int64"
            ]
          },
          "metadata": {},
          "execution_count": 31
        }
      ]
    },
    {
      "cell_type": "markdown",
      "source": [
        "* checking for missing values and seems there are some missing values present in the dataset"
      ],
      "metadata": {
        "id": "-Ub-z70u_hXn"
      }
    },
    {
      "cell_type": "code",
      "source": [
        "df2[\"BHK\"] = df2[\"BHK\"].fillna(method='ffill')\n",
        "df2.isnull().sum()"
      ],
      "metadata": {
        "colab": {
          "base_uri": "https://localhost:8080/"
        },
        "id": "rVstTe5l9heh",
        "outputId": "b1a5263b-b20f-4a14-e099-ff86d10d00f8"
      },
      "execution_count": 32,
      "outputs": [
        {
          "output_type": "execute_result",
          "data": {
            "text/plain": [
              "AREA             0\n",
              "INT_SQFT         0\n",
              "DIST_MAINROAD    0\n",
              "SALE_COND        0\n",
              "PARK_FACIL       0\n",
              "BUILDTYPE        0\n",
              "UTILITY_AVAIL    0\n",
              "STREET           0\n",
              "MZZONE           0\n",
              "QS_ROOMS         0\n",
              "QS_BATHROOM      0\n",
              "QS_BEDROOM       0\n",
              "SALES_PRICE      0\n",
              "HOUSE_AGE        0\n",
              "BHK              0\n",
              "dtype: int64"
            ]
          },
          "metadata": {},
          "execution_count": 32
        }
      ]
    },
    {
      "cell_type": "markdown",
      "source": [
        "* using fillna() function we filled the missing values in the dataset "
      ],
      "metadata": {
        "id": "GO6O4NJq_vdg"
      }
    },
    {
      "cell_type": "code",
      "source": [
        "df2.info()"
      ],
      "metadata": {
        "colab": {
          "base_uri": "https://localhost:8080/"
        },
        "id": "-ag4Lefe9liK",
        "outputId": "53436335-a0b4-44d5-a773-b4c3d0475c84"
      },
      "execution_count": 33,
      "outputs": [
        {
          "output_type": "stream",
          "name": "stdout",
          "text": [
            "<class 'pandas.core.frame.DataFrame'>\n",
            "RangeIndex: 7109 entries, 0 to 7108\n",
            "Data columns (total 15 columns):\n",
            " #   Column         Non-Null Count  Dtype  \n",
            "---  ------         --------------  -----  \n",
            " 0   AREA           7109 non-null   object \n",
            " 1   INT_SQFT       7109 non-null   int64  \n",
            " 2   DIST_MAINROAD  7109 non-null   int64  \n",
            " 3   SALE_COND      7109 non-null   object \n",
            " 4   PARK_FACIL     7109 non-null   object \n",
            " 5   BUILDTYPE      7109 non-null   object \n",
            " 6   UTILITY_AVAIL  7109 non-null   object \n",
            " 7   STREET         7109 non-null   object \n",
            " 8   MZZONE         7109 non-null   object \n",
            " 9   QS_ROOMS       7109 non-null   Int64  \n",
            " 10  QS_BATHROOM    7109 non-null   Int64  \n",
            " 11  QS_BEDROOM     7109 non-null   Int64  \n",
            " 12  SALES_PRICE    7109 non-null   int64  \n",
            " 13  HOUSE_AGE      7109 non-null   float64\n",
            " 14  BHK            7109 non-null   Int64  \n",
            "dtypes: Int64(4), float64(1), int64(3), object(7)\n",
            "memory usage: 861.0+ KB\n"
          ]
        }
      ]
    },
    {
      "cell_type": "markdown",
      "source": [
        "* now there is no missing values present in the dataset"
      ],
      "metadata": {
        "id": "p8HXf5fu_-ij"
      }
    },
    {
      "cell_type": "markdown",
      "source": [
        "## Data Visualization"
      ],
      "metadata": {
        "id": "5wgALIEKE6H2"
      }
    },
    {
      "cell_type": "code",
      "source": [
        "df2['INT_SQFT'].plot()"
      ],
      "metadata": {
        "colab": {
          "base_uri": "https://localhost:8080/",
          "height": 375
        },
        "id": "RmNLppG--Kyd",
        "outputId": "2e8cfa2e-7260-4318-81d1-abfccaf6fe32"
      },
      "execution_count": 34,
      "outputs": [
        {
          "output_type": "execute_result",
          "data": {
            "text/plain": [
              "<matplotlib.axes._subplots.AxesSubplot at 0x7f0857999dd0>"
            ]
          },
          "metadata": {},
          "execution_count": 34
        },
        {
          "output_type": "display_data",
          "data": {
            "text/plain": [
              "<Figure size 600x400 with 1 Axes>"
            ],
            "image/png": "[encoded data removed]"
          },
          "metadata": {}
        }
      ]
    },
    {
      "cell_type": "markdown",
      "source": [
        "* used scatter plot to visualise the sqft of the houses in the dataset "
      ],
      "metadata": {
        "id": "tgrZ-gf5AGuE"
      }
    },
    {
      "cell_type": "code",
      "source": [
        "plt.figure(figsize= (8,6))\n",
        "sns.barplot(x=df2.AREA,y=df2.SALES_PRICE)"
      ],
      "metadata": {
        "colab": {
          "base_uri": "https://localhost:8080/",
          "height": 558
        },
        "id": "Ff3vvCbIFJli",
        "outputId": "c9ef3a70-e67a-4b4b-ecfa-d323d6f56501"
      },
      "execution_count": 35,
      "outputs": [
        {
          "output_type": "execute_result",
          "data": {
            "text/plain": [
              "<matplotlib.axes._subplots.AxesSubplot at 0x7f08579b2090>"
            ]
          },
          "metadata": {},
          "execution_count": 35
        },
        {
          "output_type": "display_data",
          "data": {
            "text/plain": [
              "<Figure size 800x600 with 1 Axes>"
            ],
            "image/png": "[encoded data removed]"
          },
          "metadata": {}
        }
      ]
    },
    {
      "cell_type": "markdown",
      "source": [
        "* used barplot to visualize sales_price and Area"
      ],
      "metadata": {
        "id": "Y-LbQBLXAbei"
      }
    },
    {
      "cell_type": "code",
      "source": [
        "sns.barplot(x=df2.MZZONE,y=df2.SALES_PRICE)"
      ],
      "metadata": {
        "colab": {
          "base_uri": "https://localhost:8080/",
          "height": 407
        },
        "id": "lLvKUqkyFba3",
        "outputId": "b2cfb55f-f31f-491b-b089-a106b8761f4e"
      },
      "execution_count": 36,
      "outputs": [
        {
          "output_type": "execute_result",
          "data": {
            "text/plain": [
              "<matplotlib.axes._subplots.AxesSubplot at 0x7f085790ee50>"
            ]
          },
          "metadata": {},
          "execution_count": 36
        },
        {
          "output_type": "display_data",
          "data": {
            "text/plain": [
              "<Figure size 600x400 with 1 Axes>"
            ],
            "image/png": "[encoded data removed]"
          },
          "metadata": {}
        }
      ]
    },
    {
      "cell_type": "markdown",
      "source": [
        "* used barplot to visualize sales_price and MZZONE"
      ],
      "metadata": {
        "id": "6K_12J9AAn2f"
      }
    },
    {
      "cell_type": "code",
      "source": [
        "sns.barplot(x=df2.BUILDTYPE,y=df2.SALES_PRICE)"
      ],
      "metadata": {
        "colab": {
          "base_uri": "https://localhost:8080/",
          "height": 407
        },
        "id": "wArzLklpF8aJ",
        "outputId": "1ef41704-cd83-48aa-bbd9-4c8a773c047b"
      },
      "execution_count": 37,
      "outputs": [
        {
          "output_type": "execute_result",
          "data": {
            "text/plain": [
              "<matplotlib.axes._subplots.AxesSubplot at 0x7f085770a390>"
            ]
          },
          "metadata": {},
          "execution_count": 37
        },
        {
          "output_type": "display_data",
          "data": {
            "text/plain": [
              "<Figure size 600x400 with 1 Axes>"
            ],
            "image/png": "[encoded data removed]"
          },
          "metadata": {}
        }
      ]
    },
    {
      "cell_type": "markdown",
      "source": [
        "* used barplot to visualize sales_price and BUILDTYPE"
      ],
      "metadata": {
        "id": "mydu8KN0AsaD"
      }
    },
    {
      "cell_type": "code",
      "source": [
        "sns.barplot(df2.PARK_FACIL,df2.SALES_PRICE)"
      ],
      "metadata": {
        "colab": {
          "base_uri": "https://localhost:8080/",
          "height": 461
        },
        "id": "zfdhAHWVGDS_",
        "outputId": "d10bc08a-358e-469c-9149-70c5fc5acf2c"
      },
      "execution_count": 38,
      "outputs": [
        {
          "output_type": "stream",
          "name": "stderr",
          "text": [
            "/usr/local/lib/python3.7/dist-packages/seaborn/_decorators.py:43: FutureWarning: Pass the following variables as keyword args: x, y. From version 0.12, the only valid positional argument will be `data`, and passing other arguments without an explicit keyword will result in an error or misinterpretation.\n",
            "  FutureWarning\n"
          ]
        },
        {
          "output_type": "execute_result",
          "data": {
            "text/plain": [
              "<matplotlib.axes._subplots.AxesSubplot at 0x7f0857672450>"
            ]
          },
          "metadata": {},
          "execution_count": 38
        },
        {
          "output_type": "display_data",
          "data": {
            "text/plain": [
              "<Figure size 600x400 with 1 Axes>"
            ],
            "image/png": "[encoded data removed]"
          },
          "metadata": {}
        }
      ]
    },
    {
      "cell_type": "markdown",
      "source": [
        "* used barplot to visualize sales_price and PARKING_FACILITY"
      ],
      "metadata": {
        "id": "NY6drBu3Aymv"
      }
    },
    {
      "cell_type": "code",
      "source": [
        "sns.barplot(x=df2.BHK,y=df2.SALES_PRICE)"
      ],
      "metadata": {
        "colab": {
          "base_uri": "https://localhost:8080/",
          "height": 407
        },
        "id": "_rGL3OZ6GGey",
        "outputId": "25410737-8303-458d-c7a9-8ca966cc25e8"
      },
      "execution_count": 39,
      "outputs": [
        {
          "output_type": "execute_result",
          "data": {
            "text/plain": [
              "<matplotlib.axes._subplots.AxesSubplot at 0x7f08578e5290>"
            ]
          },
          "metadata": {},
          "execution_count": 39
        },
        {
          "output_type": "display_data",
          "data": {
            "text/plain": [
              "<Figure size 600x400 with 1 Axes>"
            ],
            "image/png": "[encoded data removed]"
          },
          "metadata": {}
        }
      ]
    },
    {
      "cell_type": "markdown",
      "source": [
        "* used barplot to visualize sales_price and BHK"
      ],
      "metadata": {
        "id": "km6h5mGnA6wL"
      }
    },
    {
      "cell_type": "code",
      "source": [
        "sns.barplot(df2.SALE_COND,df2.SALES_PRICE)"
      ],
      "metadata": {
        "colab": {
          "base_uri": "https://localhost:8080/",
          "height": 461
        },
        "id": "GjU8Ug8qGKG7",
        "outputId": "fb3ccb2d-8821-4c3b-825c-0eadb7f4d0d2"
      },
      "execution_count": 40,
      "outputs": [
        {
          "output_type": "stream",
          "name": "stderr",
          "text": [
            "/usr/local/lib/python3.7/dist-packages/seaborn/_decorators.py:43: FutureWarning: Pass the following variables as keyword args: x, y. From version 0.12, the only valid positional argument will be `data`, and passing other arguments without an explicit keyword will result in an error or misinterpretation.\n",
            "  FutureWarning\n"
          ]
        },
        {
          "output_type": "execute_result",
          "data": {
            "text/plain": [
              "<matplotlib.axes._subplots.AxesSubplot at 0x7f0857936950>"
            ]
          },
          "metadata": {},
          "execution_count": 40
        },
        {
          "output_type": "display_data",
          "data": {
            "text/plain": [
              "<Figure size 600x400 with 1 Axes>"
            ],
            "image/png": "[encoded data removed]"
          },
          "metadata": {}
        }
      ]
    },
    {
      "cell_type": "markdown",
      "source": [
        "* used barplot to visualize sales_price and SALES_CONDITION"
      ],
      "metadata": {
        "id": "EnZci_yDA-5D"
      }
    },
    {
      "cell_type": "code",
      "source": [
        "sns.barplot(df2.UTILITY_AVAIL,df2.SALES_PRICE)"
      ],
      "metadata": {
        "colab": {
          "base_uri": "https://localhost:8080/",
          "height": 461
        },
        "id": "4PJLStpAGR46",
        "outputId": "60494088-2213-4159-d675-be5c47d6c017"
      },
      "execution_count": 41,
      "outputs": [
        {
          "output_type": "stream",
          "name": "stderr",
          "text": [
            "/usr/local/lib/python3.7/dist-packages/seaborn/_decorators.py:43: FutureWarning: Pass the following variables as keyword args: x, y. From version 0.12, the only valid positional argument will be `data`, and passing other arguments without an explicit keyword will result in an error or misinterpretation.\n",
            "  FutureWarning\n"
          ]
        },
        {
          "output_type": "execute_result",
          "data": {
            "text/plain": [
              "<matplotlib.axes._subplots.AxesSubplot at 0x7f0857afc7d0>"
            ]
          },
          "metadata": {},
          "execution_count": 41
        },
        {
          "output_type": "display_data",
          "data": {
            "text/plain": [
              "<Figure size 600x400 with 1 Axes>"
            ],
            "image/png": "[encoded data removed]"
          },
          "metadata": {}
        }
      ]
    },
    {
      "cell_type": "markdown",
      "source": [
        "* used barplot to visualize sales_price and UTILITY_AVAILABLE"
      ],
      "metadata": {
        "id": "-jTW3I3WBEvf"
      }
    },
    {
      "cell_type": "code",
      "source": [
        "sns.barplot(df2.STREET,df2.SALES_PRICE)"
      ],
      "metadata": {
        "colab": {
          "base_uri": "https://localhost:8080/",
          "height": 461
        },
        "id": "l8K9cudDGXL-",
        "outputId": "fe14cf19-b1a2-4b36-b343-5c7ee81cf366"
      },
      "execution_count": 42,
      "outputs": [
        {
          "output_type": "stream",
          "name": "stderr",
          "text": [
            "/usr/local/lib/python3.7/dist-packages/seaborn/_decorators.py:43: FutureWarning: Pass the following variables as keyword args: x, y. From version 0.12, the only valid positional argument will be `data`, and passing other arguments without an explicit keyword will result in an error or misinterpretation.\n",
            "  FutureWarning\n"
          ]
        },
        {
          "output_type": "execute_result",
          "data": {
            "text/plain": [
              "<matplotlib.axes._subplots.AxesSubplot at 0x7f08581e6050>"
            ]
          },
          "metadata": {},
          "execution_count": 42
        },
        {
          "output_type": "display_data",
          "data": {
            "text/plain": [
              "<Figure size 600x400 with 1 Axes>"
            ],
            "image/png": "[encoded data removed]"
          },
          "metadata": {}
        }
      ]
    },
    {
      "cell_type": "markdown",
      "source": [
        "* used barplot to visualize sales_price and STREET"
      ],
      "metadata": {
        "id": "VGsejVpTBKcO"
      }
    },
    {
      "cell_type": "markdown",
      "source": [
        "## Label Encoding"
      ],
      "metadata": {
        "id": "ZQJcAFFSGr4-"
      }
    },
    {
      "cell_type": "code",
      "source": [
        "from sklearn.preprocessing import LabelEncoder\n",
        "label_encoder = LabelEncoder()"
      ],
      "metadata": {
        "id": "KltuAaBBGbSY"
      },
      "execution_count": 43,
      "outputs": []
    },
    {
      "cell_type": "code",
      "source": [
        "df2[\"AREA\"] = label_encoder.fit_transform(df2[\"AREA\"])\n",
        "df2[\"SALE_COND\"] = label_encoder.fit_transform(df2[\"SALE_COND\"])\n",
        "df2[\"PARK_FACIL\"] = label_encoder.fit_transform(df2[\"PARK_FACIL\"])\n",
        "df2[\"BUILDTYPE\"] = label_encoder.fit_transform(df2[\"BUILDTYPE\"])\n",
        "df2[\"UTILITY_AVAIL\"] = label_encoder.fit_transform(df2[\"UTILITY_AVAIL\"])\n",
        "df2[\"STREET\"] = label_encoder.fit_transform(df2[\"STREET\"])\n",
        "df2[\"MZZONE\"] = label_encoder.fit_transform(df2[\"MZZONE\"])"
      ],
      "metadata": {
        "id": "B_Ph06byGxEC"
      },
      "execution_count": 44,
      "outputs": []
    },
    {
      "cell_type": "markdown",
      "source": [
        "* we transformed some data into a Numerical/Machine-readable form using lableEncoder function"
      ],
      "metadata": {
        "id": "z2uM-ZtJBWYS"
      }
    },
    {
      "cell_type": "code",
      "source": [
        "df2.corr()"
      ],
      "metadata": {
        "colab": {
          "base_uri": "https://localhost:8080/",
          "height": 578
        },
        "id": "JMVdmaXDG0Jm",
        "outputId": "ead2bd55-973d-495c-f47c-7328fde67450"
      },
      "execution_count": 45,
      "outputs": [
        {
          "output_type": "execute_result",
          "data": {
            "text/plain": [
              "                   AREA  INT_SQFT  DIST_MAINROAD  SALE_COND  PARK_FACIL  \\\n",
              "AREA           1.000000  0.351331      -0.015105  -0.007565    0.010383   \n",
              "INT_SQFT       0.351331  1.000000       0.002022   0.006969    0.004618   \n",
              "DIST_MAINROAD -0.015105  0.002022       1.000000   0.004367   -0.009448   \n",
              "SALE_COND     -0.007565  0.006969       0.004367   1.000000   -0.012948   \n",
              "PARK_FACIL     0.010383  0.004618      -0.009448  -0.012948    1.000000   \n",
              "BUILDTYPE     -0.009517 -0.006329      -0.014235  -0.010065   -0.006436   \n",
              "UTILITY_AVAIL  0.007268  0.022839       0.006893   0.010887   -0.004610   \n",
              "STREET         0.014482  0.008341       0.011087   0.012191    0.007567   \n",
              "MZZONE        -0.154106  0.143226       0.007334   0.023552   -0.007192   \n",
              "QS_ROOMS       0.006299  0.016146       0.013050   0.011830   -0.012234   \n",
              "QS_BATHROOM    0.002450 -0.011463      -0.021857  -0.009298   -0.011484   \n",
              "QS_BEDROOM     0.007486  0.005847       0.002757  -0.004171   -0.002365   \n",
              "SALES_PRICE   -0.019138  0.612125       0.018783  -0.030732    0.146428   \n",
              "HOUSE_AGE      0.180388 -0.013171      -0.003493  -0.008473   -0.009456   \n",
              "BHK            0.005116  0.006736      -0.013407  -0.011197    0.001554   \n",
              "\n",
              "               BUILDTYPE  UTILITY_AVAIL    STREET    MZZONE  QS_ROOMS  \\\n",
              "AREA           -0.009517       0.007268  0.014482 -0.154106  0.006299   \n",
              "INT_SQFT       -0.006329       0.022839  0.008341  0.143226  0.016146   \n",
              "DIST_MAINROAD  -0.014235       0.006893  0.011087  0.007334  0.013050   \n",
              "SALE_COND      -0.010065       0.010887  0.012191  0.023552  0.011830   \n",
              "PARK_FACIL     -0.006436      -0.004610  0.007567 -0.007192 -0.012234   \n",
              "BUILDTYPE       1.000000       0.009981 -0.010680 -0.016594 -0.000304   \n",
              "UTILITY_AVAIL   0.009981       1.000000  0.012612  0.015688  0.006215   \n",
              "STREET         -0.010680       0.012612  1.000000 -0.002052  0.015438   \n",
              "MZZONE         -0.016594       0.015688 -0.002052  1.000000  0.002644   \n",
              "QS_ROOMS       -0.000304       0.006215  0.015438  0.002644  1.000000   \n",
              "QS_BATHROOM     0.013384       0.010926  0.007095 -0.018049  0.001796   \n",
              "QS_BEDROOM      0.003509       0.010437 -0.016388  0.005534  0.009590   \n",
              "SALES_PRICE    -0.436276      -0.015913 -0.042652  0.427789  0.016059   \n",
              "HOUSE_AGE       0.003785      -0.004853  0.004271 -0.111261  0.016728   \n",
              "BHK             0.005158       0.001445 -0.001170 -0.009327  0.430916   \n",
              "\n",
              "               QS_BATHROOM  QS_BEDROOM  SALES_PRICE  HOUSE_AGE       BHK  \n",
              "AREA              0.002450    0.007486    -0.019138   0.180388  0.005116  \n",
              "INT_SQFT         -0.011463    0.005847     0.612125  -0.013171  0.006736  \n",
              "DIST_MAINROAD    -0.021857    0.002757     0.018783  -0.003493 -0.013407  \n",
              "SALE_COND        -0.009298   -0.004171    -0.030732  -0.008473 -0.011197  \n",
              "PARK_FACIL       -0.011484   -0.002365     0.146428  -0.009456  0.001554  \n",
              "BUILDTYPE         0.013384    0.003509    -0.436276   0.003785  0.005158  \n",
              "UTILITY_AVAIL     0.010926    0.010437    -0.015913  -0.004853  0.001445  \n",
              "STREET            0.007095   -0.016388    -0.042652   0.004271 -0.001170  \n",
              "MZZONE           -0.018049    0.005534     0.427789  -0.111261 -0.009327  \n",
              "QS_ROOMS          0.001796    0.009590     0.016059   0.016728  0.430916  \n",
              "QS_BATHROOM       1.000000   -0.011917    -0.019469   0.021426  0.446978  \n",
              "QS_BEDROOM       -0.011917    1.000000     0.015044  -0.012913  0.528683  \n",
              "SALES_PRICE      -0.019469    0.015044     1.000000  -0.119509  0.014023  \n",
              "HOUSE_AGE         0.021426   -0.012913    -0.119509   1.000000  0.012304  \n",
              "BHK               0.446978    0.528683     0.014023   0.012304  1.000000  "
            ],
            "text/html": [
              "\n",
              "  <div id=\"df-41368fde-9e2c-4fdd-a145-791e5cd1c834\">\n",
              "    <div class=\"colab-df-container\">\n",
              "      <div>\n",
              "<style scoped>\n",
              "    .dataframe tbody tr th:only-of-type {\n",
              "        vertical-align: middle;\n",
              "    }\n",
              "\n",
              "    .dataframe tbody tr th {\n",
              "        vertical-align: top;\n",
              "    }\n",
              "\n",
              "    .dataframe thead th {\n",
              "        text-align: right;\n",
              "    }\n",
              "</style>\n",
              "<table border=\"1\" class=\"dataframe\">\n",
              "  <thead>\n",
              "    <tr style=\"text-align: right;\">\n",
              "      <th></th>\n",
              "      <th>AREA</th>\n",
              "      <th>INT_SQFT</th>\n",
              "      <th>DIST_MAINROAD</th>\n",
              "      <th>SALE_COND</th>\n",
              "      <th>PARK_FACIL</th>\n",
              "      <th>BUILDTYPE</th>\n",
              "      <th>UTILITY_AVAIL</th>\n",
              "      <th>STREET</th>\n",
              "      <th>MZZONE</th>\n",
              "      <th>QS_ROOMS</th>\n",
              "      <th>QS_BATHROOM</th>\n",
              "      <th>QS_BEDROOM</th>\n",
              "      <th>SALES_PRICE</th>\n",
              "      <th>HOUSE_AGE</th>\n",
              "      <th>BHK</th>\n",
              "    </tr>\n",
              "  </thead>\n",
              "  <tbody>\n",
              "    <tr>\n",
              "      <th>AREA</th>\n",
              "      <td>1.000000</td>\n",
              "      <td>0.351331</td>\n",
              "      <td>-0.015105</td>\n",
              "      <td>-0.007565</td>\n",
              "      <td>0.010383</td>\n",
              "      <td>-0.009517</td>\n",
              "      <td>0.007268</td>\n",
              "      <td>0.014482</td>\n",
              "      <td>-0.154106</td>\n",
              "      <td>0.006299</td>\n",
              "      <td>0.002450</td>\n",
              "      <td>0.007486</td>\n",
              "      <td>-0.019138</td>\n",
              "      <td>0.180388</td>\n",
              "      <td>0.005116</td>\n",
              "    </tr>\n",
              "    <tr>\n",
              "      <th>INT_SQFT</th>\n",
              "      <td>0.351331</td>\n",
              "      <td>1.000000</td>\n",
              "      <td>0.002022</td>\n",
              "      <td>0.006969</td>\n",
              "      <td>0.004618</td>\n",
              "      <td>-0.006329</td>\n",
              "      <td>0.022839</td>\n",
              "      <td>0.008341</td>\n",
              "      <td>0.143226</td>\n",
              "      <td>0.016146</td>\n",
              "      <td>-0.011463</td>\n",
              "      <td>0.005847</td>\n",
              "      <td>0.612125</td>\n",
              "      <td>-0.013171</td>\n",
              "      <td>0.006736</td>\n",
              "    </tr>\n",
              "    <tr>\n",
              "      <th>DIST_MAINROAD</th>\n",
              "      <td>-0.015105</td>\n",
              "      <td>0.002022</td>\n",
              "      <td>1.000000</td>\n",
              "      <td>0.004367</td>\n",
              "      <td>-0.009448</td>\n",
              "      <td>-0.014235</td>\n",
              "      <td>0.006893</td>\n",
              "      <td>0.011087</td>\n",
              "      <td>0.007334</td>\n",
              "      <td>0.013050</td>\n",
              "      <td>-0.021857</td>\n",
              "      <td>0.002757</td>\n",
              "      <td>0.018783</td>\n",
              "      <td>-0.003493</td>\n",
              "      <td>-0.013407</td>\n",
              "    </tr>\n",
              "    <tr>\n",
              "      <th>SALE_COND</th>\n",
              "      <td>-0.007565</td>\n",
              "      <td>0.006969</td>\n",
              "      <td>0.004367</td>\n",
              "      <td>1.000000</td>\n",
              "      <td>-0.012948</td>\n",
              "      <td>-0.010065</td>\n",
              "      <td>0.010887</td>\n",
              "      <td>0.012191</td>\n",
              "      <td>0.023552</td>\n",
              "      <td>0.011830</td>\n",
              "      <td>-0.009298</td>\n",
              "      <td>-0.004171</td>\n",
              "      <td>-0.030732</td>\n",
              "      <td>-0.008473</td>\n",
              "      <td>-0.011197</td>\n",
              "    </tr>\n",
              "    <tr>\n",
              "      <th>PARK_FACIL</th>\n",
              "      <td>0.010383</td>\n",
              "      <td>0.004618</td>\n",
              "      <td>-0.009448</td>\n",
              "      <td>-0.012948</td>\n",
              "      <td>1.000000</td>\n",
              "      <td>-0.006436</td>\n",
              "      <td>-0.004610</td>\n",
              "      <td>0.007567</td>\n",
              "      <td>-0.007192</td>\n",
              "      <td>-0.012234</td>\n",
              "      <td>-0.011484</td>\n",
              "      <td>-0.002365</td>\n",
              "      <td>0.146428</td>\n",
              "      <td>-0.009456</td>\n",
              "      <td>0.001554</td>\n",
              "    </tr>\n",
              "    <tr>\n",
              "      <th>BUILDTYPE</th>\n",
              "      <td>-0.009517</td>\n",
              "      <td>-0.006329</td>\n",
              "      <td>-0.014235</td>\n",
              "      <td>-0.010065</td>\n",
              "      <td>-0.006436</td>\n",
              "      <td>1.000000</td>\n",
              "      <td>0.009981</td>\n",
              "      <td>-0.010680</td>\n",
              "      <td>-0.016594</td>\n",
              "      <td>-0.000304</td>\n",
              "      <td>0.013384</td>\n",
              "      <td>0.003509</td>\n",
              "      <td>-0.436276</td>\n",
              "      <td>0.003785</td>\n",
              "      <td>0.005158</td>\n",
              "    </tr>\n",
              "    <tr>\n",
              "      <th>UTILITY_AVAIL</th>\n",
              "      <td>0.007268</td>\n",
              "      <td>0.022839</td>\n",
              "      <td>0.006893</td>\n",
              "      <td>0.010887</td>\n",
              "      <td>-0.004610</td>\n",
              "      <td>0.009981</td>\n",
              "      <td>1.000000</td>\n",
              "      <td>0.012612</td>\n",
              "      <td>0.015688</td>\n",
              "      <td>0.006215</td>\n",
              "      <td>0.010926</td>\n",
              "      <td>0.010437</td>\n",
              "      <td>-0.015913</td>\n",
              "      <td>-0.004853</td>\n",
              "      <td>0.001445</td>\n",
              "    </tr>\n",
              "    <tr>\n",
              "      <th>STREET</th>\n",
              "      <td>0.014482</td>\n",
              "      <td>0.008341</td>\n",
              "      <td>0.011087</td>\n",
              "      <td>0.012191</td>\n",
              "      <td>0.007567</td>\n",
              "      <td>-0.010680</td>\n",
              "      <td>0.012612</td>\n",
              "      <td>1.000000</td>\n",
              "      <td>-0.002052</td>\n",
              "      <td>0.015438</td>\n",
              "      <td>0.007095</td>\n",
              "      <td>-0.016388</td>\n",
              "      <td>-0.042652</td>\n",
              "      <td>0.004271</td>\n",
              "      <td>-0.001170</td>\n",
              "    </tr>\n",
              "    <tr>\n",
              "      <th>MZZONE</th>\n",
              "      <td>-0.154106</td>\n",
              "      <td>0.143226</td>\n",
              "      <td>0.007334</td>\n",
              "      <td>0.023552</td>\n",
              "      <td>-0.007192</td>\n",
              "      <td>-0.016594</td>\n",
              "      <td>0.015688</td>\n",
              "      <td>-0.002052</td>\n",
              "      <td>1.000000</td>\n",
              "      <td>0.002644</td>\n",
              "      <td>-0.018049</td>\n",
              "      <td>0.005534</td>\n",
              "      <td>0.427789</td>\n",
              "      <td>-0.111261</td>\n",
              "      <td>-0.009327</td>\n",
              "    </tr>\n",
              "    <tr>\n",
              "      <th>QS_ROOMS</th>\n",
              "      <td>0.006299</td>\n",
              "      <td>0.016146</td>\n",
              "      <td>0.013050</td>\n",
              "      <td>0.011830</td>\n",
              "      <td>-0.012234</td>\n",
              "      <td>-0.000304</td>\n",
              "      <td>0.006215</td>\n",
              "      <td>0.015438</td>\n",
              "      <td>0.002644</td>\n",
              "      <td>1.000000</td>\n",
              "      <td>0.001796</td>\n",
              "      <td>0.009590</td>\n",
              "      <td>0.016059</td>\n",
              "      <td>0.016728</td>\n",
              "      <td>0.430916</td>\n",
              "    </tr>\n",
              "    <tr>\n",
              "      <th>QS_BATHROOM</th>\n",
              "      <td>0.002450</td>\n",
              "      <td>-0.011463</td>\n",
              "      <td>-0.021857</td>\n",
              "      <td>-0.009298</td>\n",
              "      <td>-0.011484</td>\n",
              "      <td>0.013384</td>\n",
              "      <td>0.010926</td>\n",
              "      <td>0.007095</td>\n",
              "      <td>-0.018049</td>\n",
              "      <td>0.001796</td>\n",
              "      <td>1.000000</td>\n",
              "      <td>-0.011917</td>\n",
              "      <td>-0.019469</td>\n",
              "      <td>0.021426</td>\n",
              "      <td>0.446978</td>\n",
              "    </tr>\n",
              "    <tr>\n",
              "      <th>QS_BEDROOM</th>\n",
              "      <td>0.007486</td>\n",
              "      <td>0.005847</td>\n",
              "      <td>0.002757</td>\n",
              "      <td>-0.004171</td>\n",
              "      <td>-0.002365</td>\n",
              "      <td>0.003509</td>\n",
              "      <td>0.010437</td>\n",
              "      <td>-0.016388</td>\n",
              "      <td>0.005534</td>\n",
              "      <td>0.009590</td>\n",
              "      <td>-0.011917</td>\n",
              "      <td>1.000000</td>\n",
              "      <td>0.015044</td>\n",
              "      <td>-0.012913</td>\n",
              "      <td>0.528683</td>\n",
              "    </tr>\n",
              "    <tr>\n",
              "      <th>SALES_PRICE</th>\n",
              "      <td>-0.019138</td>\n",
              "      <td>0.612125</td>\n",
              "      <td>0.018783</td>\n",
              "      <td>-0.030732</td>\n",
              "      <td>0.146428</td>\n",
              "      <td>-0.436276</td>\n",
              "      <td>-0.015913</td>\n",
              "      <td>-0.042652</td>\n",
              "      <td>0.427789</td>\n",
              "      <td>0.016059</td>\n",
              "      <td>-0.019469</td>\n",
              "      <td>0.015044</td>\n",
              "      <td>1.000000</td>\n",
              "      <td>-0.119509</td>\n",
              "      <td>0.014023</td>\n",
              "    </tr>\n",
              "    <tr>\n",
              "      <th>HOUSE_AGE</th>\n",
              "      <td>0.180388</td>\n",
              "      <td>-0.013171</td>\n",
              "      <td>-0.003493</td>\n",
              "      <td>-0.008473</td>\n",
              "      <td>-0.009456</td>\n",
              "      <td>0.003785</td>\n",
              "      <td>-0.004853</td>\n",
              "      <td>0.004271</td>\n",
              "      <td>-0.111261</td>\n",
              "      <td>0.016728</td>\n",
              "      <td>0.021426</td>\n",
              "      <td>-0.012913</td>\n",
              "      <td>-0.119509</td>\n",
              "      <td>1.000000</td>\n",
              "      <td>0.012304</td>\n",
              "    </tr>\n",
              "    <tr>\n",
              "      <th>BHK</th>\n",
              "      <td>0.005116</td>\n",
              "      <td>0.006736</td>\n",
              "      <td>-0.013407</td>\n",
              "      <td>-0.011197</td>\n",
              "      <td>0.001554</td>\n",
              "      <td>0.005158</td>\n",
              "      <td>0.001445</td>\n",
              "      <td>-0.001170</td>\n",
              "      <td>-0.009327</td>\n",
              "      <td>0.430916</td>\n",
              "      <td>0.446978</td>\n",
              "      <td>0.528683</td>\n",
              "      <td>0.014023</td>\n",
              "      <td>0.012304</td>\n",
              "      <td>1.000000</td>\n",
              "    </tr>\n",
              "  </tbody>\n",
              "</table>\n",
              "</div>\n",
              "      <button class=\"colab-df-convert\" onclick=\"convertToInteractive('df-41368fde-9e2c-4fdd-a145-791e5cd1c834')\"\n",
              "              title=\"Convert this dataframe to an interactive table.\"\n",
              "              style=\"display:none;\">\n",
              "        \n",
              "  <svg xmlns=\"http://www.w3.org/2000/svg\" height=\"24px\"viewBox=\"0 0 24 24\"\n",
              "       width=\"24px\">\n",
              "    <path d=\"M0 0h24v24H0V0z\" fill=\"none\"/>\n",
              "    <path d=\"M18.56 5.44l.94 2.06.94-2.06 2.06-.94-2.06-.94-.94-2.06-.94 2.06-2.06.94zm-11 1L8.5 8.5l.94-2.06 2.06-.94-2.06-.94L8.5 2.5l-.94 2.06-2.06.94zm10 10l.94 2.06.94-2.06 2.06-.94-2.06-.94-.94-2.06-.94 2.06-2.06.94z\"/><path d=\"M17.41 7.96l-1.37-1.37c-.4-.4-.92-.59-1.43-.59-.52 0-1.04.2-1.43.59L10.3 9.45l-7.72 7.72c-.78.78-.78 2.05 0 2.83L4 21.41c.39.39.9.59 1.41.59.51 0 1.02-.2 1.41-.59l7.78-7.78 2.81-2.81c.8-.78.8-2.07 0-2.86zM5.41 20L4 18.59l7.72-7.72 1.47 1.35L5.41 20z\"/>\n",
              "  </svg>\n",
              "      </button>\n",
              "      \n",
              "  <style>\n",
              "    .colab-df-container {\n",
              "      display:flex;\n",
              "      flex-wrap:wrap;\n",
              "      gap: 12px;\n",
              "    }\n",
              "\n",
              "    .colab-df-convert {\n",
              "      background-color: #E8F0FE;\n",
              "      border: none;\n",
              "      border-radius: 50%;\n",
              "      cursor: pointer;\n",
              "      display: none;\n",
              "      fill: #1967D2;\n",
              "      height: 32px;\n",
              "      padding: 0 0 0 0;\n",
              "      width: 32px;\n",
              "    }\n",
              "\n",
              "    .colab-df-convert:hover {\n",
              "      background-color: #E2EBFA;\n",
              "      box-shadow: 0px 1px 2px rgba(60, 64, 67, 0.3), 0px 1px 3px 1px rgba(60, 64, 67, 0.15);\n",
              "      fill: #174EA6;\n",
              "    }\n",
              "\n",
              "    [theme=dark] .colab-df-convert {\n",
              "      background-color: #3B4455;\n",
              "      fill: #D2E3FC;\n",
              "    }\n",
              "\n",
              "    [theme=dark] .colab-df-convert:hover {\n",
              "      background-color: #434B5C;\n",
              "      box-shadow: 0px 1px 3px 1px rgba(0, 0, 0, 0.15);\n",
              "      filter: drop-shadow(0px 1px 2px rgba(0, 0, 0, 0.3));\n",
              "      fill: #FFFFFF;\n",
              "    }\n",
              "  </style>\n",
              "\n",
              "      <script>\n",
              "        const buttonEl =\n",
              "          document.querySelector('#df-41368fde-9e2c-4fdd-a145-791e5cd1c834 button.colab-df-convert');\n",
              "        buttonEl.style.display =\n",
              "          google.colab.kernel.accessAllowed ? 'block' : 'none';\n",
              "\n",
              "        async function convertToInteractive(key) {\n",
              "          const element = document.querySelector('#df-41368fde-9e2c-4fdd-a145-791e5cd1c834');\n",
              "          const dataTable =\n",
              "            await google.colab.kernel.invokeFunction('convertToInteractive',\n",
              "                                                     [key], {});\n",
              "          if (!dataTable) return;\n",
              "\n",
              "          const docLinkHtml = 'Like what you see? Visit the ' +\n",
              "            '<a target=\"_blank\" href=https://colab.research.google.com/notebooks/data_table.ipynb>data table notebook</a>'\n",
              "            + ' to learn more about interactive tables.';\n",
              "          element.innerHTML = '';\n",
              "          dataTable['output_type'] = 'display_data';\n",
              "          await google.colab.output.renderOutput(dataTable, element);\n",
              "          const docLink = document.createElement('div');\n",
              "          docLink.innerHTML = docLinkHtml;\n",
              "          element.appendChild(docLink);\n",
              "        }\n",
              "      </script>\n",
              "    </div>\n",
              "  </div>\n",
              "  "
            ]
          },
          "metadata": {},
          "execution_count": 45
        }
      ]
    },
    {
      "cell_type": "markdown",
      "source": [
        "* so we can see that the datas are been converted into a Numerical form of data and it is ready for the validation "
      ],
      "metadata": {
        "id": "c-2arc2HCUXW"
      }
    },
    {
      "cell_type": "code",
      "source": [
        "df2.corr()[\"SALES_PRICE\"].sort_values(ascending = False)"
      ],
      "metadata": {
        "colab": {
          "base_uri": "https://localhost:8080/"
        },
        "id": "iyOA4DUZG3-2",
        "outputId": "1af0a331-da59-4c7f-cce3-9d285d252324"
      },
      "execution_count": 46,
      "outputs": [
        {
          "output_type": "execute_result",
          "data": {
            "text/plain": [
              "SALES_PRICE      1.000000\n",
              "INT_SQFT         0.612125\n",
              "MZZONE           0.427789\n",
              "PARK_FACIL       0.146428\n",
              "DIST_MAINROAD    0.018783\n",
              "QS_ROOMS         0.016059\n",
              "QS_BEDROOM       0.015044\n",
              "BHK              0.014023\n",
              "UTILITY_AVAIL   -0.015913\n",
              "AREA            -0.019138\n",
              "QS_BATHROOM     -0.019469\n",
              "SALE_COND       -0.030732\n",
              "STREET          -0.042652\n",
              "HOUSE_AGE       -0.119509\n",
              "BUILDTYPE       -0.436276\n",
              "Name: SALES_PRICE, dtype: float64"
            ]
          },
          "metadata": {},
          "execution_count": 46
        }
      ]
    },
    {
      "cell_type": "markdown",
      "source": [
        "* we sorted the data in ascenting order using sort_values(ascending=F) function"
      ],
      "metadata": {
        "id": "_gfZ-n0gCmLr"
      }
    },
    {
      "cell_type": "code",
      "source": [
        "df2.hist(bins=10,figsize=(20,12))\n",
        "plt.show()"
      ],
      "metadata": {
        "colab": {
          "base_uri": "https://localhost:8080/",
          "height": 637
        },
        "id": "PeQ2_mZKG9zO",
        "outputId": "ff034c84-10d6-4fe7-98aa-68af16d0e158"
      },
      "execution_count": 47,
      "outputs": [
        {
          "output_type": "display_data",
          "data": {
            "text/plain": [
              "<Figure size 2000x1200 with 16 Axes>"
            ],
            "image/png": "[encoded data removed]"
          },
          "metadata": {}
        }
      ]
    },
    {
      "cell_type": "markdown",
      "source": [
        "* We created the Histogram plot for all the data present in the dataset to know about the graphical form of the datasets"
      ],
      "metadata": {
        "id": "uUmsnY4aDCvI"
      }
    },
    {
      "cell_type": "code",
      "source": [
        "plt.figure(figsize=(17,13))\n",
        "sns.heatmap(df2.corr(),cmap='bwr' ,annot=True)"
      ],
      "metadata": {
        "colab": {
          "base_uri": "https://localhost:8080/",
          "height": 884
        },
        "id": "xoGF_qXfHG2W",
        "outputId": "3a24d79a-f00b-4c8b-df79-f798a9766039"
      },
      "execution_count": 48,
      "outputs": [
        {
          "output_type": "execute_result",
          "data": {
            "text/plain": [
              "<matplotlib.axes._subplots.AxesSubplot at 0x7f0857f10f50>"
            ]
          },
          "metadata": {},
          "execution_count": 48
        },
        {
          "output_type": "display_data",
          "data": {
            "text/plain": [
              "<Figure size 1700x1300 with 2 Axes>"
            ],
            "image/png": "[encoded data removed]"
          },
          "metadata": {}
        }
      ]
    },
    {
      "cell_type": "markdown",
      "source": [
        "* we created a headmap for all the data presented on the dataset"
      ],
      "metadata": {
        "id": "61CjCIKwDbRg"
      }
    },
    {
      "cell_type": "code",
      "source": [
        "sns.heatmap(df2[[\"SALES_PRICE\", \"UTILITY_AVAIL\", \"SALE_COND\", \"PARK_FACIL\", \"STREET\"]].corr(), annot=True);"
      ],
      "metadata": {
        "colab": {
          "base_uri": "https://localhost:8080/",
          "height": 362
        },
        "id": "MXEQOPQJHUqk",
        "outputId": "214949a9-05d9-49ad-9886-821d823326ef"
      },
      "execution_count": 49,
      "outputs": [
        {
          "output_type": "display_data",
          "data": {
            "text/plain": [
              "<Figure size 600x400 with 2 Axes>"
            ],
            "image/png": "[encoded data removed]"
          },
          "metadata": {}
        }
      ]
    },
    {
      "cell_type": "markdown",
      "source": [
        "* we created a heatmap for sales_price, utility_available, sales_condition, parking_facilty and street"
      ],
      "metadata": {
        "id": "BH-5FweDDm1p"
      }
    },
    {
      "cell_type": "code",
      "source": [
        "sns.heatmap(df2[[\"SALES_PRICE\", \"HOUSE_AGE\"]].corr(), annot=True);"
      ],
      "metadata": {
        "colab": {
          "base_uri": "https://localhost:8080/",
          "height": 362
        },
        "id": "lBI6OWr-IdbA",
        "outputId": "04793eff-2515-43e5-9d13-90b5b7405281"
      },
      "execution_count": 50,
      "outputs": [
        {
          "output_type": "display_data",
          "data": {
            "text/plain": [
              "<Figure size 600x400 with 2 Axes>"
            ],
            "image/png": "[encoded data removed]"
          },
          "metadata": {}
        }
      ]
    },
    {
      "cell_type": "markdown",
      "source": [
        "* we created heatmap for sales_price and house_age"
      ],
      "metadata": {
        "id": "S_CUpuJKE0Eg"
      }
    },
    {
      "cell_type": "code",
      "source": [
        "df3 = df2.copy()\n",
        "df3.head()"
      ],
      "metadata": {
        "colab": {
          "base_uri": "https://localhost:8080/",
          "height": 268
        },
        "id": "xmZiKgyNItTR",
        "outputId": "4eed9416-3224-4251-f024-53bca086d466"
      },
      "execution_count": 51,
      "outputs": [
        {
          "output_type": "execute_result",
          "data": {
            "text/plain": [
              "   AREA  INT_SQFT  DIST_MAINROAD  SALE_COND  PARK_FACIL  BUILDTYPE  \\\n",
              "0     4      1004            131          0           1          0   \n",
              "1     1      1986             26          0           0          0   \n",
              "2     0       909             70          0           1          0   \n",
              "3     6      1855             14          2           0          2   \n",
              "4     4      1226             84          0           1          2   \n",
              "\n",
              "   UTILITY_AVAIL  STREET  MZZONE  QS_ROOMS  QS_BATHROOM  QS_BEDROOM  \\\n",
              "0              0       2       0         4            3           4   \n",
              "1              0       0       3         4            4           2   \n",
              "2              1       0       4         4            3           2   \n",
              "3              3       2       2         4            3           3   \n",
              "4              0       0       1         3            2           4   \n",
              "\n",
              "   SALES_PRICE  HOUSE_AGE  BHK  \n",
              "0      7600000       44.0    4  \n",
              "1     21717770       11.0    3  \n",
              "2     13159200       20.0    3  \n",
              "3      9630290       22.0    4  \n",
              "4      7406250       30.0    3  "
            ],
            "text/html": [
              "\n",
              "  <div id=\"df-e2d38121-445b-4491-8748-da22e484c5c8\">\n",
              "    <div class=\"colab-df-container\">\n",
              "      <div>\n",
              "<style scoped>\n",
              "    .dataframe tbody tr th:only-of-type {\n",
              "        vertical-align: middle;\n",
              "    }\n",
              "\n",
              "    .dataframe tbody tr th {\n",
              "        vertical-align: top;\n",
              "    }\n",
              "\n",
              "    .dataframe thead th {\n",
              "        text-align: right;\n",
              "    }\n",
              "</style>\n",
              "<table border=\"1\" class=\"dataframe\">\n",
              "  <thead>\n",
              "    <tr style=\"text-align: right;\">\n",
              "      <th></th>\n",
              "      <th>AREA</th>\n",
              "      <th>INT_SQFT</th>\n",
              "      <th>DIST_MAINROAD</th>\n",
              "      <th>SALE_COND</th>\n",
              "      <th>PARK_FACIL</th>\n",
              "      <th>BUILDTYPE</th>\n",
              "      <th>UTILITY_AVAIL</th>\n",
              "      <th>STREET</th>\n",
              "      <th>MZZONE</th>\n",
              "      <th>QS_ROOMS</th>\n",
              "      <th>QS_BATHROOM</th>\n",
              "      <th>QS_BEDROOM</th>\n",
              "      <th>SALES_PRICE</th>\n",
              "      <th>HOUSE_AGE</th>\n",
              "      <th>BHK</th>\n",
              "    </tr>\n",
              "  </thead>\n",
              "  <tbody>\n",
              "    <tr>\n",
              "      <th>0</th>\n",
              "      <td>4</td>\n",
              "      <td>1004</td>\n",
              "      <td>131</td>\n",
              "      <td>0</td>\n",
              "      <td>1</td>\n",
              "      <td>0</td>\n",
              "      <td>0</td>\n",
              "      <td>2</td>\n",
              "      <td>0</td>\n",
              "      <td>4</td>\n",
              "      <td>3</td>\n",
              "      <td>4</td>\n",
              "      <td>7600000</td>\n",
              "      <td>44.0</td>\n",
              "      <td>4</td>\n",
              "    </tr>\n",
              "    <tr>\n",
              "      <th>1</th>\n",
              "      <td>1</td>\n",
              "      <td>1986</td>\n",
              "      <td>26</td>\n",
              "      <td>0</td>\n",
              "      <td>0</td>\n",
              "      <td>0</td>\n",
              "      <td>0</td>\n",
              "      <td>0</td>\n",
              "      <td>3</td>\n",
              "      <td>4</td>\n",
              "      <td>4</td>\n",
              "      <td>2</td>\n",
              "      <td>21717770</td>\n",
              "      <td>11.0</td>\n",
              "      <td>3</td>\n",
              "    </tr>\n",
              "    <tr>\n",
              "      <th>2</th>\n",
              "      <td>0</td>\n",
              "      <td>909</td>\n",
              "      <td>70</td>\n",
              "      <td>0</td>\n",
              "      <td>1</td>\n",
              "      <td>0</td>\n",
              "      <td>1</td>\n",
              "      <td>0</td>\n",
              "      <td>4</td>\n",
              "      <td>4</td>\n",
              "      <td>3</td>\n",
              "      <td>2</td>\n",
              "      <td>13159200</td>\n",
              "      <td>20.0</td>\n",
              "      <td>3</td>\n",
              "    </tr>\n",
              "    <tr>\n",
              "      <th>3</th>\n",
              "      <td>6</td>\n",
              "      <td>1855</td>\n",
              "      <td>14</td>\n",
              "      <td>2</td>\n",
              "      <td>0</td>\n",
              "      <td>2</td>\n",
              "      <td>3</td>\n",
              "      <td>2</td>\n",
              "      <td>2</td>\n",
              "      <td>4</td>\n",
              "      <td>3</td>\n",
              "      <td>3</td>\n",
              "      <td>9630290</td>\n",
              "      <td>22.0</td>\n",
              "      <td>4</td>\n",
              "    </tr>\n",
              "    <tr>\n",
              "      <th>4</th>\n",
              "      <td>4</td>\n",
              "      <td>1226</td>\n",
              "      <td>84</td>\n",
              "      <td>0</td>\n",
              "      <td>1</td>\n",
              "      <td>2</td>\n",
              "      <td>0</td>\n",
              "      <td>0</td>\n",
              "      <td>1</td>\n",
              "      <td>3</td>\n",
              "      <td>2</td>\n",
              "      <td>4</td>\n",
              "      <td>7406250</td>\n",
              "      <td>30.0</td>\n",
              "      <td>3</td>\n",
              "    </tr>\n",
              "  </tbody>\n",
              "</table>\n",
              "</div>\n",
              "      <button class=\"colab-df-convert\" onclick=\"convertToInteractive('df-e2d38121-445b-4491-8748-da22e484c5c8')\"\n",
              "              title=\"Convert this dataframe to an interactive table.\"\n",
              "              style=\"display:none;\">\n",
              "        \n",
              "  <svg xmlns=\"http://www.w3.org/2000/svg\" height=\"24px\"viewBox=\"0 0 24 24\"\n",
              "       width=\"24px\">\n",
              "    <path d=\"M0 0h24v24H0V0z\" fill=\"none\"/>\n",
              "    <path d=\"M18.56 5.44l.94 2.06.94-2.06 2.06-.94-2.06-.94-.94-2.06-.94 2.06-2.06.94zm-11 1L8.5 8.5l.94-2.06 2.06-.94-2.06-.94L8.5 2.5l-.94 2.06-2.06.94zm10 10l.94 2.06.94-2.06 2.06-.94-2.06-.94-.94-2.06-.94 2.06-2.06.94z\"/><path d=\"M17.41 7.96l-1.37-1.37c-.4-.4-.92-.59-1.43-.59-.52 0-1.04.2-1.43.59L10.3 9.45l-7.72 7.72c-.78.78-.78 2.05 0 2.83L4 21.41c.39.39.9.59 1.41.59.51 0 1.02-.2 1.41-.59l7.78-7.78 2.81-2.81c.8-.78.8-2.07 0-2.86zM5.41 20L4 18.59l7.72-7.72 1.47 1.35L5.41 20z\"/>\n",
              "  </svg>\n",
              "      </button>\n",
              "      \n",
              "  <style>\n",
              "    .colab-df-container {\n",
              "      display:flex;\n",
              "      flex-wrap:wrap;\n",
              "      gap: 12px;\n",
              "    }\n",
              "\n",
              "    .colab-df-convert {\n",
              "      background-color: #E8F0FE;\n",
              "      border: none;\n",
              "      border-radius: 50%;\n",
              "      cursor: pointer;\n",
              "      display: none;\n",
              "      fill: #1967D2;\n",
              "      height: 32px;\n",
              "      padding: 0 0 0 0;\n",
              "      width: 32px;\n",
              "    }\n",
              "\n",
              "    .colab-df-convert:hover {\n",
              "      background-color: #E2EBFA;\n",
              "      box-shadow: 0px 1px 2px rgba(60, 64, 67, 0.3), 0px 1px 3px 1px rgba(60, 64, 67, 0.15);\n",
              "      fill: #174EA6;\n",
              "    }\n",
              "\n",
              "    [theme=dark] .colab-df-convert {\n",
              "      background-color: #3B4455;\n",
              "      fill: #D2E3FC;\n",
              "    }\n",
              "\n",
              "    [theme=dark] .colab-df-convert:hover {\n",
              "      background-color: #434B5C;\n",
              "      box-shadow: 0px 1px 3px 1px rgba(0, 0, 0, 0.15);\n",
              "      filter: drop-shadow(0px 1px 2px rgba(0, 0, 0, 0.3));\n",
              "      fill: #FFFFFF;\n",
              "    }\n",
              "  </style>\n",
              "\n",
              "      <script>\n",
              "        const buttonEl =\n",
              "          document.querySelector('#df-e2d38121-445b-4491-8748-da22e484c5c8 button.colab-df-convert');\n",
              "        buttonEl.style.display =\n",
              "          google.colab.kernel.accessAllowed ? 'block' : 'none';\n",
              "\n",
              "        async function convertToInteractive(key) {\n",
              "          const element = document.querySelector('#df-e2d38121-445b-4491-8748-da22e484c5c8');\n",
              "          const dataTable =\n",
              "            await google.colab.kernel.invokeFunction('convertToInteractive',\n",
              "                                                     [key], {});\n",
              "          if (!dataTable) return;\n",
              "\n",
              "          const docLinkHtml = 'Like what you see? Visit the ' +\n",
              "            '<a target=\"_blank\" href=https://colab.research.google.com/notebooks/data_table.ipynb>data table notebook</a>'\n",
              "            + ' to learn more about interactive tables.';\n",
              "          element.innerHTML = '';\n",
              "          dataTable['output_type'] = 'display_data';\n",
              "          await google.colab.output.renderOutput(dataTable, element);\n",
              "          const docLink = document.createElement('div');\n",
              "          docLink.innerHTML = docLinkHtml;\n",
              "          element.appendChild(docLink);\n",
              "        }\n",
              "      </script>\n",
              "    </div>\n",
              "  </div>\n",
              "  "
            ]
          },
          "metadata": {},
          "execution_count": 51
        }
      ]
    },
    {
      "cell_type": "code",
      "source": [
        "df3['SALES_PRICE'].describe().T"
      ],
      "metadata": {
        "colab": {
          "base_uri": "https://localhost:8080/"
        },
        "id": "Yq_U0GlTJEZP",
        "outputId": "b0b9b39f-6f8d-4a8b-bf77-839f2090682d"
      },
      "execution_count": 52,
      "outputs": [
        {
          "output_type": "execute_result",
          "data": {
            "text/plain": [
              "count    7.109000e+03\n",
              "mean     1.089491e+07\n",
              "std      3.768603e+06\n",
              "min      2.156875e+06\n",
              "25%      8.272100e+06\n",
              "50%      1.033505e+07\n",
              "75%      1.299390e+07\n",
              "max      2.366734e+07\n",
              "Name: SALES_PRICE, dtype: float64"
            ]
          },
          "metadata": {},
          "execution_count": 52
        }
      ]
    },
    {
      "cell_type": "markdown",
      "source": [
        "* we described the count, mean, standard deviation, min, max of the sales_price using describe() function"
      ],
      "metadata": {
        "id": "zZgXnB_iFCVQ"
      }
    },
    {
      "cell_type": "code",
      "source": [
        "df3.SALES_PRICE.value_counts()"
      ],
      "metadata": {
        "colab": {
          "base_uri": "https://localhost:8080/"
        },
        "id": "Fz0nT2utJQEY",
        "outputId": "8587cbad-9bf1-4298-ceeb-11872d8687ae"
      },
      "execution_count": 53,
      "outputs": [
        {
          "output_type": "execute_result",
          "data": {
            "text/plain": [
              "5378000     2\n",
              "9429000     2\n",
              "4971250     2\n",
              "4546625     2\n",
              "11930880    2\n",
              "           ..\n",
              "6928000     1\n",
              "14874950    1\n",
              "9304770     1\n",
              "6980320     1\n",
              "9976480     1\n",
              "Name: SALES_PRICE, Length: 7057, dtype: int64"
            ]
          },
          "metadata": {},
          "execution_count": 53
        }
      ]
    },
    {
      "cell_type": "code",
      "source": [
        "df3.describe()"
      ],
      "metadata": {
        "colab": {
          "base_uri": "https://localhost:8080/",
          "height": 361
        },
        "id": "Vf_YSUMxMAAU",
        "outputId": "fa7dd29e-d5f5-4318-b5d5-f2936f1b81b2"
      },
      "execution_count": 54,
      "outputs": [
        {
          "output_type": "execute_result",
          "data": {
            "text/plain": [
              "              AREA     INT_SQFT  DIST_MAINROAD    SALE_COND   PARK_FACIL  \\\n",
              "count  7109.000000  7109.000000    7109.000000  7109.000000  7109.000000   \n",
              "mean      2.959347  1382.073006      99.603179     2.003939     0.504572   \n",
              "std       1.837797   457.410902      57.403110     1.415302     0.500014   \n",
              "min       0.000000   500.000000       0.000000     0.000000     0.000000   \n",
              "25%       2.000000   993.000000      50.000000     1.000000     0.000000   \n",
              "50%       3.000000  1373.000000      99.000000     2.000000     1.000000   \n",
              "75%       4.000000  1744.000000     148.000000     3.000000     1.000000   \n",
              "max       6.000000  2500.000000     200.000000     4.000000     1.000000   \n",
              "\n",
              "         BUILDTYPE  UTILITY_AVAIL       STREET       MZZONE     QS_ROOMS  \\\n",
              "count  7109.000000    7109.000000  7109.000000  7109.000000  7109.000000   \n",
              "mean      1.000985       1.512308     1.007315     3.317344     3.075538   \n",
              "std       0.810125       1.138185     0.846358     1.498831     0.872937   \n",
              "min       0.000000       0.000000     0.000000     0.000000     2.000000   \n",
              "25%       0.000000       0.000000     0.000000     3.000000     2.000000   \n",
              "50%       1.000000       2.000000     1.000000     4.000000     3.000000   \n",
              "75%       2.000000       3.000000     2.000000     5.000000     4.000000   \n",
              "max       2.000000       3.000000     2.000000     5.000000     5.000000   \n",
              "\n",
              "       QS_BATHROOM   QS_BEDROOM   SALES_PRICE    HOUSE_AGE          BHK  \n",
              "count  7109.000000  7109.000000  7.109000e+03  7109.000000  7109.000000  \n",
              "mean      3.069349     3.056126  1.089491e+07    24.286538     3.004923  \n",
              "std       0.876024     0.871499  3.768603e+06    12.342829     0.604898  \n",
              "min       2.000000     2.000000  2.156875e+06     3.000000     2.000000  \n",
              "25%       2.000000     2.000000  8.272100e+06    14.000000     3.000000  \n",
              "50%       3.000000     3.000000  1.033505e+07    23.000000     3.000000  \n",
              "75%       4.000000     4.000000  1.299390e+07    34.000000     3.000000  \n",
              "max       5.000000     5.000000  2.366734e+07    56.000000     4.000000  "
            ],
            "text/html": [
              "\n",
              "  <div id=\"df-5178b5d8-aabe-49bd-a368-9e7076456ab5\">\n",
              "    <div class=\"colab-df-container\">\n",
              "      <div>\n",
              "<style scoped>\n",
              "    .dataframe tbody tr th:only-of-type {\n",
              "        vertical-align: middle;\n",
              "    }\n",
              "\n",
              "    .dataframe tbody tr th {\n",
              "        vertical-align: top;\n",
              "    }\n",
              "\n",
              "    .dataframe thead th {\n",
              "        text-align: right;\n",
              "    }\n",
              "</style>\n",
              "<table border=\"1\" class=\"dataframe\">\n",
              "  <thead>\n",
              "    <tr style=\"text-align: right;\">\n",
              "      <th></th>\n",
              "      <th>AREA</th>\n",
              "      <th>INT_SQFT</th>\n",
              "      <th>DIST_MAINROAD</th>\n",
              "      <th>SALE_COND</th>\n",
              "      <th>PARK_FACIL</th>\n",
              "      <th>BUILDTYPE</th>\n",
              "      <th>UTILITY_AVAIL</th>\n",
              "      <th>STREET</th>\n",
              "      <th>MZZONE</th>\n",
              "      <th>QS_ROOMS</th>\n",
              "      <th>QS_BATHROOM</th>\n",
              "      <th>QS_BEDROOM</th>\n",
              "      <th>SALES_PRICE</th>\n",
              "      <th>HOUSE_AGE</th>\n",
              "      <th>BHK</th>\n",
              "    </tr>\n",
              "  </thead>\n",
              "  <tbody>\n",
              "    <tr>\n",
              "      <th>count</th>\n",
              "      <td>7109.000000</td>\n",
              "      <td>7109.000000</td>\n",
              "      <td>7109.000000</td>\n",
              "      <td>7109.000000</td>\n",
              "      <td>7109.000000</td>\n",
              "      <td>7109.000000</td>\n",
              "      <td>7109.000000</td>\n",
              "      <td>7109.000000</td>\n",
              "      <td>7109.000000</td>\n",
              "      <td>7109.000000</td>\n",
              "      <td>7109.000000</td>\n",
              "      <td>7109.000000</td>\n",
              "      <td>7.109000e+03</td>\n",
              "      <td>7109.000000</td>\n",
              "      <td>7109.000000</td>\n",
              "    </tr>\n",
              "    <tr>\n",
              "      <th>mean</th>\n",
              "      <td>2.959347</td>\n",
              "      <td>1382.073006</td>\n",
              "      <td>99.603179</td>\n",
              "      <td>2.003939</td>\n",
              "      <td>0.504572</td>\n",
              "      <td>1.000985</td>\n",
              "      <td>1.512308</td>\n",
              "      <td>1.007315</td>\n",
              "      <td>3.317344</td>\n",
              "      <td>3.075538</td>\n",
              "      <td>3.069349</td>\n",
              "      <td>3.056126</td>\n",
              "      <td>1.089491e+07</td>\n",
              "      <td>24.286538</td>\n",
              "      <td>3.004923</td>\n",
              "    </tr>\n",
              "    <tr>\n",
              "      <th>std</th>\n",
              "      <td>1.837797</td>\n",
              "      <td>457.410902</td>\n",
              "      <td>57.403110</td>\n",
              "      <td>1.415302</td>\n",
              "      <td>0.500014</td>\n",
              "      <td>0.810125</td>\n",
              "      <td>1.138185</td>\n",
              "      <td>0.846358</td>\n",
              "      <td>1.498831</td>\n",
              "      <td>0.872937</td>\n",
              "      <td>0.876024</td>\n",
              "      <td>0.871499</td>\n",
              "      <td>3.768603e+06</td>\n",
              "      <td>12.342829</td>\n",
              "      <td>0.604898</td>\n",
              "    </tr>\n",
              "    <tr>\n",
              "      <th>min</th>\n",
              "      <td>0.000000</td>\n",
              "      <td>500.000000</td>\n",
              "      <td>0.000000</td>\n",
              "      <td>0.000000</td>\n",
              "      <td>0.000000</td>\n",
              "      <td>0.000000</td>\n",
              "      <td>0.000000</td>\n",
              "      <td>0.000000</td>\n",
              "      <td>0.000000</td>\n",
              "      <td>2.000000</td>\n",
              "      <td>2.000000</td>\n",
              "      <td>2.000000</td>\n",
              "      <td>2.156875e+06</td>\n",
              "      <td>3.000000</td>\n",
              "      <td>2.000000</td>\n",
              "    </tr>\n",
              "    <tr>\n",
              "      <th>25%</th>\n",
              "      <td>2.000000</td>\n",
              "      <td>993.000000</td>\n",
              "      <td>50.000000</td>\n",
              "      <td>1.000000</td>\n",
              "      <td>0.000000</td>\n",
              "      <td>0.000000</td>\n",
              "      <td>0.000000</td>\n",
              "      <td>0.000000</td>\n",
              "      <td>3.000000</td>\n",
              "      <td>2.000000</td>\n",
              "      <td>2.000000</td>\n",
              "      <td>2.000000</td>\n",
              "      <td>8.272100e+06</td>\n",
              "      <td>14.000000</td>\n",
              "      <td>3.000000</td>\n",
              "    </tr>\n",
              "    <tr>\n",
              "      <th>50%</th>\n",
              "      <td>3.000000</td>\n",
              "      <td>1373.000000</td>\n",
              "      <td>99.000000</td>\n",
              "      <td>2.000000</td>\n",
              "      <td>1.000000</td>\n",
              "      <td>1.000000</td>\n",
              "      <td>2.000000</td>\n",
              "      <td>1.000000</td>\n",
              "      <td>4.000000</td>\n",
              "      <td>3.000000</td>\n",
              "      <td>3.000000</td>\n",
              "      <td>3.000000</td>\n",
              "      <td>1.033505e+07</td>\n",
              "      <td>23.000000</td>\n",
              "      <td>3.000000</td>\n",
              "    </tr>\n",
              "    <tr>\n",
              "      <th>75%</th>\n",
              "      <td>4.000000</td>\n",
              "      <td>1744.000000</td>\n",
              "      <td>148.000000</td>\n",
              "      <td>3.000000</td>\n",
              "      <td>1.000000</td>\n",
              "      <td>2.000000</td>\n",
              "      <td>3.000000</td>\n",
              "      <td>2.000000</td>\n",
              "      <td>5.000000</td>\n",
              "      <td>4.000000</td>\n",
              "      <td>4.000000</td>\n",
              "      <td>4.000000</td>\n",
              "      <td>1.299390e+07</td>\n",
              "      <td>34.000000</td>\n",
              "      <td>3.000000</td>\n",
              "    </tr>\n",
              "    <tr>\n",
              "      <th>max</th>\n",
              "      <td>6.000000</td>\n",
              "      <td>2500.000000</td>\n",
              "      <td>200.000000</td>\n",
              "      <td>4.000000</td>\n",
              "      <td>1.000000</td>\n",
              "      <td>2.000000</td>\n",
              "      <td>3.000000</td>\n",
              "      <td>2.000000</td>\n",
              "      <td>5.000000</td>\n",
              "      <td>5.000000</td>\n",
              "      <td>5.000000</td>\n",
              "      <td>5.000000</td>\n",
              "      <td>2.366734e+07</td>\n",
              "      <td>56.000000</td>\n",
              "      <td>4.000000</td>\n",
              "    </tr>\n",
              "  </tbody>\n",
              "</table>\n",
              "</div>\n",
              "      <button class=\"colab-df-convert\" onclick=\"convertToInteractive('df-5178b5d8-aabe-49bd-a368-9e7076456ab5')\"\n",
              "              title=\"Convert this dataframe to an interactive table.\"\n",
              "              style=\"display:none;\">\n",
              "        \n",
              "  <svg xmlns=\"http://www.w3.org/2000/svg\" height=\"24px\"viewBox=\"0 0 24 24\"\n",
              "       width=\"24px\">\n",
              "    <path d=\"M0 0h24v24H0V0z\" fill=\"none\"/>\n",
              "    <path d=\"M18.56 5.44l.94 2.06.94-2.06 2.06-.94-2.06-.94-.94-2.06-.94 2.06-2.06.94zm-11 1L8.5 8.5l.94-2.06 2.06-.94-2.06-.94L8.5 2.5l-.94 2.06-2.06.94zm10 10l.94 2.06.94-2.06 2.06-.94-2.06-.94-.94-2.06-.94 2.06-2.06.94z\"/><path d=\"M17.41 7.96l-1.37-1.37c-.4-.4-.92-.59-1.43-.59-.52 0-1.04.2-1.43.59L10.3 9.45l-7.72 7.72c-.78.78-.78 2.05 0 2.83L4 21.41c.39.39.9.59 1.41.59.51 0 1.02-.2 1.41-.59l7.78-7.78 2.81-2.81c.8-.78.8-2.07 0-2.86zM5.41 20L4 18.59l7.72-7.72 1.47 1.35L5.41 20z\"/>\n",
              "  </svg>\n",
              "      </button>\n",
              "      \n",
              "  <style>\n",
              "    .colab-df-container {\n",
              "      display:flex;\n",
              "      flex-wrap:wrap;\n",
              "      gap: 12px;\n",
              "    }\n",
              "\n",
              "    .colab-df-convert {\n",
              "      background-color: #E8F0FE;\n",
              "      border: none;\n",
              "      border-radius: 50%;\n",
              "      cursor: pointer;\n",
              "      display: none;\n",
              "      fill: #1967D2;\n",
              "      height: 32px;\n",
              "      padding: 0 0 0 0;\n",
              "      width: 32px;\n",
              "    }\n",
              "\n",
              "    .colab-df-convert:hover {\n",
              "      background-color: #E2EBFA;\n",
              "      box-shadow: 0px 1px 2px rgba(60, 64, 67, 0.3), 0px 1px 3px 1px rgba(60, 64, 67, 0.15);\n",
              "      fill: #174EA6;\n",
              "    }\n",
              "\n",
              "    [theme=dark] .colab-df-convert {\n",
              "      background-color: #3B4455;\n",
              "      fill: #D2E3FC;\n",
              "    }\n",
              "\n",
              "    [theme=dark] .colab-df-convert:hover {\n",
              "      background-color: #434B5C;\n",
              "      box-shadow: 0px 1px 3px 1px rgba(0, 0, 0, 0.15);\n",
              "      filter: drop-shadow(0px 1px 2px rgba(0, 0, 0, 0.3));\n",
              "      fill: #FFFFFF;\n",
              "    }\n",
              "  </style>\n",
              "\n",
              "      <script>\n",
              "        const buttonEl =\n",
              "          document.querySelector('#df-5178b5d8-aabe-49bd-a368-9e7076456ab5 button.colab-df-convert');\n",
              "        buttonEl.style.display =\n",
              "          google.colab.kernel.accessAllowed ? 'block' : 'none';\n",
              "\n",
              "        async function convertToInteractive(key) {\n",
              "          const element = document.querySelector('#df-5178b5d8-aabe-49bd-a368-9e7076456ab5');\n",
              "          const dataTable =\n",
              "            await google.colab.kernel.invokeFunction('convertToInteractive',\n",
              "                                                     [key], {});\n",
              "          if (!dataTable) return;\n",
              "\n",
              "          const docLinkHtml = 'Like what you see? Visit the ' +\n",
              "            '<a target=\"_blank\" href=https://colab.research.google.com/notebooks/data_table.ipynb>data table notebook</a>'\n",
              "            + ' to learn more about interactive tables.';\n",
              "          element.innerHTML = '';\n",
              "          dataTable['output_type'] = 'display_data';\n",
              "          await google.colab.output.renderOutput(dataTable, element);\n",
              "          const docLink = document.createElement('div');\n",
              "          docLink.innerHTML = docLinkHtml;\n",
              "          element.appendChild(docLink);\n",
              "        }\n",
              "      </script>\n",
              "    </div>\n",
              "  </div>\n",
              "  "
            ]
          },
          "metadata": {},
          "execution_count": 54
        }
      ]
    },
    {
      "cell_type": "markdown",
      "source": [
        "* we described the count, mean, standard deviation, min, max of the dataset using describe() function"
      ],
      "metadata": {
        "id": "MDCGrFzlFXtt"
      }
    },
    {
      "cell_type": "code",
      "source": [
        "import plotly.express as px\n",
        "df3.plot.scatter(x='HOUSE_AGE', y='SALES_PRICE')"
      ],
      "metadata": {
        "colab": {
          "base_uri": "https://localhost:8080/",
          "height": 407
        },
        "id": "poH6flmOJU4j",
        "outputId": "093f6040-2af7-4506-fb5d-35cfc7f4049d"
      },
      "execution_count": 55,
      "outputs": [
        {
          "output_type": "execute_result",
          "data": {
            "text/plain": [
              "<matplotlib.axes._subplots.AxesSubplot at 0x7f08541a2450>"
            ]
          },
          "metadata": {},
          "execution_count": 55
        },
        {
          "output_type": "display_data",
          "data": {
            "text/plain": [
              "<Figure size 600x400 with 1 Axes>"
            ],
            "image/png": "[encoded data removed]"
          },
          "metadata": {}
        }
      ]
    },
    {
      "cell_type": "markdown",
      "source": [
        "* we plotted a scatter plot for the house_age and sales_price"
      ],
      "metadata": {
        "id": "GZ97CQxRFgHo"
      }
    },
    {
      "cell_type": "code",
      "source": [
        "df3.groupby('HOUSE_AGE')['SALES_PRICE'].mean()"
      ],
      "metadata": {
        "colab": {
          "base_uri": "https://localhost:8080/"
        },
        "id": "DEUtpEw7Jaf2",
        "outputId": "db47834f-afd4-4741-b02a-007a51c05fa9"
      },
      "execution_count": 56,
      "outputs": [
        {
          "output_type": "execute_result",
          "data": {
            "text/plain": [
              "HOUSE_AGE\n",
              "3.0     1.142293e+07\n",
              "4.0     1.093210e+07\n",
              "5.0     1.134105e+07\n",
              "6.0     1.161884e+07\n",
              "7.0     1.127769e+07\n",
              "8.0     1.116946e+07\n",
              "9.0     1.128225e+07\n",
              "10.0    1.149426e+07\n",
              "11.0    1.153234e+07\n",
              "12.0    1.123810e+07\n",
              "13.0    1.103813e+07\n",
              "14.0    1.147625e+07\n",
              "15.0    1.146508e+07\n",
              "16.0    1.149787e+07\n",
              "17.0    1.086510e+07\n",
              "18.0    1.133964e+07\n",
              "19.0    1.125704e+07\n",
              "20.0    1.067254e+07\n",
              "21.0    1.116761e+07\n",
              "22.0    1.136297e+07\n",
              "23.0    1.081155e+07\n",
              "24.0    1.124435e+07\n",
              "25.0    1.089145e+07\n",
              "26.0    1.094506e+07\n",
              "27.0    1.090997e+07\n",
              "28.0    1.084162e+07\n",
              "29.0    1.105236e+07\n",
              "30.0    1.072406e+07\n",
              "31.0    1.062968e+07\n",
              "32.0    1.022121e+07\n",
              "33.0    1.074603e+07\n",
              "34.0    1.022972e+07\n",
              "35.0    1.071783e+07\n",
              "36.0    1.048599e+07\n",
              "37.0    1.037997e+07\n",
              "38.0    1.013738e+07\n",
              "39.0    1.063477e+07\n",
              "40.0    1.065277e+07\n",
              "41.0    1.043039e+07\n",
              "42.0    1.152310e+07\n",
              "43.0    1.140136e+07\n",
              "44.0    1.057647e+07\n",
              "45.0    1.030587e+07\n",
              "46.0    9.130826e+06\n",
              "47.0    8.016700e+06\n",
              "48.0    8.721339e+06\n",
              "49.0    7.859473e+06\n",
              "50.0    8.385574e+06\n",
              "51.0    9.196307e+06\n",
              "52.0    8.900300e+06\n",
              "53.0    1.022773e+07\n",
              "54.0    1.099293e+07\n",
              "55.0    1.012972e+07\n",
              "56.0    8.672000e+06\n",
              "Name: SALES_PRICE, dtype: float64"
            ]
          },
          "metadata": {},
          "execution_count": 56
        }
      ]
    },
    {
      "cell_type": "markdown",
      "source": [
        "* we grouped the mean of the house_age and sales_price using groupby.mean() fuction"
      ],
      "metadata": {
        "id": "U47zC_ssF02r"
      }
    },
    {
      "cell_type": "code",
      "source": [
        "Numericals = [feature for feature in df3.columns if df3[feature].dtype!='O' and feature !='SALES_PRICE']\n",
        "print('Number of Numerical independent Features : {}'.format(len(Numericals)))"
      ],
      "metadata": {
        "colab": {
          "base_uri": "https://localhost:8080/"
        },
        "id": "rXz7kDxvJfJC",
        "outputId": "fcc4e9e3-8efd-472e-b998-39c8bf73513c"
      },
      "execution_count": 57,
      "outputs": [
        {
          "output_type": "stream",
          "name": "stdout",
          "text": [
            "Number of Numerical independent Features : 14\n"
          ]
        }
      ]
    },
    {
      "cell_type": "code",
      "source": [
        "df3[Numericals].head()"
      ],
      "metadata": {
        "colab": {
          "base_uri": "https://localhost:8080/",
          "height": 268
        },
        "id": "fT6-HooRJqUc",
        "outputId": "3835f6b6-b4f6-4119-ce81-495626af5deb"
      },
      "execution_count": 58,
      "outputs": [
        {
          "output_type": "execute_result",
          "data": {
            "text/plain": [
              "   AREA  INT_SQFT  DIST_MAINROAD  SALE_COND  PARK_FACIL  BUILDTYPE  \\\n",
              "0     4      1004            131          0           1          0   \n",
              "1     1      1986             26          0           0          0   \n",
              "2     0       909             70          0           1          0   \n",
              "3     6      1855             14          2           0          2   \n",
              "4     4      1226             84          0           1          2   \n",
              "\n",
              "   UTILITY_AVAIL  STREET  MZZONE  QS_ROOMS  QS_BATHROOM  QS_BEDROOM  \\\n",
              "0              0       2       0         4            3           4   \n",
              "1              0       0       3         4            4           2   \n",
              "2              1       0       4         4            3           2   \n",
              "3              3       2       2         4            3           3   \n",
              "4              0       0       1         3            2           4   \n",
              "\n",
              "   HOUSE_AGE  BHK  \n",
              "0       44.0    4  \n",
              "1       11.0    3  \n",
              "2       20.0    3  \n",
              "3       22.0    4  \n",
              "4       30.0    3  "
            ],
            "text/html": [
              "\n",
              "  <div id=\"df-427b93f4-23ea-4d91-b78e-775c5dd630e6\">\n",
              "    <div class=\"colab-df-container\">\n",
              "      <div>\n",
              "<style scoped>\n",
              "    .dataframe tbody tr th:only-of-type {\n",
              "        vertical-align: middle;\n",
              "    }\n",
              "\n",
              "    .dataframe tbody tr th {\n",
              "        vertical-align: top;\n",
              "    }\n",
              "\n",
              "    .dataframe thead th {\n",
              "        text-align: right;\n",
              "    }\n",
              "</style>\n",
              "<table border=\"1\" class=\"dataframe\">\n",
              "  <thead>\n",
              "    <tr style=\"text-align: right;\">\n",
              "      <th></th>\n",
              "      <th>AREA</th>\n",
              "      <th>INT_SQFT</th>\n",
              "      <th>DIST_MAINROAD</th>\n",
              "      <th>SALE_COND</th>\n",
              "      <th>PARK_FACIL</th>\n",
              "      <th>BUILDTYPE</th>\n",
              "      <th>UTILITY_AVAIL</th>\n",
              "      <th>STREET</th>\n",
              "      <th>MZZONE</th>\n",
              "      <th>QS_ROOMS</th>\n",
              "      <th>QS_BATHROOM</th>\n",
              "      <th>QS_BEDROOM</th>\n",
              "      <th>HOUSE_AGE</th>\n",
              "      <th>BHK</th>\n",
              "    </tr>\n",
              "  </thead>\n",
              "  <tbody>\n",
              "    <tr>\n",
              "      <th>0</th>\n",
              "      <td>4</td>\n",
              "      <td>1004</td>\n",
              "      <td>131</td>\n",
              "      <td>0</td>\n",
              "      <td>1</td>\n",
              "      <td>0</td>\n",
              "      <td>0</td>\n",
              "      <td>2</td>\n",
              "      <td>0</td>\n",
              "      <td>4</td>\n",
              "      <td>3</td>\n",
              "      <td>4</td>\n",
              "      <td>44.0</td>\n",
              "      <td>4</td>\n",
              "    </tr>\n",
              "    <tr>\n",
              "      <th>1</th>\n",
              "      <td>1</td>\n",
              "      <td>1986</td>\n",
              "      <td>26</td>\n",
              "      <td>0</td>\n",
              "      <td>0</td>\n",
              "      <td>0</td>\n",
              "      <td>0</td>\n",
              "      <td>0</td>\n",
              "      <td>3</td>\n",
              "      <td>4</td>\n",
              "      <td>4</td>\n",
              "      <td>2</td>\n",
              "      <td>11.0</td>\n",
              "      <td>3</td>\n",
              "    </tr>\n",
              "    <tr>\n",
              "      <th>2</th>\n",
              "      <td>0</td>\n",
              "      <td>909</td>\n",
              "      <td>70</td>\n",
              "      <td>0</td>\n",
              "      <td>1</td>\n",
              "      <td>0</td>\n",
              "      <td>1</td>\n",
              "      <td>0</td>\n",
              "      <td>4</td>\n",
              "      <td>4</td>\n",
              "      <td>3</td>\n",
              "      <td>2</td>\n",
              "      <td>20.0</td>\n",
              "      <td>3</td>\n",
              "    </tr>\n",
              "    <tr>\n",
              "      <th>3</th>\n",
              "      <td>6</td>\n",
              "      <td>1855</td>\n",
              "      <td>14</td>\n",
              "      <td>2</td>\n",
              "      <td>0</td>\n",
              "      <td>2</td>\n",
              "      <td>3</td>\n",
              "      <td>2</td>\n",
              "      <td>2</td>\n",
              "      <td>4</td>\n",
              "      <td>3</td>\n",
              "      <td>3</td>\n",
              "      <td>22.0</td>\n",
              "      <td>4</td>\n",
              "    </tr>\n",
              "    <tr>\n",
              "      <th>4</th>\n",
              "      <td>4</td>\n",
              "      <td>1226</td>\n",
              "      <td>84</td>\n",
              "      <td>0</td>\n",
              "      <td>1</td>\n",
              "      <td>2</td>\n",
              "      <td>0</td>\n",
              "      <td>0</td>\n",
              "      <td>1</td>\n",
              "      <td>3</td>\n",
              "      <td>2</td>\n",
              "      <td>4</td>\n",
              "      <td>30.0</td>\n",
              "      <td>3</td>\n",
              "    </tr>\n",
              "  </tbody>\n",
              "</table>\n",
              "</div>\n",
              "      <button class=\"colab-df-convert\" onclick=\"convertToInteractive('df-427b93f4-23ea-4d91-b78e-775c5dd630e6')\"\n",
              "              title=\"Convert this dataframe to an interactive table.\"\n",
              "              style=\"display:none;\">\n",
              "        \n",
              "  <svg xmlns=\"http://www.w3.org/2000/svg\" height=\"24px\"viewBox=\"0 0 24 24\"\n",
              "       width=\"24px\">\n",
              "    <path d=\"M0 0h24v24H0V0z\" fill=\"none\"/>\n",
              "    <path d=\"M18.56 5.44l.94 2.06.94-2.06 2.06-.94-2.06-.94-.94-2.06-.94 2.06-2.06.94zm-11 1L8.5 8.5l.94-2.06 2.06-.94-2.06-.94L8.5 2.5l-.94 2.06-2.06.94zm10 10l.94 2.06.94-2.06 2.06-.94-2.06-.94-.94-2.06-.94 2.06-2.06.94z\"/><path d=\"M17.41 7.96l-1.37-1.37c-.4-.4-.92-.59-1.43-.59-.52 0-1.04.2-1.43.59L10.3 9.45l-7.72 7.72c-.78.78-.78 2.05 0 2.83L4 21.41c.39.39.9.59 1.41.59.51 0 1.02-.2 1.41-.59l7.78-7.78 2.81-2.81c.8-.78.8-2.07 0-2.86zM5.41 20L4 18.59l7.72-7.72 1.47 1.35L5.41 20z\"/>\n",
              "  </svg>\n",
              "      </button>\n",
              "      \n",
              "  <style>\n",
              "    .colab-df-container {\n",
              "      display:flex;\n",
              "      flex-wrap:wrap;\n",
              "      gap: 12px;\n",
              "    }\n",
              "\n",
              "    .colab-df-convert {\n",
              "      background-color: #E8F0FE;\n",
              "      border: none;\n",
              "      border-radius: 50%;\n",
              "      cursor: pointer;\n",
              "      display: none;\n",
              "      fill: #1967D2;\n",
              "      height: 32px;\n",
              "      padding: 0 0 0 0;\n",
              "      width: 32px;\n",
              "    }\n",
              "\n",
              "    .colab-df-convert:hover {\n",
              "      background-color: #E2EBFA;\n",
              "      box-shadow: 0px 1px 2px rgba(60, 64, 67, 0.3), 0px 1px 3px 1px rgba(60, 64, 67, 0.15);\n",
              "      fill: #174EA6;\n",
              "    }\n",
              "\n",
              "    [theme=dark] .colab-df-convert {\n",
              "      background-color: #3B4455;\n",
              "      fill: #D2E3FC;\n",
              "    }\n",
              "\n",
              "    [theme=dark] .colab-df-convert:hover {\n",
              "      background-color: #434B5C;\n",
              "      box-shadow: 0px 1px 3px 1px rgba(0, 0, 0, 0.15);\n",
              "      filter: drop-shadow(0px 1px 2px rgba(0, 0, 0, 0.3));\n",
              "      fill: #FFFFFF;\n",
              "    }\n",
              "  </style>\n",
              "\n",
              "      <script>\n",
              "        const buttonEl =\n",
              "          document.querySelector('#df-427b93f4-23ea-4d91-b78e-775c5dd630e6 button.colab-df-convert');\n",
              "        buttonEl.style.display =\n",
              "          google.colab.kernel.accessAllowed ? 'block' : 'none';\n",
              "\n",
              "        async function convertToInteractive(key) {\n",
              "          const element = document.querySelector('#df-427b93f4-23ea-4d91-b78e-775c5dd630e6');\n",
              "          const dataTable =\n",
              "            await google.colab.kernel.invokeFunction('convertToInteractive',\n",
              "                                                     [key], {});\n",
              "          if (!dataTable) return;\n",
              "\n",
              "          const docLinkHtml = 'Like what you see? Visit the ' +\n",
              "            '<a target=\"_blank\" href=https://colab.research.google.com/notebooks/data_table.ipynb>data table notebook</a>'\n",
              "            + ' to learn more about interactive tables.';\n",
              "          element.innerHTML = '';\n",
              "          dataTable['output_type'] = 'display_data';\n",
              "          await google.colab.output.renderOutput(dataTable, element);\n",
              "          const docLink = document.createElement('div');\n",
              "          docLink.innerHTML = docLinkHtml;\n",
              "          element.appendChild(docLink);\n",
              "        }\n",
              "      </script>\n",
              "    </div>\n",
              "  </div>\n",
              "  "
            ]
          },
          "metadata": {},
          "execution_count": 58
        }
      ]
    },
    {
      "cell_type": "markdown",
      "source": [
        "* we described the columns of the idependent numerical features and there is 14 columns are presented in the dataset "
      ],
      "metadata": {
        "id": "yW-yRb90GOeC"
      }
    },
    {
      "cell_type": "markdown",
      "source": [
        "## Data Splitting"
      ],
      "metadata": {
        "id": "rr_0J9wXJ0UA"
      }
    },
    {
      "cell_type": "code",
      "source": [
        "X = df3[['AREA','INT_SQFT','DIST_MAINROAD','QS_ROOMS','QS_BATHROOM','QS_BEDROOM','BHK','SALE_COND','PARK_FACIL','BUILDTYPE','UTILITY_AVAIL','STREET','MZZONE','HOUSE_AGE']]\n",
        "y = df3['SALES_PRICE']\n",
        "from sklearn.model_selection import train_test_split"
      ],
      "metadata": {
        "id": "nQ3ufKUWJt77"
      },
      "execution_count": 59,
      "outputs": []
    },
    {
      "cell_type": "markdown",
      "source": [
        "* we splited the independent variable as X and traget variable as y "
      ],
      "metadata": {
        "id": "LscOKV5VGwTg"
      }
    },
    {
      "cell_type": "code",
      "source": [
        "print(X)\n",
        "print(y)"
      ],
      "metadata": {
        "colab": {
          "base_uri": "https://localhost:8080/"
        },
        "id": "D3P8puMYdvLI",
        "outputId": "200fd315-5674-4f0f-b677-fff05bcf9ffb"
      },
      "execution_count": 60,
      "outputs": [
        {
          "output_type": "stream",
          "name": "stdout",
          "text": [
            "      AREA  INT_SQFT  DIST_MAINROAD  QS_ROOMS  QS_BATHROOM  QS_BEDROOM  BHK  \\\n",
            "0        4      1004            131         4            3           4    4   \n",
            "1        1      1986             26         4            4           2    3   \n",
            "2        0       909             70         4            3           2    3   \n",
            "3        6      1855             14         4            3           3    4   \n",
            "4        4      1226             84         3            2           4    3   \n",
            "...    ...       ...            ...       ...          ...         ...  ...   \n",
            "7104     4       598             51         3            2           2    2   \n",
            "7105     6      1897             52         3            4           3    3   \n",
            "7106     6      1614            152         4            4           2    3   \n",
            "7107     4       787             40         4            3           4    4   \n",
            "7108     6      1896            156         3            3           4    3   \n",
            "\n",
            "      SALE_COND  PARK_FACIL  BUILDTYPE  UTILITY_AVAIL  STREET  MZZONE  \\\n",
            "0             0           1          0              0       2       0   \n",
            "1             0           0          0              0       0       3   \n",
            "2             0           1          0              1       0       4   \n",
            "3             2           0          2              3       2       2   \n",
            "4             0           1          2              0       0       1   \n",
            "...         ...         ...        ...            ...     ...     ...   \n",
            "7104          1           0          2              1       1       5   \n",
            "7105          2           1          2              2       1       3   \n",
            "7106          3           0          1              2       0       2   \n",
            "7107          4           1          0              1       2       4   \n",
            "7108          4           1          2              1       2       2   \n",
            "\n",
            "      HOUSE_AGE  \n",
            "0          44.0  \n",
            "1          11.0  \n",
            "2          20.0  \n",
            "3          22.0  \n",
            "4          30.0  \n",
            "...         ...  \n",
            "7104       49.0  \n",
            "7105        9.0  \n",
            "7106       28.0  \n",
            "7107       32.0  \n",
            "7108       44.0  \n",
            "\n",
            "[7109 rows x 14 columns]\n",
            "0        7600000\n",
            "1       21717770\n",
            "2       13159200\n",
            "3        9630290\n",
            "4        7406250\n",
            "          ...   \n",
            "7104     5353000\n",
            "7105    10818480\n",
            "7106     8351410\n",
            "7107     8507000\n",
            "7108     9976480\n",
            "Name: SALES_PRICE, Length: 7109, dtype: int64\n"
          ]
        }
      ]
    },
    {
      "cell_type": "markdown",
      "source": [
        "* And now we can see the numerical features of X and y"
      ],
      "metadata": {
        "id": "nNJbYV6rHJrH"
      }
    },
    {
      "cell_type": "code",
      "source": [
        "X_train, X_test, y_train, y_test = train_test_split(X, y, test_size=0.30, random_state= 101)"
      ],
      "metadata": {
        "id": "3CPWORp5dt-Y"
      },
      "execution_count": 61,
      "outputs": []
    },
    {
      "cell_type": "markdown",
      "source": [
        "* we splitted the data into X_train, X_test and y_train, y_test using train_test_split() function\n",
        "* And we splitted the data X_train as 70% and X_test as 30% for the validation"
      ],
      "metadata": {
        "id": "OnmnGFH-HX5A"
      }
    },
    {
      "cell_type": "code",
      "source": [
        "X_train"
      ],
      "metadata": {
        "colab": {
          "base_uri": "https://localhost:8080/",
          "height": 483
        },
        "id": "w7inLW4x3V3r",
        "outputId": "d5636fd1-cfb1-48dc-da5b-e1e0cc90906c"
      },
      "execution_count": 62,
      "outputs": [
        {
          "output_type": "execute_result",
          "data": {
            "text/plain": [
              "      AREA  INT_SQFT  DIST_MAINROAD  QS_ROOMS  QS_BATHROOM  QS_BEDROOM  BHK  \\\n",
              "1161     1      1658            110         4            3           3    3   \n",
              "5318     2      1231             48         4            2           2    2   \n",
              "3219     2       832             98         3            4           3    4   \n",
              "6756     0      1089             18         3            4           2    3   \n",
              "130      1      1880             90         3            4           4    3   \n",
              "...    ...       ...            ...       ...          ...         ...  ...   \n",
              "599      2      1227            151         3            3           4    3   \n",
              "5695     5      1815             23         3            2           3    2   \n",
              "1361     0       936            106         2            2           3    3   \n",
              "1547     6      1851            100         4            3           4    4   \n",
              "4959     0       982             75         4            3           4    4   \n",
              "\n",
              "      SALE_COND  PARK_FACIL  BUILDTYPE  UTILITY_AVAIL  STREET  MZZONE  \\\n",
              "1161          4           0          1              2       1       3   \n",
              "5318          4           1          0              0       2       3   \n",
              "3219          0           1          1              1       2       4   \n",
              "6756          1           1          1              2       1       1   \n",
              "130           4           1          1              2       1       5   \n",
              "...         ...         ...        ...            ...     ...     ...   \n",
              "599           4           1          1              3       2       5   \n",
              "5695          0           1          0              2       2       4   \n",
              "1361          3           1          2              1       2       3   \n",
              "1547          4           0          2              1       2       5   \n",
              "4959          1           1          0              1       0       2   \n",
              "\n",
              "      HOUSE_AGE  \n",
              "1161       44.0  \n",
              "5318        6.0  \n",
              "3219       17.0  \n",
              "6756       27.0  \n",
              "130        16.0  \n",
              "...         ...  \n",
              "599         6.0  \n",
              "5695       11.0  \n",
              "1361       24.0  \n",
              "1547       16.0  \n",
              "4959       29.0  \n",
              "\n",
              "[4976 rows x 14 columns]"
            ],
            "text/html": [
              "\n",
              "  <div id=\"df-d939ffba-b25c-4e48-93f9-30132444db46\">\n",
              "    <div class=\"colab-df-container\">\n",
              "      <div>\n",
              "<style scoped>\n",
              "    .dataframe tbody tr th:only-of-type {\n",
              "        vertical-align: middle;\n",
              "    }\n",
              "\n",
              "    .dataframe tbody tr th {\n",
              "        vertical-align: top;\n",
              "    }\n",
              "\n",
              "    .dataframe thead th {\n",
              "        text-align: right;\n",
              "    }\n",
              "</style>\n",
              "<table border=\"1\" class=\"dataframe\">\n",
              "  <thead>\n",
              "    <tr style=\"text-align: right;\">\n",
              "      <th></th>\n",
              "      <th>AREA</th>\n",
              "      <th>INT_SQFT</th>\n",
              "      <th>DIST_MAINROAD</th>\n",
              "      <th>QS_ROOMS</th>\n",
              "      <th>QS_BATHROOM</th>\n",
              "      <th>QS_BEDROOM</th>\n",
              "      <th>BHK</th>\n",
              "      <th>SALE_COND</th>\n",
              "      <th>PARK_FACIL</th>\n",
              "      <th>BUILDTYPE</th>\n",
              "      <th>UTILITY_AVAIL</th>\n",
              "      <th>STREET</th>\n",
              "      <th>MZZONE</th>\n",
              "      <th>HOUSE_AGE</th>\n",
              "    </tr>\n",
              "  </thead>\n",
              "  <tbody>\n",
              "    <tr>\n",
              "      <th>1161</th>\n",
              "      <td>1</td>\n",
              "      <td>1658</td>\n",
              "      <td>110</td>\n",
              "      <td>4</td>\n",
              "      <td>3</td>\n",
              "      <td>3</td>\n",
              "      <td>3</td>\n",
              "      <td>4</td>\n",
              "      <td>0</td>\n",
              "      <td>1</td>\n",
              "      <td>2</td>\n",
              "      <td>1</td>\n",
              "      <td>3</td>\n",
              "      <td>44.0</td>\n",
              "    </tr>\n",
              "    <tr>\n",
              "      <th>5318</th>\n",
              "      <td>2</td>\n",
              "      <td>1231</td>\n",
              "      <td>48</td>\n",
              "      <td>4</td>\n",
              "      <td>2</td>\n",
              "      <td>2</td>\n",
              "      <td>2</td>\n",
              "      <td>4</td>\n",
              "      <td>1</td>\n",
              "      <td>0</td>\n",
              "      <td>0</td>\n",
              "      <td>2</td>\n",
              "      <td>3</td>\n",
              "      <td>6.0</td>\n",
              "    </tr>\n",
              "    <tr>\n",
              "      <th>3219</th>\n",
              "      <td>2</td>\n",
              "      <td>832</td>\n",
              "      <td>98</td>\n",
              "      <td>3</td>\n",
              "      <td>4</td>\n",
              "      <td>3</td>\n",
              "      <td>4</td>\n",
              "      <td>0</td>\n",
              "      <td>1</td>\n",
              "      <td>1</td>\n",
              "      <td>1</td>\n",
              "      <td>2</td>\n",
              "      <td>4</td>\n",
              "      <td>17.0</td>\n",
              "    </tr>\n",
              "    <tr>\n",
              "      <th>6756</th>\n",
              "      <td>0</td>\n",
              "      <td>1089</td>\n",
              "      <td>18</td>\n",
              "      <td>3</td>\n",
              "      <td>4</td>\n",
              "      <td>2</td>\n",
              "      <td>3</td>\n",
              "      <td>1</td>\n",
              "      <td>1</td>\n",
              "      <td>1</td>\n",
              "      <td>2</td>\n",
              "      <td>1</td>\n",
              "      <td>1</td>\n",
              "      <td>27.0</td>\n",
              "    </tr>\n",
              "    <tr>\n",
              "      <th>130</th>\n",
              "      <td>1</td>\n",
              "      <td>1880</td>\n",
              "      <td>90</td>\n",
              "      <td>3</td>\n",
              "      <td>4</td>\n",
              "      <td>4</td>\n",
              "      <td>3</td>\n",
              "      <td>4</td>\n",
              "      <td>1</td>\n",
              "      <td>1</td>\n",
              "      <td>2</td>\n",
              "      <td>1</td>\n",
              "      <td>5</td>\n",
              "      <td>16.0</td>\n",
              "    </tr>\n",
              "    <tr>\n",
              "      <th>...</th>\n",
              "      <td>...</td>\n",
              "      <td>...</td>\n",
              "      <td>...</td>\n",
              "      <td>...</td>\n",
              "      <td>...</td>\n",
              "      <td>...</td>\n",
              "      <td>...</td>\n",
              "      <td>...</td>\n",
              "      <td>...</td>\n",
              "      <td>...</td>\n",
              "      <td>...</td>\n",
              "      <td>...</td>\n",
              "      <td>...</td>\n",
              "      <td>...</td>\n",
              "    </tr>\n",
              "    <tr>\n",
              "      <th>599</th>\n",
              "      <td>2</td>\n",
              "      <td>1227</td>\n",
              "      <td>151</td>\n",
              "      <td>3</td>\n",
              "      <td>3</td>\n",
              "      <td>4</td>\n",
              "      <td>3</td>\n",
              "      <td>4</td>\n",
              "      <td>1</td>\n",
              "      <td>1</td>\n",
              "      <td>3</td>\n",
              "      <td>2</td>\n",
              "      <td>5</td>\n",
              "      <td>6.0</td>\n",
              "    </tr>\n",
              "    <tr>\n",
              "      <th>5695</th>\n",
              "      <td>5</td>\n",
              "      <td>1815</td>\n",
              "      <td>23</td>\n",
              "      <td>3</td>\n",
              "      <td>2</td>\n",
              "      <td>3</td>\n",
              "      <td>2</td>\n",
              "      <td>0</td>\n",
              "      <td>1</td>\n",
              "      <td>0</td>\n",
              "      <td>2</td>\n",
              "      <td>2</td>\n",
              "      <td>4</td>\n",
              "      <td>11.0</td>\n",
              "    </tr>\n",
              "    <tr>\n",
              "      <th>1361</th>\n",
              "      <td>0</td>\n",
              "      <td>936</td>\n",
              "      <td>106</td>\n",
              "      <td>2</td>\n",
              "      <td>2</td>\n",
              "      <td>3</td>\n",
              "      <td>3</td>\n",
              "      <td>3</td>\n",
              "      <td>1</td>\n",
              "      <td>2</td>\n",
              "      <td>1</td>\n",
              "      <td>2</td>\n",
              "      <td>3</td>\n",
              "      <td>24.0</td>\n",
              "    </tr>\n",
              "    <tr>\n",
              "      <th>1547</th>\n",
              "      <td>6</td>\n",
              "      <td>1851</td>\n",
              "      <td>100</td>\n",
              "      <td>4</td>\n",
              "      <td>3</td>\n",
              "      <td>4</td>\n",
              "      <td>4</td>\n",
              "      <td>4</td>\n",
              "      <td>0</td>\n",
              "      <td>2</td>\n",
              "      <td>1</td>\n",
              "      <td>2</td>\n",
              "      <td>5</td>\n",
              "      <td>16.0</td>\n",
              "    </tr>\n",
              "    <tr>\n",
              "      <th>4959</th>\n",
              "      <td>0</td>\n",
              "      <td>982</td>\n",
              "      <td>75</td>\n",
              "      <td>4</td>\n",
              "      <td>3</td>\n",
              "      <td>4</td>\n",
              "      <td>4</td>\n",
              "      <td>1</td>\n",
              "      <td>1</td>\n",
              "      <td>0</td>\n",
              "      <td>1</td>\n",
              "      <td>0</td>\n",
              "      <td>2</td>\n",
              "      <td>29.0</td>\n",
              "    </tr>\n",
              "  </tbody>\n",
              "</table>\n",
              "<p>4976 rows × 14 columns</p>\n",
              "</div>\n",
              "      <button class=\"colab-df-convert\" onclick=\"convertToInteractive('df-d939ffba-b25c-4e48-93f9-30132444db46')\"\n",
              "              title=\"Convert this dataframe to an interactive table.\"\n",
              "              style=\"display:none;\">\n",
              "        \n",
              "  <svg xmlns=\"http://www.w3.org/2000/svg\" height=\"24px\"viewBox=\"0 0 24 24\"\n",
              "       width=\"24px\">\n",
              "    <path d=\"M0 0h24v24H0V0z\" fill=\"none\"/>\n",
              "    <path d=\"M18.56 5.44l.94 2.06.94-2.06 2.06-.94-2.06-.94-.94-2.06-.94 2.06-2.06.94zm-11 1L8.5 8.5l.94-2.06 2.06-.94-2.06-.94L8.5 2.5l-.94 2.06-2.06.94zm10 10l.94 2.06.94-2.06 2.06-.94-2.06-.94-.94-2.06-.94 2.06-2.06.94z\"/><path d=\"M17.41 7.96l-1.37-1.37c-.4-.4-.92-.59-1.43-.59-.52 0-1.04.2-1.43.59L10.3 9.45l-7.72 7.72c-.78.78-.78 2.05 0 2.83L4 21.41c.39.39.9.59 1.41.59.51 0 1.02-.2 1.41-.59l7.78-7.78 2.81-2.81c.8-.78.8-2.07 0-2.86zM5.41 20L4 18.59l7.72-7.72 1.47 1.35L5.41 20z\"/>\n",
              "  </svg>\n",
              "      </button>\n",
              "      \n",
              "  <style>\n",
              "    .colab-df-container {\n",
              "      display:flex;\n",
              "      flex-wrap:wrap;\n",
              "      gap: 12px;\n",
              "    }\n",
              "\n",
              "    .colab-df-convert {\n",
              "      background-color: #E8F0FE;\n",
              "      border: none;\n",
              "      border-radius: 50%;\n",
              "      cursor: pointer;\n",
              "      display: none;\n",
              "      fill: #1967D2;\n",
              "      height: 32px;\n",
              "      padding: 0 0 0 0;\n",
              "      width: 32px;\n",
              "    }\n",
              "\n",
              "    .colab-df-convert:hover {\n",
              "      background-color: #E2EBFA;\n",
              "      box-shadow: 0px 1px 2px rgba(60, 64, 67, 0.3), 0px 1px 3px 1px rgba(60, 64, 67, 0.15);\n",
              "      fill: #174EA6;\n",
              "    }\n",
              "\n",
              "    [theme=dark] .colab-df-convert {\n",
              "      background-color: #3B4455;\n",
              "      fill: #D2E3FC;\n",
              "    }\n",
              "\n",
              "    [theme=dark] .colab-df-convert:hover {\n",
              "      background-color: #434B5C;\n",
              "      box-shadow: 0px 1px 3px 1px rgba(0, 0, 0, 0.15);\n",
              "      filter: drop-shadow(0px 1px 2px rgba(0, 0, 0, 0.3));\n",
              "      fill: #FFFFFF;\n",
              "    }\n",
              "  </style>\n",
              "\n",
              "      <script>\n",
              "        const buttonEl =\n",
              "          document.querySelector('#df-d939ffba-b25c-4e48-93f9-30132444db46 button.colab-df-convert');\n",
              "        buttonEl.style.display =\n",
              "          google.colab.kernel.accessAllowed ? 'block' : 'none';\n",
              "\n",
              "        async function convertToInteractive(key) {\n",
              "          const element = document.querySelector('#df-d939ffba-b25c-4e48-93f9-30132444db46');\n",
              "          const dataTable =\n",
              "            await google.colab.kernel.invokeFunction('convertToInteractive',\n",
              "                                                     [key], {});\n",
              "          if (!dataTable) return;\n",
              "\n",
              "          const docLinkHtml = 'Like what you see? Visit the ' +\n",
              "            '<a target=\"_blank\" href=https://colab.research.google.com/notebooks/data_table.ipynb>data table notebook</a>'\n",
              "            + ' to learn more about interactive tables.';\n",
              "          element.innerHTML = '';\n",
              "          dataTable['output_type'] = 'display_data';\n",
              "          await google.colab.output.renderOutput(dataTable, element);\n",
              "          const docLink = document.createElement('div');\n",
              "          docLink.innerHTML = docLinkHtml;\n",
              "          element.appendChild(docLink);\n",
              "        }\n",
              "      </script>\n",
              "    </div>\n",
              "  </div>\n",
              "  "
            ]
          },
          "metadata": {},
          "execution_count": 62
        }
      ]
    },
    {
      "cell_type": "markdown",
      "source": [
        "* we can see the 70% of the data 4976rows x 14 columns from 7109rows x 14 columns"
      ],
      "metadata": {
        "id": "XLHLM327IG8e"
      }
    },
    {
      "cell_type": "code",
      "source": [
        "print(X.shape, X_train.shape, X_test.shape)"
      ],
      "metadata": {
        "colab": {
          "base_uri": "https://localhost:8080/"
        },
        "id": "MuXP2uzneQhN",
        "outputId": "0d0547bd-a75d-4b2c-84fc-3d01ca7c7f67"
      },
      "execution_count": 63,
      "outputs": [
        {
          "output_type": "stream",
          "name": "stdout",
          "text": [
            "(7109, 14) (4976, 14) (2133, 14)\n"
          ]
        }
      ]
    },
    {
      "cell_type": "markdown",
      "source": [
        "* And here we can see the datas splitted using .shape() function"
      ],
      "metadata": {
        "id": "jOlGaMpDIj-7"
      }
    },
    {
      "cell_type": "code",
      "source": [
        "from sklearn.preprocessing import StandardScaler\n",
        "s_scaler = StandardScaler()\n",
        "X_train = s_scaler.fit_transform(X_train.astype(np.float64))\n",
        "X_test = s_scaler.transform(X_test.astype(np.float64))"
      ],
      "metadata": {
        "id": "GKCyc2S1ku13"
      },
      "execution_count": 64,
      "outputs": []
    },
    {
      "cell_type": "markdown",
      "source": [
        "* As we see that we imported the standard scaler and the X_test and the X_train has been scaled using the standard scaler"
      ],
      "metadata": {
        "id": "sLKMCV1znOMO"
      }
    },
    {
      "cell_type": "markdown",
      "source": [
        "## Model Selection and evaluation"
      ],
      "metadata": {
        "id": "u-dE0SdicPaE"
      }
    },
    {
      "cell_type": "markdown",
      "source": [
        "### Linear Regression"
      ],
      "metadata": {
        "id": "VXZLHE5HgpvU"
      }
    },
    {
      "cell_type": "code",
      "source": [
        "from sklearn.pipeline import make_pipeline\n",
        "from sklearn.linear_model import LinearRegression\n",
        "model = make_pipeline(StandardScaler(with_mean=False), LinearRegression())\n",
        "model.fit(X_train,y_train)"
      ],
      "metadata": {
        "colab": {
          "base_uri": "https://localhost:8080/"
        },
        "id": "ULzEbESJNZ2D",
        "outputId": "891268c6-5143-486c-8f9a-54e1a29d52bc"
      },
      "execution_count": 65,
      "outputs": [
        {
          "output_type": "execute_result",
          "data": {
            "text/plain": [
              "Pipeline(steps=[('standardscaler', StandardScaler(with_mean=False)),\n",
              "                ('linearregression', LinearRegression())])"
            ]
          },
          "metadata": {},
          "execution_count": 65
        }
      ]
    },
    {
      "cell_type": "code",
      "source": [
        "pred = model.predict(X_test)\n",
        "plt.scatter(y_test, pred)"
      ],
      "metadata": {
        "colab": {
          "base_uri": "https://localhost:8080/",
          "height": 402
        },
        "id": "uB-MtJdkNts2",
        "outputId": "8ceb3e61-cd57-4b6c-ac74-347ab4c69a4d"
      },
      "execution_count": 66,
      "outputs": [
        {
          "output_type": "execute_result",
          "data": {
            "text/plain": [
              "<matplotlib.collections.PathCollection at 0x7f0851335190>"
            ]
          },
          "metadata": {},
          "execution_count": 66
        },
        {
          "output_type": "display_data",
          "data": {
            "text/plain": [
              "<Figure size 600x400 with 1 Axes>"
            ],
            "image/png": "[encoded data removed]"
          },
          "metadata": {}
        }
      ]
    },
    {
      "cell_type": "markdown",
      "source": [
        "* we had made a feature named prediction for X_test and plotted a scatter plot for y_test and prediction "
      ],
      "metadata": {
        "id": "esWOv5Gfn0UC"
      }
    },
    {
      "cell_type": "code",
      "source": [
        "sns.distplot((y_test, pred),bins=50)"
      ],
      "metadata": {
        "colab": {
          "base_uri": "https://localhost:8080/",
          "height": 456
        },
        "id": "TcsmFGzLmF6U",
        "outputId": "5f9550c1-953b-4ae7-c6d7-135cbccb1022"
      },
      "execution_count": 67,
      "outputs": [
        {
          "output_type": "stream",
          "name": "stderr",
          "text": [
            "/usr/local/lib/python3.7/dist-packages/seaborn/distributions.py:2619: FutureWarning: `distplot` is a deprecated function and will be removed in a future version. Please adapt your code to use either `displot` (a figure-level function with similar flexibility) or `histplot` (an axes-level function for histograms).\n",
            "  warnings.warn(msg, FutureWarning)\n"
          ]
        },
        {
          "output_type": "execute_result",
          "data": {
            "text/plain": [
              "<matplotlib.axes._subplots.AxesSubplot at 0x7f08513621d0>"
            ]
          },
          "metadata": {},
          "execution_count": 67
        },
        {
          "output_type": "display_data",
          "data": {
            "text/plain": [
              "<Figure size 600x400 with 1 Axes>"
            ],
            "image/png": "[encoded data removed]"
          },
          "metadata": {}
        }
      ]
    },
    {
      "cell_type": "markdown",
      "source": [
        "* we plotted a distplot for y_test and prediction to see the model is well shaped"
      ],
      "metadata": {
        "id": "rIIc2Ty5oxw8"
      }
    },
    {
      "cell_type": "code",
      "source": [
        "from sklearn import metrics\n",
        "from sklearn.model_selection import cross_val_score\n",
        "def cross_val(model):\n",
        "    pred = cross_val_score(model, X, y, cv=10)\n",
        "    return pred.mean()\n",
        "\n",
        "def print_evaluate(true, predicted):  \n",
        "    mae = metrics.mean_absolute_error(true, predicted)\n",
        "    mse = metrics.mean_squared_error(true, predicted)\n",
        "    rmse = np.sqrt(metrics.mean_squared_error(true, predicted))\n",
        "    r2_square = metrics.r2_score(true, predicted)\n",
        "    print('MAE:', mae)\n",
        "    print('MSE:', mse)\n",
        "    print('RMSE:', rmse)\n",
        "    print('R2 Square', r2_square)\n",
        "    print('__________________________________')\n",
        "\n",
        "def evaluate(true, predicted):\n",
        "    mae = metrics.mean_absolute_error(true, predicted)\n",
        "    mse = metrics.mean_squared_error(true, predicted)\n",
        "    rmse = np.sqrt(metrics.mean_squared_error(true, predicted))\n",
        "    r2_square = metrics.r2_score(true, predicted)\n",
        "    return mae, mse, rmse, r2_square\n",
        "test_pred = model.predict(X_test)\n",
        "train_pred = model.predict(X_train)\n",
        "print_evaluate(y_test, test_pred)\n",
        "print_evaluate(y_train, train_pred)"
      ],
      "metadata": {
        "colab": {
          "base_uri": "https://localhost:8080/"
        },
        "id": "6tQ1bCikN0Xc",
        "outputId": "1aec02d6-f417-4ee8-bb6f-3f19113e4cc8"
      },
      "execution_count": 68,
      "outputs": [
        {
          "output_type": "stream",
          "name": "stdout",
          "text": [
            "MAE: 1541583.3974096593\n",
            "MSE: 3880909301811.3916\n",
            "RMSE: 1970002.360864421\n",
            "R2 Square 0.736645232596667\n",
            "__________________________________\n",
            "MAE: 1516863.1580880748\n",
            "MSE: 3673051927284.9453\n",
            "RMSE: 1916520.7870735307\n",
            "R2 Square 0.7370691885993597\n",
            "__________________________________\n"
          ]
        }
      ]
    },
    {
      "cell_type": "code",
      "source": [
        "results = pd.DataFrame(data=[[\"Linear Regression\", *evaluate(y_test, test_pred) , cross_val(LinearRegression())]], \n",
        "                          columns=['Model', 'MAE', 'MSE', 'RMSE', 'R2 Square', \"Cross Validation\"])\n",
        "results"
      ],
      "metadata": {
        "colab": {
          "base_uri": "https://localhost:8080/",
          "height": 80
        },
        "id": "71dyDXbvN8wC",
        "outputId": "99448052-c5d1-47d1-a0ff-f416b575b7d8"
      },
      "execution_count": 69,
      "outputs": [
        {
          "output_type": "execute_result",
          "data": {
            "text/plain": [
              "               Model           MAE           MSE          RMSE  R2 Square  \\\n",
              "0  Linear Regression  1.541583e+06  3.880909e+12  1.970002e+06   0.736645   \n",
              "\n",
              "   Cross Validation  \n",
              "0           0.73448  "
            ],
            "text/html": [
              "\n",
              "  <div id=\"df-0b80bd1b-755e-4064-b188-f117ec275b2c\">\n",
              "    <div class=\"colab-df-container\">\n",
              "      <div>\n",
              "<style scoped>\n",
              "    .dataframe tbody tr th:only-of-type {\n",
              "        vertical-align: middle;\n",
              "    }\n",
              "\n",
              "    .dataframe tbody tr th {\n",
              "        vertical-align: top;\n",
              "    }\n",
              "\n",
              "    .dataframe thead th {\n",
              "        text-align: right;\n",
              "    }\n",
              "</style>\n",
              "<table border=\"1\" class=\"dataframe\">\n",
              "  <thead>\n",
              "    <tr style=\"text-align: right;\">\n",
              "      <th></th>\n",
              "      <th>Model</th>\n",
              "      <th>MAE</th>\n",
              "      <th>MSE</th>\n",
              "      <th>RMSE</th>\n",
              "      <th>R2 Square</th>\n",
              "      <th>Cross Validation</th>\n",
              "    </tr>\n",
              "  </thead>\n",
              "  <tbody>\n",
              "    <tr>\n",
              "      <th>0</th>\n",
              "      <td>Linear Regression</td>\n",
              "      <td>1.541583e+06</td>\n",
              "      <td>3.880909e+12</td>\n",
              "      <td>1.970002e+06</td>\n",
              "      <td>0.736645</td>\n",
              "      <td>0.73448</td>\n",
              "    </tr>\n",
              "  </tbody>\n",
              "</table>\n",
              "</div>\n",
              "      <button class=\"colab-df-convert\" onclick=\"convertToInteractive('df-0b80bd1b-755e-4064-b188-f117ec275b2c')\"\n",
              "              title=\"Convert this dataframe to an interactive table.\"\n",
              "              style=\"display:none;\">\n",
              "        \n",
              "  <svg xmlns=\"http://www.w3.org/2000/svg\" height=\"24px\"viewBox=\"0 0 24 24\"\n",
              "       width=\"24px\">\n",
              "    <path d=\"M0 0h24v24H0V0z\" fill=\"none\"/>\n",
              "    <path d=\"M18.56 5.44l.94 2.06.94-2.06 2.06-.94-2.06-.94-.94-2.06-.94 2.06-2.06.94zm-11 1L8.5 8.5l.94-2.06 2.06-.94-2.06-.94L8.5 2.5l-.94 2.06-2.06.94zm10 10l.94 2.06.94-2.06 2.06-.94-2.06-.94-.94-2.06-.94 2.06-2.06.94z\"/><path d=\"M17.41 7.96l-1.37-1.37c-.4-.4-.92-.59-1.43-.59-.52 0-1.04.2-1.43.59L10.3 9.45l-7.72 7.72c-.78.78-.78 2.05 0 2.83L4 21.41c.39.39.9.59 1.41.59.51 0 1.02-.2 1.41-.59l7.78-7.78 2.81-2.81c.8-.78.8-2.07 0-2.86zM5.41 20L4 18.59l7.72-7.72 1.47 1.35L5.41 20z\"/>\n",
              "  </svg>\n",
              "      </button>\n",
              "      \n",
              "  <style>\n",
              "    .colab-df-container {\n",
              "      display:flex;\n",
              "      flex-wrap:wrap;\n",
              "      gap: 12px;\n",
              "    }\n",
              "\n",
              "    .colab-df-convert {\n",
              "      background-color: #E8F0FE;\n",
              "      border: none;\n",
              "      border-radius: 50%;\n",
              "      cursor: pointer;\n",
              "      display: none;\n",
              "      fill: #1967D2;\n",
              "      height: 32px;\n",
              "      padding: 0 0 0 0;\n",
              "      width: 32px;\n",
              "    }\n",
              "\n",
              "    .colab-df-convert:hover {\n",
              "      background-color: #E2EBFA;\n",
              "      box-shadow: 0px 1px 2px rgba(60, 64, 67, 0.3), 0px 1px 3px 1px rgba(60, 64, 67, 0.15);\n",
              "      fill: #174EA6;\n",
              "    }\n",
              "\n",
              "    [theme=dark] .colab-df-convert {\n",
              "      background-color: #3B4455;\n",
              "      fill: #D2E3FC;\n",
              "    }\n",
              "\n",
              "    [theme=dark] .colab-df-convert:hover {\n",
              "      background-color: #434B5C;\n",
              "      box-shadow: 0px 1px 3px 1px rgba(0, 0, 0, 0.15);\n",
              "      filter: drop-shadow(0px 1px 2px rgba(0, 0, 0, 0.3));\n",
              "      fill: #FFFFFF;\n",
              "    }\n",
              "  </style>\n",
              "\n",
              "      <script>\n",
              "        const buttonEl =\n",
              "          document.querySelector('#df-0b80bd1b-755e-4064-b188-f117ec275b2c button.colab-df-convert');\n",
              "        buttonEl.style.display =\n",
              "          google.colab.kernel.accessAllowed ? 'block' : 'none';\n",
              "\n",
              "        async function convertToInteractive(key) {\n",
              "          const element = document.querySelector('#df-0b80bd1b-755e-4064-b188-f117ec275b2c');\n",
              "          const dataTable =\n",
              "            await google.colab.kernel.invokeFunction('convertToInteractive',\n",
              "                                                     [key], {});\n",
              "          if (!dataTable) return;\n",
              "\n",
              "          const docLinkHtml = 'Like what you see? Visit the ' +\n",
              "            '<a target=\"_blank\" href=https://colab.research.google.com/notebooks/data_table.ipynb>data table notebook</a>'\n",
              "            + ' to learn more about interactive tables.';\n",
              "          element.innerHTML = '';\n",
              "          dataTable['output_type'] = 'display_data';\n",
              "          await google.colab.output.renderOutput(dataTable, element);\n",
              "          const docLink = document.createElement('div');\n",
              "          docLink.innerHTML = docLinkHtml;\n",
              "          element.appendChild(docLink);\n",
              "        }\n",
              "      </script>\n",
              "    </div>\n",
              "  </div>\n",
              "  "
            ]
          },
          "metadata": {},
          "execution_count": 69
        }
      ]
    },
    {
      "cell_type": "markdown",
      "source": [
        "### Export location and column information to a file that will be useful later on in our prediction application"
      ],
      "metadata": {
        "id": "CKE7eu0-OKNc"
      }
    },
    {
      "cell_type": "code",
      "source": [
        "import json\n",
        "columns = {\n",
        "    'data_columns' : [col.lower() for col in X.columns]\n",
        "}\n",
        "with open(\"columns.json\",\"w\") as f:\n",
        "    f.write(json.dumps(columns))"
      ],
      "metadata": {
        "id": "4MyBsMNcODE8"
      },
      "execution_count": 70,
      "outputs": []
    }
  ]
}